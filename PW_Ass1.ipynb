{
  "nbformat": 4,
  "nbformat_minor": 0,
  "metadata": {
    "colab": {
      "provenance": []
    },
    "kernelspec": {
      "name": "python3",
      "display_name": "Python 3"
    },
    "language_info": {
      "name": "python"
    }
  },
  "cells": [
    {
      "cell_type": "markdown",
      "source": [
        "\n",
        "\n",
        "<H2>Python Collections (Arrays)</H2>\n",
        "There are four collection data types in the Python programming language:\n",
        "\n",
        "<ul>\n",
        "<li><B>List</B> is a collection which is <b><u><font color=blue>ordered</font></u></b> and <b><u><font color=blue>changeable</font></u></b>. <b><u><font color=red>Allows</u> duplicate members</font></u></b>.\n",
        "\n",
        "<li><B>Tuple</B> is a collection which is <b><u><font color=blue>ordered</font></u></b> and <b><u><font color=blue>unchangeable</font></u></b>. <b><u><font color=red>Allows</u> duplicate members</b></u></font>.\n",
        "\n",
        "<li><B>Set</B> is a collection which is <b><u><font color=red>unordered, unchangeable</u>*</font></b>, and <b><u><font color=red>unindexed</font></u></b>. <b><u><font color=blue>No duplicate members</font></u></b>.\n",
        "\n",
        "<li><B>Dictionary</B> is a collection which is <b><u><font color=red>ordered</u>**</font></b> and <b><u><font color=red>changeable</font></u></b>. <b><u><font color=blue>No duplicate members</font></u></b>.\n",
        "</ul>\n",
        "\n",
        "<B>Reference:- [Link](https://www.w3schools.com/Python/python_tuples.asp)</B>\n"
      ],
      "metadata": {
        "id": "NZCQSjNiwIkH"
      }
    },
    {
      "cell_type": "markdown",
      "source": [
        "<B>Q1. Create one variable containing following type of data:\n",
        "\n",
        "<ol>\n",
        "  <li>String\n",
        "  <li>List\n",
        "  <li>Tuple\n",
        "  <li>Float\n",
        "</ol></B>"
      ],
      "metadata": {
        "id": "6G9WmGXMXE3Q"
      }
    },
    {
      "cell_type": "code",
      "source": [
        "a='Sahabzada' ##String\n",
        "b= [\"Sahabzada, Betab, Badar\"] ##List\n",
        "c= ('S','B','Badar')  ##Tuple\n",
        "d= 3.14  ##Float\n",
        "e= ('Sahabzada',['Sahabzada', 'Betab', 'Badar'], ('S','B','Badar'), 3.14) ## I didn't use set because sets are immutable data type and can not have mutable datatype."
      ],
      "metadata": {
        "id": "LxcFsXdBXDTj"
      },
      "execution_count": 4,
      "outputs": []
    },
    {
      "cell_type": "code",
      "source": [
        "print('a: ', (type(a)))\n",
        "print('b: ', (type(b)))\n",
        "print('c: ', (type(c)))\n",
        "print('d: ', (type(d)))\n",
        "\n",
        "print('e: ', (type(e)))\n",
        "print('e[0]: ', (type(e[0])))\n",
        "print ('e[1]: ', (type(e[1])))\n",
        "print ('e[1][0]: ', (type(e[1][0])))\n",
        "print ('e[2]: ', (type(e[2])))\n",
        "print ('e[2][0]: ', (type(e[2][0])))\n",
        "print ('e[3]: ', (type(e[3])))\n",
        "\n",
        "\n"
      ],
      "metadata": {
        "colab": {
          "base_uri": "https://localhost:8080/"
        },
        "id": "RVIYCimd-t-i",
        "outputId": "d5b3a9e8-5896-470d-9b0e-382ea922962a"
      },
      "execution_count": 5,
      "outputs": [
        {
          "output_type": "stream",
          "name": "stdout",
          "text": [
            "a:  <class 'str'>\n",
            "b:  <class 'list'>\n",
            "c:  <class 'tuple'>\n",
            "d:  <class 'float'>\n",
            "e:  <class 'tuple'>\n",
            "e[0]:  <class 'str'>\n",
            "e[1]:  <class 'list'>\n",
            "e[1][0]:  <class 'str'>\n",
            "e[2]:  <class 'tuple'>\n",
            "e[2][0]:  <class 'str'>\n",
            "e[3]:  <class 'float'>\n"
          ]
        }
      ]
    },
    {
      "cell_type": "markdown",
      "source": [
        "<B>Q2. Given are some following variables containing data:\n",
        "<ol>\n",
        "  <li>var1 = ‘ ‘\n",
        "  <li>var2 = ‘[ DS , ML , Python]’\n",
        "  <li>var3 = [ ‘DS’ , ’ML’ , ‘Python’ ]\n",
        "  <li>var4 = 1.\n",
        "</ol></B>\n",
        "\n",
        "<P><B>What will be the data type of the above given variable."
      ],
      "metadata": {
        "id": "l-8yiLOSp7L2"
      }
    },
    {
      "cell_type": "code",
      "source": [
        "var1='' #string\n",
        "var2='[DS,ML,Python]' #string\n",
        "var3= ['DS' , 'ML', 'Python'] #list\n",
        "var4= 1 #int"
      ],
      "metadata": {
        "id": "-C3rlB3qr_Ny"
      },
      "execution_count": 6,
      "outputs": []
    },
    {
      "cell_type": "code",
      "source": [
        "print('var1: ', (type(var1)))\n",
        "print('var2: ', (type(var2)))\n",
        "print('var3: ', (type(var3)))\n",
        "print('var4: ', (type(var4)))"
      ],
      "metadata": {
        "colab": {
          "base_uri": "https://localhost:8080/"
        },
        "id": "nu3DD4t1vXef",
        "outputId": "fc5fb3c6-2001-4c31-a770-5ef9b96dbcd0"
      },
      "execution_count": 7,
      "outputs": [
        {
          "output_type": "stream",
          "name": "stdout",
          "text": [
            "var1:  <class 'str'>\n",
            "var2:  <class 'str'>\n",
            "var3:  <class 'list'>\n",
            "var4:  <class 'int'>\n"
          ]
        }
      ]
    },
    {
      "cell_type": "markdown",
      "source": [
        "<B>Q3. Explain the use of the following operators using an example:</B>\n",
        "\n",
        "<ol>\n",
        "<li>/\n",
        "<li>%\n",
        "<li>//\n",
        "<li>**"
      ],
      "metadata": {
        "id": "ERjOf04SuQkN"
      }
    },
    {
      "cell_type": "markdown",
      "source": [
        "<ol>\n",
        "<B><li>/ (Division Operator)</B>- This is one of the arithematic operator which split the mathematical identities into desired equal halves.\n",
        "\n",
        "<P>In Python we just use it as Numerator/Denominator.\n",
        "<Br><B>Numerator</B> will be the mathematical identity which we want to split and <Br><B>Denominator</B> will be the no of desired half we want of the numerator.\n",
        "\n",
        "<P><B> Example:-"
      ],
      "metadata": {
        "id": "DHawsVCbvtaB"
      }
    },
    {
      "cell_type": "code",
      "source": [
        "56/7"
      ],
      "metadata": {
        "colab": {
          "base_uri": "https://localhost:8080/"
        },
        "id": "MdMsk0jbvZa4",
        "outputId": "b7f31848-a0c1-466a-8503-4a6acd48c8e6"
      },
      "execution_count": 8,
      "outputs": [
        {
          "output_type": "execute_result",
          "data": {
            "text/plain": [
              "8.0"
            ]
          },
          "metadata": {},
          "execution_count": 8
        }
      ]
    },
    {
      "cell_type": "markdown",
      "source": [
        "<ol>\n",
        "2.<B> % (Modulo Operator)</B>- This is one of the arithematic operator which gives reminder upon implication.\n",
        "\n",
        "<ul>\n",
        "<li><B>Reminder</B> meanse the quantity by which numerator is less than being distributed into equal halves of denominator.\n",
        "</ul>\n",
        "\n",
        "<P> In Python we just use it as Numerator % Denominator.\n",
        "<B><P> Example:-"
      ],
      "metadata": {
        "id": "jwgQ8hXe4AD-"
      }
    },
    {
      "cell_type": "code",
      "source": [
        "7%2"
      ],
      "metadata": {
        "colab": {
          "base_uri": "https://localhost:8080/"
        },
        "id": "PSV19w5cATc2",
        "outputId": "d243b531-f253-4e1f-8916-0be9cd706b14"
      },
      "execution_count": 9,
      "outputs": [
        {
          "output_type": "execute_result",
          "data": {
            "text/plain": [
              "1"
            ]
          },
          "metadata": {},
          "execution_count": 9
        }
      ]
    },
    {
      "cell_type": "markdown",
      "source": [
        "<ol>\n",
        "3. <B>// (Floor Operator)</B>- This is one of the arithematic operator which upon implication gives result of division before decimal.\n",
        "\n",
        "<P> In python we just use it as Numerator // Denominator\n",
        "\n",
        "<P><B> Example:-"
      ],
      "metadata": {
        "id": "H9-EFty5AtV5"
      }
    },
    {
      "cell_type": "code",
      "source": [
        "5//2"
      ],
      "metadata": {
        "colab": {
          "base_uri": "https://localhost:8080/"
        },
        "id": "Rt1bPYN8C7kN",
        "outputId": "6b66041c-7db7-4182-ecc2-023c979f7c28"
      },
      "execution_count": 10,
      "outputs": [
        {
          "output_type": "execute_result",
          "data": {
            "text/plain": [
              "2"
            ]
          },
          "metadata": {},
          "execution_count": 10
        }
      ]
    },
    {
      "cell_type": "markdown",
      "source": [
        "<ol>\n",
        "4. <B>** (Exponentiation Operator)</B>- This is one of the arithematic operator which on implication gives result of exponent.\n",
        "\n",
        "<P> In Python we just use it as Number ** Exponent\n",
        "\n",
        "<B><P> Example:-"
      ],
      "metadata": {
        "id": "tVrP1tMPIjt0"
      }
    },
    {
      "cell_type": "code",
      "source": [
        "3**2"
      ],
      "metadata": {
        "colab": {
          "base_uri": "https://localhost:8080/"
        },
        "id": "a4qLsOmRLG_r",
        "outputId": "562e2fd3-164f-4c77-e7ca-c6b285aa66b4"
      },
      "execution_count": 11,
      "outputs": [
        {
          "output_type": "execute_result",
          "data": {
            "text/plain": [
              "9"
            ]
          },
          "metadata": {},
          "execution_count": 11
        }
      ]
    },
    {
      "cell_type": "markdown",
      "source": [
        "<B>Q4. Create a list of length 10 of your choice containing multiple types of data. Using for loop print the element and its data type."
      ],
      "metadata": {
        "id": "djO-0_59N1yZ"
      }
    },
    {
      "cell_type": "code",
      "source": [
        "var=[100,66.34,2+7j,'badar',[1,'a',('badar',3,4),],(\"betab\", \"badar\"),{\"AIM\":\"Data_Engineer\",\"Course\":\"PW_SKILLS\"},{1,2,3},True,bin(10)]"
      ],
      "metadata": {
        "id": "LPC0l5pRX3Z3"
      },
      "execution_count": 12,
      "outputs": []
    },
    {
      "cell_type": "code",
      "source": [
        "for i in var:\n",
        "  print (type(i))"
      ],
      "metadata": {
        "colab": {
          "base_uri": "https://localhost:8080/"
        },
        "id": "ODsxsoprQwfl",
        "outputId": "5ab0fede-372f-4e03-fa64-b4f01d7a9882"
      },
      "execution_count": 13,
      "outputs": [
        {
          "output_type": "stream",
          "name": "stdout",
          "text": [
            "<class 'int'>\n",
            "<class 'float'>\n",
            "<class 'complex'>\n",
            "<class 'str'>\n",
            "<class 'list'>\n",
            "<class 'tuple'>\n",
            "<class 'dict'>\n",
            "<class 'set'>\n",
            "<class 'bool'>\n",
            "<class 'str'>\n"
          ]
        }
      ]
    },
    {
      "cell_type": "markdown",
      "source": [
        "**Q5. Using a while loop, verify if the number A is purely divisible by number B and if so then how many times it can be divisible.**"
      ],
      "metadata": {
        "id": "lDPyHAzMgirm"
      }
    },
    {
      "cell_type": "code",
      "source": [
        "A=int(input('Insert a number: '))\n",
        "B=int(input('Insert a no to check the divisibility '))\n",
        "\n",
        "while A%B==0:\n",
        "  C=A/B\n",
        "  print('It is purely divisible in', C , 'times')\n",
        "  break;\n",
        "else:\n",
        "  print('It is not divisible')"
      ],
      "metadata": {
        "colab": {
          "base_uri": "https://localhost:8080/"
        },
        "id": "cfh4AHV-KaeM",
        "outputId": "c470a11a-e21b-47d0-d02d-4531de1cb343"
      },
      "execution_count": 18,
      "outputs": [
        {
          "output_type": "stream",
          "name": "stdout",
          "text": [
            "Insert a number: 95\n",
            "Insert a no to check the divisibility 5\n",
            "It is purely divisible in 19.0 times\n"
          ]
        }
      ]
    },
    {
      "cell_type": "code",
      "source": [
        "A=int(input('Insert a number: '))\n",
        "B=int(input('Insert no to check the divisibility '))\n",
        "\n",
        "if A%B==0:\n",
        "  C=A/B\n",
        "  print('It is purely divisible in', C ,'times')\n",
        "else:\n",
        "  print('It is not divisible')\n"
      ],
      "metadata": {
        "id": "nFhWXiqkRgvy",
        "colab": {
          "base_uri": "https://localhost:8080/"
        },
        "outputId": "fc6ab871-3e9d-4001-c55c-7a48d1cf373f"
      },
      "execution_count": 19,
      "outputs": [
        {
          "output_type": "stream",
          "name": "stdout",
          "text": [
            "Insert a number: 75\n",
            "Insert no to check the divisibility 5\n",
            "It is purely divisible in 15.0 times\n"
          ]
        }
      ]
    },
    {
      "cell_type": "markdown",
      "source": [
        "**Q6. Create a list containing 25 int type data. Using for loop and if-else condition print if the element is divisible by 3 or not.**"
      ],
      "metadata": {
        "id": "HKeVbYCQwHvW"
      }
    },
    {
      "cell_type": "code",
      "source": [
        "#Creating 25 random integers\n",
        "l1=[] # Defining empty list to store 25 random numbers\n",
        "import random # Importing Library Random\n",
        "for i in range(25): #\n",
        "  i=random.randint(1,100)\n",
        "  l1.append(random.randint(1,100))"
      ],
      "metadata": {
        "id": "LDjkbjQTwSF5"
      },
      "execution_count": 20,
      "outputs": []
    },
    {
      "cell_type": "code",
      "source": [
        "print(l1)"
      ],
      "metadata": {
        "colab": {
          "base_uri": "https://localhost:8080/"
        },
        "id": "jyCVnDtT7mJ6",
        "outputId": "de030b3a-9ded-4994-85dd-cc5cc6bae35f"
      },
      "execution_count": 21,
      "outputs": [
        {
          "output_type": "stream",
          "name": "stdout",
          "text": [
            "[52, 54, 72, 42, 42, 36, 45, 72, 100, 85, 54, 37, 13, 56, 56, 74, 9, 12, 59, 7, 67, 74, 33, 37, 21]\n"
          ]
        }
      ]
    },
    {
      "cell_type": "code",
      "source": [
        "len(l1)"
      ],
      "metadata": {
        "colab": {
          "base_uri": "https://localhost:8080/"
        },
        "id": "TbSTxsWm8Gc2",
        "outputId": "65470200-7a42-48e6-e3fa-945291a53e2a"
      },
      "execution_count": 22,
      "outputs": [
        {
          "output_type": "execute_result",
          "data": {
            "text/plain": [
              "25"
            ]
          },
          "metadata": {},
          "execution_count": 22
        }
      ]
    },
    {
      "cell_type": "code",
      "source": [
        "for i in l1:\n",
        "  if int(i%3)==int(0):\n",
        "    print ([i, \"Yes\"], end='')\n",
        "  else:\n",
        "    print ([i,'N0'], end='')\n"
      ],
      "metadata": {
        "colab": {
          "base_uri": "https://localhost:8080/"
        },
        "id": "O2yiX_fH8lgy",
        "outputId": "9439a3f7-ecfe-4c5c-bb39-0ffbc7da94a0"
      },
      "execution_count": 23,
      "outputs": [
        {
          "output_type": "stream",
          "name": "stdout",
          "text": [
            "[52, 'N0'][54, 'Yes'][72, 'Yes'][42, 'Yes'][42, 'Yes'][36, 'Yes'][45, 'Yes'][72, 'Yes'][100, 'N0'][85, 'N0'][54, 'Yes'][37, 'N0'][13, 'N0'][56, 'N0'][56, 'N0'][74, 'N0'][9, 'Yes'][12, 'Yes'][59, 'N0'][7, 'N0'][67, 'N0'][74, 'N0'][33, 'Yes'][37, 'N0'][21, 'Yes']"
          ]
        }
      ]
    },
    {
      "cell_type": "markdown",
      "source": [
        "**Q7. What do you understand about mutable and immutable data types? Give examples for both showing this property.**"
      ],
      "metadata": {
        "id": "w8Rn2VAnCNSI"
      }
    },
    {
      "cell_type": "markdown",
      "source": [
        "**Mutable Data Type:** These are the data type whose element or itself can be changed after creation.\n",
        "\n",
        "**For example:** List"
      ],
      "metadata": {
        "id": "UUSIWMN0VvWs"
      }
    },
    {
      "cell_type": "code",
      "source": [
        "u=[1,2,3,4,5] #List Difinition\n"
      ],
      "metadata": {
        "id": "g_6VpAEaCUoN"
      },
      "execution_count": 24,
      "outputs": []
    },
    {
      "cell_type": "code",
      "source": [
        "u #List"
      ],
      "metadata": {
        "colab": {
          "base_uri": "https://localhost:8080/"
        },
        "id": "eepydihDjd2H",
        "outputId": "9d127009-4617-41ef-bcb5-908cc56b1dfa"
      },
      "execution_count": 25,
      "outputs": [
        {
          "output_type": "execute_result",
          "data": {
            "text/plain": [
              "[1, 2, 3, 4, 5]"
            ]
          },
          "metadata": {},
          "execution_count": 25
        }
      ]
    },
    {
      "cell_type": "code",
      "source": [
        "u[2]=8 #Try to mutate by index"
      ],
      "metadata": {
        "id": "MpTTXBTKZMtM"
      },
      "execution_count": 26,
      "outputs": []
    },
    {
      "cell_type": "code",
      "source": [
        "u #successfully mutated the list"
      ],
      "metadata": {
        "colab": {
          "base_uri": "https://localhost:8080/"
        },
        "id": "XPznpAcgZTlf",
        "outputId": "6a212d38-f536-4559-d13a-94dabd5f955f"
      },
      "execution_count": 27,
      "outputs": [
        {
          "output_type": "execute_result",
          "data": {
            "text/plain": [
              "[1, 2, 8, 4, 5]"
            ]
          },
          "metadata": {},
          "execution_count": 27
        }
      ]
    },
    {
      "cell_type": "markdown",
      "source": [
        "**Immutable Data Type:** These are the data type whose elements or itself can not be changed after creation.\n",
        "\n",
        "**For example:** Tuple"
      ],
      "metadata": {
        "id": "v6BfK-WWZz7l"
      }
    },
    {
      "cell_type": "code",
      "source": [
        "u1=(1,2,3,4,5) #Tuple Definition"
      ],
      "metadata": {
        "id": "y9evYxaYZ6PF"
      },
      "execution_count": 28,
      "outputs": []
    },
    {
      "cell_type": "code",
      "source": [
        "u1 # Tuple"
      ],
      "metadata": {
        "colab": {
          "base_uri": "https://localhost:8080/"
        },
        "id": "DZIUnGYbb4Fq",
        "outputId": "6135316b-5b77-447b-8c40-e15d8fa3741c"
      },
      "execution_count": 29,
      "outputs": [
        {
          "output_type": "execute_result",
          "data": {
            "text/plain": [
              "(1, 2, 3, 4, 5)"
            ]
          },
          "metadata": {},
          "execution_count": 29
        }
      ]
    },
    {
      "cell_type": "code",
      "source": [
        "u1[2]=7 #Try to mutate by index and got failed because of its immutability."
      ],
      "metadata": {
        "colab": {
          "base_uri": "https://localhost:8080/",
          "height": 141
        },
        "id": "P8S2_9j_aBjL",
        "outputId": "5c9b1dfe-a2b3-4392-dcca-516dd070e029"
      },
      "execution_count": 30,
      "outputs": [
        {
          "output_type": "error",
          "ename": "TypeError",
          "evalue": "'tuple' object does not support item assignment",
          "traceback": [
            "\u001b[0;31m---------------------------------------------------------------------------\u001b[0m",
            "\u001b[0;31mTypeError\u001b[0m                                 Traceback (most recent call last)",
            "\u001b[0;32m<ipython-input-30-c7996226881b>\u001b[0m in \u001b[0;36m<cell line: 1>\u001b[0;34m()\u001b[0m\n\u001b[0;32m----> 1\u001b[0;31m \u001b[0mu1\u001b[0m\u001b[0;34m[\u001b[0m\u001b[0;36m2\u001b[0m\u001b[0;34m]\u001b[0m\u001b[0;34m=\u001b[0m\u001b[0;36m7\u001b[0m \u001b[0;31m#Try to mutate by index and got failed because of its immutability.\u001b[0m\u001b[0;34m\u001b[0m\u001b[0;34m\u001b[0m\u001b[0m\n\u001b[0m",
            "\u001b[0;31mTypeError\u001b[0m: 'tuple' object does not support item assignment"
          ]
        }
      ]
    },
    {
      "cell_type": "markdown",
      "source": [
        "# **Approach to modify tuple**"
      ],
      "metadata": {
        "id": "Cdes1n2tmaCp"
      }
    },
    {
      "cell_type": "code",
      "source": [
        "u1 #Tuple"
      ],
      "metadata": {
        "colab": {
          "base_uri": "https://localhost:8080/"
        },
        "id": "MsJOrF4Kb8hc",
        "outputId": "4447528a-9c65-46a9-f649-84aa13ce4148"
      },
      "execution_count": 31,
      "outputs": [
        {
          "output_type": "execute_result",
          "data": {
            "text/plain": [
              "(1, 2, 3, 4, 5)"
            ]
          },
          "metadata": {},
          "execution_count": 31
        }
      ]
    },
    {
      "cell_type": "code",
      "source": [
        "type(u1) #Checking data type"
      ],
      "metadata": {
        "colab": {
          "base_uri": "https://localhost:8080/"
        },
        "id": "3fh5xCXEkB38",
        "outputId": "81c26749-dde9-484d-887d-a3c80582d01c"
      },
      "execution_count": 32,
      "outputs": [
        {
          "output_type": "execute_result",
          "data": {
            "text/plain": [
              "tuple"
            ]
          },
          "metadata": {},
          "execution_count": 32
        }
      ]
    },
    {
      "cell_type": "code",
      "source": [
        "u1=list(u1) #converting it into list"
      ],
      "metadata": {
        "id": "Bupl4P7hage4"
      },
      "execution_count": 33,
      "outputs": []
    },
    {
      "cell_type": "code",
      "source": [
        "type(u1) #checking type"
      ],
      "metadata": {
        "colab": {
          "base_uri": "https://localhost:8080/"
        },
        "id": "IbFoQowbkNXK",
        "outputId": "0dfe4685-c51c-4b2a-c0a2-77ea727e05c1"
      },
      "execution_count": 34,
      "outputs": [
        {
          "output_type": "execute_result",
          "data": {
            "text/plain": [
              "list"
            ]
          },
          "metadata": {},
          "execution_count": 34
        }
      ]
    },
    {
      "cell_type": "code",
      "source": [
        "u1 #Converted List from Tuple"
      ],
      "metadata": {
        "colab": {
          "base_uri": "https://localhost:8080/"
        },
        "id": "wk9bDXhzb_l1",
        "outputId": "7a6291df-3ac1-4e69-9bee-d0563c529d51"
      },
      "execution_count": 35,
      "outputs": [
        {
          "output_type": "execute_result",
          "data": {
            "text/plain": [
              "[1, 2, 3, 4, 5]"
            ]
          },
          "metadata": {},
          "execution_count": 35
        }
      ]
    },
    {
      "cell_type": "code",
      "source": [
        "u1[2]=7 #Modifing at certain index"
      ],
      "metadata": {
        "id": "u6T3TFd5b0AM"
      },
      "execution_count": 36,
      "outputs": []
    },
    {
      "cell_type": "code",
      "source": [
        "print(u1) #Checking modification"
      ],
      "metadata": {
        "colab": {
          "base_uri": "https://localhost:8080/"
        },
        "id": "aw36Izq8cCJU",
        "outputId": "7f698c2d-a824-4f6e-afca-cae768011e6b"
      },
      "execution_count": 37,
      "outputs": [
        {
          "output_type": "stream",
          "name": "stdout",
          "text": [
            "[1, 2, 7, 4, 5]\n"
          ]
        }
      ]
    },
    {
      "cell_type": "code",
      "source": [
        "u1= tuple(u1) #Converting List back to Tuple"
      ],
      "metadata": {
        "id": "IvSx2DEmdC2p"
      },
      "execution_count": 38,
      "outputs": []
    },
    {
      "cell_type": "code",
      "source": [
        "u1 #Tuple"
      ],
      "metadata": {
        "colab": {
          "base_uri": "https://localhost:8080/"
        },
        "id": "0ZXwRH1vdLzE",
        "outputId": "fccc827e-f141-4fa6-e7fc-27b78e2370f8"
      },
      "execution_count": 39,
      "outputs": [
        {
          "output_type": "execute_result",
          "data": {
            "text/plain": [
              "(1, 2, 7, 4, 5)"
            ]
          },
          "metadata": {},
          "execution_count": 39
        }
      ]
    }
  ]
}