{
  "cells": [
    {
      "cell_type": "markdown",
      "metadata": {
        "id": "gjigQ0baGDQH"
      },
      "source": [
        "# **Q1. How do you comment code in Python? What are the different types of comments?**"
      ]
    },
    {
      "cell_type": "markdown",
      "metadata": {
        "id": "jJ9fpiB1sDJn"
      },
      "source": [
        "**In python we comment code via # and teriple ''' and \"\"\".**<br><br>\n",
        "There are two types of comments in Python.\n",
        "\n",
        "<ul>\n",
        "<li> <U><B>Single Line comment</U> :</B> This is a way of commenting a line in which we use <B># (Hash)</B> at the begning of line to comment that line.\n",
        "</li>\n",
        "\n",
        "<ul>\n",
        "<li> We can comment multiple lines by single line comment by selecting all those line and using <B>Ctrl + /</B> shortcut.\n",
        "</li>\n",
        "</ul>\n",
        "\n",
        "<li><U><B>Multi Line comment</U> :</B> This is a way of commenting multiple line in which we use <B>\"\"\" (Double quote 3 time)</B> or <B>''' (Single quote 3 times)</B> at the begining and end of desired multiple lines.\n",
        "</ul>\n"
      ]
    },
    {
      "cell_type": "code",
      "execution_count": 5,
      "metadata": {
        "colab": {
          "base_uri": "https://localhost:8080/"
        },
        "id": "Je6J_SKBF1TB",
        "outputId": "d3b63843-0c1a-4572-8507-7f1d75ab1970"
      },
      "outputs": [
        {
          "name": "stdout",
          "output_type": "stream",
          "text": [
            "2\n",
            "1\n"
          ]
        }
      ],
      "source": [
        "\n",
        "\n",
        "l=[1,2,3,4]\n",
        "# Only # is used just below\n",
        "#print(l)\n",
        "\n",
        "# Ctrl + / is used just below\n",
        "# print (l[0])\n",
        "# print (l[1])\n",
        "\n",
        "# ''' is used below\n",
        "'''print (l[2])\n",
        "print (l[3])'''\n",
        "\n",
        "# \"\"\" is used just below\n",
        "\"\"\"print (l[-1])\n",
        "print (l[-2])\"\"\"\n",
        "\n",
        "# No coomenting technique is used below\n",
        "print (l[-3])\n",
        "print (l[-4])"
      ]
    },
    {
      "cell_type": "markdown",
      "metadata": {
        "id": "y8PoNV624wyO"
      },
      "source": [
        "# **Q2. What are variables in Python? How do you declare and assign values to variables?**"
      ]
    },
    {
      "cell_type": "markdown",
      "metadata": {
        "id": "fAh_HSRb5A5h"
      },
      "source": [
        "<P1><B>A variable is a nemed container used to store data in memory at certain location or address.</B></P1>\n",
        "\n",
        "<ul>\n",
        "<li><P2>Suppose, we are in a kitchen where we have well labeled multiple boxes of spices, like chilli, salt, turmeric and corriander arrenged on shelf.</ul></br></P2>\n",
        "\n",
        "Here,\n",
        "<ul>\n",
        "<li><B><U>Kitchen</U></B> represents computer's memory where data is stored like RAM.\n",
        "<li><B><U>Spices</U></B> represents data type (e.g int, float, str).\n",
        "<li><B><U>Boxes</U></B> represents its memory location where specific data is stored.\n",
        "<ul>\n",
        "<li> Each variable gets its own box.\n",
        "</ul>\n",
        "<li><B><U>Label</U></B> represents the name of variable we choose (e.g chilli, salt, turmeric etc).\n",
        "<li><B><U>Item</U></B> represents the actual data assigned to the variable (e.g chilli= 250 g, salt= 500 g).\n",
        "<li><B><U>Shelf</U></B> represents the data structure like list or dictionary that holds multiple values.\n",
        "<li><B><U>Cookbook</U></B> represents as a program with instruction (code) on how to use the ingredients (data).\n",
        "<li><B><U>Coocking Process</U></B> represents the execution of the program, where variables are accessed and manipulated.\n",
        "</ul>\n",
        "<br>\n",
        "<br>\n",
        "<P>We simply write the variable name to declare it and to assign value we use assignment operator <B>=</B> and we assign the value which we want to assign.</P>\n",
        "\n",
        "<H4><B>NOTE :</B></H4>\n",
        "<ul>\n",
        "<li>Python is dynamically typed, which means if we assign an integer value to a variable, it will automatically be treated as an integer.\n",
        "\n",
        "<li>While Python is dynamically typed, you can use type hints to indicate the intended data type of a variable. Type hints provide static analysis benefits and improve code readability.\n",
        "</ul>\n",
        "\n",
        "\n",
        "\n"
      ]
    },
    {
      "cell_type": "code",
      "execution_count": 8,
      "metadata": {
        "id": "23U0vCaW46qD"
      },
      "outputs": [],
      "source": [
        "age: int = 25"
      ]
    },
    {
      "cell_type": "markdown",
      "metadata": {
        "id": "D0oDJOUuazPm"
      },
      "source": [
        "# **Q3. How do you convert one data type to another in Python?**"
      ]
    },
    {
      "cell_type": "markdown",
      "metadata": {
        "id": "J_KpSlYBa7fE"
      },
      "source": [
        "We convert one data type into another by **typecasting.**<br>\n",
        "<br>\n",
        "<ul>\n",
        "<li><P> <B><U>Typecasting</U></B>: It is the process of converting a value from one data type to another dat type.\n",
        "\n",
        "There are two type of typecasting:\n",
        "<ul>\n",
        "<li> <B><U>Implicit Typecasting</U> :</B> The automatic conversion of data type of a variable into  another data type by Python itself to get the expected result of unique data type.\n",
        "<br>\n",
        "<br>\n",
        "<li> <B><U>Explicit Typecasting</U> :</B> The deliberate conversion of data type of a variable into another data type by user to get desired result of unique data type."
      ]
    },
    {
      "cell_type": "code",
      "execution_count": 27,
      "metadata": {
        "colab": {
          "base_uri": "https://localhost:8080/"
        },
        "id": "Gqs8zcgQbdLL",
        "outputId": "d05ad55a-6278-4926-aa9c-ac270d659b27"
      },
      "outputs": [
        {
          "name": "stdout",
          "output_type": "stream",
          "text": [
            "5.140000000000001\n",
            "[1, 2, 'a', 'b']\n",
            "(1, 2, 'a', 'b')\n"
          ]
        }
      ],
      "source": [
        "#Implicit Typecasting\n",
        "print(2+3.14)\n",
        "\n",
        "#Explicit Typecasting\n",
        "l1=[1,2,'a','b']\n",
        "print(l1)\n",
        "type(l1)\n",
        "l1=tuple(l1)\n",
        "print(l1)"
      ]
    },
    {
      "cell_type": "markdown",
      "metadata": {
        "id": "EbZVIaKZ_yYT"
      },
      "source": [
        "# **Q4. How do you write and execute a Python script from the command line?**"
      ]
    },
    {
      "cell_type": "markdown",
      "metadata": {},
      "source": [
        "<ul>\n",
        "<li>Open folder where .py file is located. \n",
        "<li>Right click and select open with terminal.\n",
        "<li>Use ls command to list directory content.\n",
        "<li>Then write python file name and hit enter.\n",
        "</ul>"
      ]
    },
    {
      "cell_type": "markdown",
      "metadata": {
        "id": "aWHC2Pu5FZyf"
      },
      "source": [
        "# **Q5. Given a list my_list = [1, 2, 3, 4, 5], write the code to slice the list and obtain the sub-list [2, 3].**"
      ]
    },
    {
      "cell_type": "code",
      "execution_count": 35,
      "metadata": {
        "colab": {
          "base_uri": "https://localhost:8080/"
        },
        "id": "ZiB2GxPlFgHR",
        "outputId": "7a3b2fd0-6168-4bf5-e963-e780b82568c3"
      },
      "outputs": [
        {
          "data": {
            "text/plain": [
              "[2, 3]"
            ]
          },
          "execution_count": 35,
          "metadata": {},
          "output_type": "execute_result"
        }
      ],
      "source": [
        "my_list=[1,2,3,4,5]\n",
        "my_list[1:3]"
      ]
    },
    {
      "cell_type": "markdown",
      "metadata": {
        "id": "gzpkOFQkGlLR"
      },
      "source": [
        "# **Q6. What is a complex number in mathematics, and how is it represented in Python?**"
      ]
    },
    {
      "cell_type": "markdown",
      "metadata": {
        "id": "cZzB1YhcSz4m"
      },
      "source": [
        "<P><B><U>Complex numbers</U></B> are defined as numbers of the form <B><U>x+iy</U></B>, where x and y are real numbers and i² = -1 or i = √-1.<br>\n",
        "It is represented x+yj. Where x and y are real numbers and only letter j represents imaginary part of this complex number.</P>"
      ]
    },
    {
      "cell_type": "code",
      "execution_count": 39,
      "metadata": {
        "colab": {
          "base_uri": "https://localhost:8080/"
        },
        "id": "ET2DkNEvZdeF",
        "outputId": "5678eac5-e582-412a-fbd8-4b3b10ebd166"
      },
      "outputs": [
        {
          "name": "stdout",
          "output_type": "stream",
          "text": [
            "(7+9j)\n",
            "<class 'complex'>\n"
          ]
        }
      ],
      "source": [
        "a=7+9j\n",
        "print(a)\n",
        "print(type(a))"
      ]
    },
    {
      "cell_type": "markdown",
      "metadata": {
        "id": "eYHgfE0aJSde"
      },
      "source": [
        "# **Q7. What is the correct way to declare a variable named age and assign the value 25 to it?**"
      ]
    },
    {
      "cell_type": "code",
      "execution_count": null,
      "metadata": {
        "id": "HabyCth5aEjP"
      },
      "outputs": [],
      "source": [
        "age = 25\n"
      ]
    },
    {
      "cell_type": "markdown",
      "metadata": {
        "id": "O_OWq0nxLIYD"
      },
      "source": [
        "# **Q8. Declare a variable named price and assign the value 9.99 to it. What data type does this variable belong to?**"
      ]
    },
    {
      "cell_type": "code",
      "execution_count": 40,
      "metadata": {
        "colab": {
          "base_uri": "https://localhost:8080/"
        },
        "id": "Fa98VxskfAcm",
        "outputId": "ed35537f-1ea1-470e-943c-b63994c0a9f4"
      },
      "outputs": [
        {
          "data": {
            "text/plain": [
              "float"
            ]
          },
          "execution_count": 40,
          "metadata": {},
          "output_type": "execute_result"
        }
      ],
      "source": [
        "price=9.99\n",
        "type(price)"
      ]
    },
    {
      "cell_type": "markdown",
      "metadata": {
        "id": "q7eleD4HLbNW"
      },
      "source": [
        "# **Q9. Create a variable named name and assign your full name to it as a string. How would you print the value of this variable?**"
      ]
    },
    {
      "cell_type": "code",
      "execution_count": 49,
      "metadata": {
        "colab": {
          "base_uri": "https://localhost:8080/"
        },
        "id": "nt4Is_lUfOqu",
        "outputId": "921ffff3-92fb-4e66-87e1-fc5a886404ea"
      },
      "outputs": [
        {
          "name": "stdout",
          "output_type": "stream",
          "text": [
            "Sahabzada Betab Badar\n",
            "SAHABZADA BETAB BADAR\n",
            "sahabzada betab badar\n"
          ]
        }
      ],
      "source": [
        "name='sahabzada betab badar'\n",
        "print(name.title())\n",
        "print(name.upper())\n",
        "print(name.lower())"
      ]
    },
    {
      "cell_type": "markdown",
      "metadata": {
        "id": "vhNi_VfsLkMB"
      },
      "source": [
        "# **Q10. Given the string \"Hello, World!\", extract the substring \"World\".**"
      ]
    },
    {
      "cell_type": "code",
      "execution_count": 71,
      "metadata": {
        "colab": {
          "base_uri": "https://localhost:8080/"
        },
        "id": "33g6DEwcglqM",
        "outputId": "ba09159c-9151-48bf-df0f-c00d30888410"
      },
      "outputs": [
        {
          "name": "stdout",
          "output_type": "stream",
          "text": [
            " World\n",
            "World\n"
          ]
        }
      ],
      "source": [
        "x='Hello, World!'\n",
        "print(x[-7:-1:1])\n",
        "print(x[7:12:1])"
      ]
    },
    {
      "cell_type": "markdown",
      "metadata": {
        "id": "QhcmKnIkLoAN"
      },
      "source": [
        "# **Q11. Create a variable named \"is_student\" and assign it a boolean value indicating whether you are currently a student or not.**"
      ]
    },
    {
      "cell_type": "code",
      "execution_count": 74,
      "metadata": {
        "id": "WsYmTmcFLgph"
      },
      "outputs": [],
      "source": [
        "is_student=True"
      ]
    }
  ],
  "metadata": {
    "colab": {
      "provenance": []
    },
    "kernelspec": {
      "display_name": "Python 3",
      "name": "python3"
    },
    "language_info": {
      "name": "python"
    }
  },
  "nbformat": 4,
  "nbformat_minor": 0
}
