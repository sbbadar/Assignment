{
  "cells": [
    {
      "cell_type": "markdown",
      "metadata": {
        "id": "view-in-github",
        "colab_type": "text"
      },
      "source": [
        "<a href=\"https://colab.research.google.com/github/sbbadar/Assignment/blob/main/PW_Ass3_03Feb.ipynb\" target=\"_parent\"><img src=\"https://colab.research.google.com/assets/colab-badge.svg\" alt=\"Open In Colab\"/></a>"
      ]
    },
    {
      "cell_type": "markdown",
      "metadata": {
        "id": "6i8mJspCKqPz"
      },
      "source": [
        "# **Q1. Which keyword is used to create a function? Create a function to return a list of odd numbers in the range of 1 to 25.**"
      ]
    },
    {
      "cell_type": "markdown",
      "metadata": {
        "id": "vYkPX7M2QhgV"
      },
      "source": [
        "The <B>\"def\"</B> keyword is used to create a function in python."
      ]
    },
    {
      "cell_type": "code",
      "execution_count": null,
      "metadata": {
        "colab": {
          "base_uri": "https://localhost:8080/"
        },
        "id": "ef5tpKhjXWmg",
        "outputId": "cf9a1fec-4ee7-4771-a70e-35efe63a1ecd"
      },
      "outputs": [
        {
          "name": "stdout",
          "output_type": "stream",
          "text": [
            "[1, 2, 3, 4, 5, 6, 7, 8, 9, 10, 11, 12, 13, 14, 15, 16, 17, 18, 19, 20, 21, 22, 23, 24, 25]\n"
          ]
        }
      ],
      "source": [
        "l= list(range(1,26))\n",
        "print(l)"
      ]
    },
    {
      "cell_type": "code",
      "execution_count": null,
      "metadata": {
        "id": "y7EczMe1T97l"
      },
      "outputs": [],
      "source": [
        "def odd(l):\n",
        "  l1=[]\n",
        "  for i in l:\n",
        "    if i%2!=0:\n",
        "      l1.append(i)\n",
        "    else:\n",
        "      continue\n",
        "  return l1"
      ]
    },
    {
      "cell_type": "code",
      "execution_count": null,
      "metadata": {
        "colab": {
          "base_uri": "https://localhost:8080/"
        },
        "id": "1ZvBO3WhWA_T",
        "outputId": "79c8c55c-a6d9-4da3-dc08-efbaaf0a82ab"
      },
      "outputs": [
        {
          "data": {
            "text/plain": [
              "[1, 3, 5, 7, 9, 11, 13, 15, 17, 19, 21, 23, 25]"
            ]
          },
          "execution_count": 39,
          "metadata": {},
          "output_type": "execute_result"
        }
      ],
      "source": [
        "odd(l)"
      ]
    },
    {
      "cell_type": "markdown",
      "metadata": {
        "id": "c4UDQAKBavW_"
      },
      "source": [
        "Creating function using lambda function"
      ]
    },
    {
      "cell_type": "code",
      "execution_count": null,
      "metadata": {
        "id": "yspgqaRMKdl2"
      },
      "outputs": [],
      "source": [
        "odd1=list(filter(lambda x: x%2 != 0,l))"
      ]
    },
    {
      "cell_type": "code",
      "execution_count": null,
      "metadata": {
        "colab": {
          "base_uri": "https://localhost:8080/"
        },
        "id": "oZXcbDJ8XmHQ",
        "outputId": "c078de01-a917-49a9-9262-e827bcaf5eb7"
      },
      "outputs": [
        {
          "data": {
            "text/plain": [
              "[1, 3, 5, 7, 9, 11, 13, 15, 17, 19, 21, 23, 25]"
            ]
          },
          "execution_count": 41,
          "metadata": {},
          "output_type": "execute_result"
        }
      ],
      "source": [
        "odd1"
      ]
    },
    {
      "cell_type": "markdown",
      "metadata": {
        "id": "qIjgu1AAdfW1"
      },
      "source": [
        "# <B><Label>Q2. Why <code>*</code><code>args</code> and <code>*</code><code>*</code><code>kwargs</code> is used in some functions? Create a function each for <code>*</code><code>args</code> and <code>*</code><code>*</code><code>kwargs</code> to demonstrate their use.</Label></B>"
      ]
    },
    {
      "cell_type": "markdown",
      "metadata": {
        "id": "Cqzqxd4X5zzh"
      },
      "source": [
        "<B>*args (Positional Arguments)</B> : is used to assign variable number of input to a function.\n",
        "<br>\n",
        "<br>\n",
        "<B>**kwargs (Key Value Arguments)</B> : is used to assign variable number of input to a function in the <B><U>(Key : Value)</U></B> formate.\n"
      ]
    },
    {
      "cell_type": "code",
      "execution_count": null,
      "metadata": {
        "id": "RQJa07tcaMsg"
      },
      "outputs": [],
      "source": [
        "def p1(name, data):\n",
        "\n",
        "  print(name, data)"
      ]
    },
    {
      "cell_type": "code",
      "execution_count": null,
      "metadata": {
        "colab": {
          "base_uri": "https://localhost:8080/"
        },
        "id": "_DsntrKcbiJG",
        "outputId": "da65b2ab-f704-403f-acb8-15886f391dfc"
      },
      "outputs": [
        {
          "name": "stdout",
          "output_type": "stream",
          "text": [
            "badar 26\n"
          ]
        }
      ],
      "source": [
        "p1('badar',26)"
      ]
    },
    {
      "cell_type": "markdown",
      "metadata": {
        "id": "XuneX9szbre6"
      },
      "source": [
        "![image.png](data:image/png;base64,iVBORw0KGgoAAAANSUhEUgAAA4IAAAFJCAYAAADOuZM/AAAAAXNSR0IArs4c6QAAAARnQU1BAACxjwv8YQUAAAAJcEhZcwAADsMAAA7DAcdvqGQAAGiASURBVHhe7d0HnFT1vf//D9KXZekddpcmIsWGAnZJ7EGNBeuNMfjXJAZNu/EXbxL1Z2LiL8Uo8SYxF43G2E2MJAp6o9gCxE4RkboLSG/LsnT2fz7f8z0zZ86cqTuzO8u8nj5G5pw5e+a02T3v+bYWJ5xwQv3BgwelvLxcDlVvvfWWfQYAAAAAOKy+vt4+BQAAAAAUg8P0f4RBAAAAACgelAgCAAAAQJGhRBAAAAAAiowJggAAAACA4kEQBAAAAIAiQxAEAAAAgCJDEAQAAACAIkMQBAAAAIAiQxAEAAAAgCJDEAQAAACAIkMQBAAAAIAiQxAEAAAAgCLTYsyYMfUHDx6UyspKO+vQ89Zbb9ln4QaUV9hnAAAAAHDoa9QSwZ5SL0Odx/AWIpXOo8TOBwAAAAA0nryXCB7vBD99jGjRQto5/watlhbykfPvW85LG5zn+UCJIAAAAABE5a1E8FjncWeLevmq8zjOyXdhIVD1d+af7zx+6ix3tfNoa+cDAAAAAPIjL0HwcifY3dTioAl5mZjgLH+H83NafRQAAAAAkB85D4LXt6iXs5xHtno6j+85Pz/yEA2D40Ztl5d/86FcefZ6OwcAckt/vzx7z3wZ1G+XnQMAABArp0FQSwLH5yDA6UZ9rYVIX3fykKEh8GffWCZ79rWQuQvK7NxYfcbVymWvfSJXvP2xDLtis50bpfP0tVN/WW3n5E9jvpdH3+uqdxbKuY8ts3OKR6pzn41Og/bIhS98ao5p2Hn03rMQjncxn/tcO/7IGqnsu1vu++6nhEEAABAqZ0FQ2wQ2pCQwSNsUXiUH7VRh+vEd/yXTn3tCnn7sITnjtFPcmUlMuXy1+fcnD1XK8jXtzfOgug2tZe+OvNTYbRZ2VLexzxquVaeWUvFffWXofRWRR/9bettXw+nr/uV7X9PdvpJ/qc69F9o0LPkfOk9fa+5yee7T0bZ/Gxl094CY8x18dPl8J7u0q+NxHWTIL8ojr+vP63rC6LXjX1fYtafr9y+jj2Tr9Pi3I+wa/fa9Q+WxF3tLn+575RuT3N87AAAAfjlLHBemCIG31R8mczLMiTrMxEkFWEV0ytdvMAGwTZs2snnLFjs3uW9euUqGVdTJ87N6yJz5sTeXYQ7sPUxqVhZv1zk717e2z7KjIbDfN3rJnqq9suSWKvPYNH2btB/UNvSG3Luxbll6mKz40erIz6x7bJNdovGkOvdbF7eTx48fYR7/uHyICY+n/bI6tBRx+/K28rcLDjfLvvGdcju3sDX03Kdrz+q9svy2VZFz7X/sWr5HDuw8KHWfREvTNHD1/lJ32Txje2S5uo93yYBv9jbXj59eY6VHl8i6RzeZ5ap/vlba9GptvpjQa9Oz9X+j69KHXnsHdh6Qfl/vlTAM6s93PaeTtGidvJflXz8xQBZXlci40dupig4AAOLkJAjq8BCpOobZ6rz+B+ftfuUEwqV2Xjq0A5lCcvUVl8m448fIr+7/b3nsiaft3OS0atbnTtgiaze1kRfeSF7CpDfue2uiN4rFps4JAQf3NnwYkf3bD0jVTz6LCXJ60603+O0GtIm5cdcb7h6XdJXaD+vMz+jPNoVszr3+TPU/y+SwNvVS0mufnds85ercN5ReG3qNaMjTsKj0Gik5sr3seGenuY48m6ZvlX1b90unkzvaOdGf18C4472dZp6uZ+urNdKmZ2vpeHypmRdGr72auTulZYfDpOSI8FoD3Sd2kdZdWsm2N3dI/b7kvx+nPtVf9u49TL5wSuN/oQEAAApbzoJguhY6j586YfBR5623urOS0oHn9ZFvWs1Tq3heOPE8+eMfHjAlfvrQ56NHjXAXcvz5yWfk6utukNdef9POSe2CUzeZKlr//HfXhFVC/V66ZrA8c8YRsnZO4htGdcwt6yLVAxO1KwurTpioDZbXJtBb7rjvrDMBIyjdder2edvltf/yHvpamMVPdpMnTzoyb6VX+zfvt8+ivBvurbNqzL9NKd1zn0rYOUp0zD3B859oeT3X/vWGVU0txHOfLi/U7VwULQ3U0rzD2rSQPetiw7YGtwO1B01JslfS12F4eyfQ1seUJqq2vd2Szg4jUv8O0IC33wmYQRoytaRRv7TYvWKPnZuY1j5Ys7Gt9Ouxx7RRBgAA8OQkCOpg8Zl63ckX/8cJhP+oT/2zw+obp1Swffv2cv2X/0NWr/lMJl5ypSn1K3Hmffvmr8eEwUyV994ttXUtZU6CDmKy0X3kLin/XI2pGqjV/ravaCvHTFkfEwb15vyE2z6Tt77fP1KVcNFj3aTLsN1xwU1v1vXnP5jaK7Lse7/sHVdCk8k6lQZJDZRdhu6ObKtWbRw2aUvMtjaWVt1a2WdRemOu1fEO7GiaksCG0PMx5KJtsnNta1k+vYudKyZIaqD0zk8q7Xvsl9E3bpTXnRCmP7P6jY6h50jP8bp3OkTO/WtTKsz8k3+6Oi4MFtq5T4eW/Gno271qb6Q0z88Lc3765ULLDi2lZceWJgy2rWgTdz1pVVG99rRE2h8ag/T9u0woC31/r0qolkBqSWS63llYJqUlB2TcyKb/ogMAABSOBgfBnlKfcLD4VPT77r9IC/mvFO0HBzRCiaDno/kL5Ad3/MQ811K/N/81RzqVlcmoEUeaedno1c25qXOC4IYtuesM48CeFjLrmxWmaqD68De9TNuyXsdHbx41DGj7MH/p0gf39TY3423KDpgeJZXelPd1buI/c5bTUplk0l2nn76mP+NtqwaJpqjK6FXZ0xvpXUt3m3l6c6035lqqo1XuvA479BFsz1UoNHR7pWtnTK0y8/59d9/I8c1GS+d8aLj3zut65xwp//WktMRSz7dHl1/6fGfn5w9KWWXhnvt0dTldq9m2kO1v7bBzXHq96HWjpXH+asXa2UvH42PbBwZ5bVJX3+eWhHqh0aPr8zp+Kf/PPiZErvvjRvtqlFcldMuM7RlVX17v/N7Zu7+F+UIKAADA0+AgmLrbk9T09shtP9gitP1gtJwjv/bv3y+LPvnUTrm2bHG/ee/aNbut0PaBZR3iq3g11NYl7WJu/L0eJzukeYPdpuNBKenpLuvdlHs3/9nyr9NPb/79NEho6ZA/UOSb1w5QO9jQNljBG2ntREZ5nXZo5x56w15+a1/zs4VEw5VXIud1FqOBMFXVz2Rq17SOCfeZShTuCuHcp8trBxhWGqfXi7Yf1de0wxjvywItTdZ2g4kEQ2AYfa+l362OXHv6pcTA/9s/psdSf5XQsJLKZFZ81s60E9QvpAAAADwNDoKtsqgWmshCaSH/62zS6kDpYE7qrzZQr5497LPCFiyV03Dgb5+lDy1R8utYntkNYjrrLCRaqtf72u6mA45gZx8erbLn71jG69wjWacdhUC/DNDSwH21zj4GSu/yQat/BtseDr+mMKt5ZipRaaCfBjovsOlDp7XKZ1jV4r439jT/BkNgqmrIWhq4d8M+KRvbIVIire0WM60SCgAAkEyDM1auhioe5OTJW1oclK/KQekfyJZNORyylgS2atVK1m+Ir6qVDu0cpmZnfLu0XNOSOC2R014nvZJCbfenN+na3ssrQdKHlihlKx/rzCe9kdZhJLS3Rg2BweEgwjr78GhnHdppR1i7sELilQYnqpqbK1qFWIep0Pfy2vzpI502iIXOKw30VxtOh/6ctinUa0ivJe960uvt4J76mBAYXDYRbx0e7+d0nVpS6JVGasmklnBr1VQznWDMy4F9d0ubNgdl/ebCKtkGAABNq8FBcEMD+3HR7lOukXr5LycAjnZnxVnfOH3FhNKSwF27dsmChYvsnMzpDVi3zvtkbB47a9D2WdpOy18VT6uJaknRkme62jnhdCDvsKp9g76wzcz3S3ed+XbeuefKY3961Dz0eSK9v9zD3EAHS/z8/J19+LXq4gZ4f++RnnTfvzGEfQmQD3p96PWgw1Xk831SGT16tDz80DR56skn5D+uucbObRgtDdTS37Bqw8mElSLuXOheL96/Hi1Z1vcIzg8KBsZE4x3qGIX6RYV+wWGmE1zfvbrulTatnPO2rjC/rAEAAE2jwUGwznmsluyqh57jBMCftTgoZ6QYjH65/bex6cDxR40aKZ8uXZbRcBFBegOmN2J6Q5YPWl1Pe3zctblVTM+RqnXpAek91u3NUUuLLnzh07hqnPoz2uuk9kLqlShp75BawqShLyiddeZbt27dpHXr1uZx2mmn2rmxtH2Wtv3TEJisjZY3bIS2IfTozXii3htVOu/fWI7+hjtYuHYY1Bj8VVC9EuLG1L9fP3Pc1dhxY6V///7mebb0XGtpoFbH3PFObM+niWjpsXYmpKVx/vEClTdepV4/um7lXU86P6xqsserxqw2PrfF/NtQx4+oyXmvxQAAoPnLSfO7j+y/6TreyY13OeHvMueRqlxBK0jNyzJoZkqrgF5x2cWRMQQnnHaKPPnMXyK9iCodRsIbZ/And/xAunXtaoad0CEmwsYdVDqIvA4mr4PKa+cxDbHu36Um8PU/dUekjZZ2FLL+/ZKY3hnVv37U3wQ8vVHX5c5/aqkpzdFqnX5eOzMtVdJldNmd61ubeUHprjPfXps1SzZuSjxIttdDqNIw6FWn8x7+HkG1xGXNf683pTDe69p7ow4onihApnr/fPL3GqoPFRx70N+O0wtq3jlLNOZkKtrBi55n//trCXHYMCP59OJLL8maNWvsVMOlWxqoVS+960OraGqJnZbEhQU7vW72rt9nrqNk15N+WeGt01vvniq3BNAbzL4hdOxAHUNQxxLUMQUBAAA8LcaMGVN/8OBBqaystLMyp0NI/DRFqd7X6ltIPyfQXdAicRXQMK87P/NoGmMNJvPWW2/ZZ+EGlFeYAeVHDD9Cnv3rC2bQ+Fz75pWr5Jrz1sljL/aWXz8xwM5FQ/znf35Xxhx3nLz73nvy85//ws5tPE39/sVMq4R+4Qvny8qVK+XW//N9OxdBf/7xQhnYb5dMfXKAPDGzcUqMAQBA85CTEsENTlh7NUWp3WVOWPxBhiFQzWjC9oG55JUKTjprvVx5tluVD9nTdmJHDh9uSuWeeOJJO7fxNPX7FzOtCqpVQuvq6uTPjz9h5yJIv3waVlEnc+Z1IgQCAIA4OQmC6tn6Fk4gTGxCFoV6T5t1Nl6Vs3zS3kN/8lClGc/rxovXmCpbyJzXUch/3fZ9+XjRIvnGN6bI6tWr7av519TvX8w0AP7mN1Pll7/4ueysrZXrvjJZ5s2bZ1+Fn37ZpF86La4qkW/fO9TOBQAAiMpJ1VDPUKmX77Woz0m6fKte5OEc5dRsqoa+2tv9Bv3Ful3yi5r43j4v7dBBvt7RbZM1YV18CZ//df86NAB+95pqmT9zoJz28WAzL9F75GsbPKleV2yDi21wsQ2uQt+GX31riRxVuVtaPjRWDq7vGLoNAACguLXs27fvHfX19dK5c2c7K3tbpIWscP49pkULacjIebkMgaq6uto+C3d/RYX835n/K48/8xeZv+Bjud65Aft43z55cddu+bLzfEirVvLWnr2m4xqlr3+ltFSe2rnTLHNtaYekr/vXUb2+rZTNHSwTt/cKfd2/jnxtgy6T6nXFNrjYBhfb4GoO2zBgYYWMnnuEPLlhf8JteH9vfnoxBgAAzUNOg6DSqpwfOo8+Ui89sqwO+mwOQ6BKFQR/7gTB49q2kXf27JGvd+woF3cokZu3bJWl+/fLYudm6zpnXvD13++olUdqd5plfugcu2Sv+9dxZOvWSV9nG9gGtoFtaIxt0NcAAEDxymnV0KCTnDA4wXlUpgiE+i31m0541I5h8tEmMFXV0DMHD5H/7hYdQ+6e7TUyc1d0mIcjnJuzhryu/Mukel2xDS62wcU2uNgGVz62AQAAFJe8BkGPBsFh9fUywPlXhzvX8j69BVnvBD8dLF7HCXSHMc+PVEEQAAAAAIpJowTBpkYQBAAAAICo3DbGAwAAAAAUPIIgAAAAABQZgiAAAAAAFBmCIAAAAAAUGYIgAAAAABQZgiAAAAAAFBmCIAAAAAAUGYIgAAAAABQZgiAAAAAAFBmCIAAAAAAUGYIgAAAAABQZgiAAAAAAFJkWY8aMqT948KC0adPGzgIAAAAAHMooEQQAAACAIkMQBAAAAIAiQxAEAAAAgCJDEAQAAACAIkMQBAAAAIAiQxAEAAAAgCJDEAQAAACAIkMQBAAAAIAiQxAEAAAAgCJDEAQAAACAItNizJgx9QcPHpQ2bdrYWY2nZcuWUlZWJh07djTPPRs2bJCdO3faKQAAAABALuUsCB555JFywQUXmFDXUPv375e//e1v8v7779s5AAAAAIBcyUnVUC3Ny1UIVK1atZKLL75YOnToYOcAAAAAAHIlJyWC/fr1k69//etSX18vr732mp2bvRNOOEFKS0vlkUcekU8//dTOBQAAAADkQk6CYP/+/eVrX/ua7N27V+688047N3tTpkyR3r17y5NPPinz58+3cwEAAAAAuZCTINiiRQsZMWKEeb5gwQLzb0NosGzdujWdxgAAAABAHjRar6Ea7lavXm2nAAAAAABNpVHGEezbt69cf/318rnPfc7OAQAAAAA0lUYJgscff7yp6jlhwgQ59thj7VwAAAAAQFNolKqhOrzEtddeK4MHDxZ9L+0NdOnSpfZVkYEDB8qgQYPsVJQue9hh8Vn1s88+k0WLFtkpAAAAAEAmGhwEu3XrJmVlZXYqsXbt2slll10mbdu2Nb2L/v73v5d169aZ13TcwOuuu04qKyvNtOfAgQMmRPppCJw2bZrs3r3bzgEAAAAAZKLBQfD888+XE0880U6lr6amRn7729+af5W+v4bB8vJyM62CQXDVqlXy8MMPy549e+wcAAAAAECmGqWNYBit8umv9qmlhA899FBMlVF/CKyqqjKvEwIBAAAAoGEatWropZdeav4NVg310/A3adIkGTlypNTX15sxCnW5Bx98MK8h8KrKs2TKoBI75dko0199W+62U64KeWLCMRJbiVWkdvlrcubK7XbKlf46RW4beZFM7GknPHXLZeqcefK4nTRKRssr4wZJqZ30rJz/vFy50U5Yaa8zL/uU/jrzsk8ZrJNzz7mPxbnn3Ptx7jn3sTj3nHs/zj3nPlb4uS9UjdJZjIY5rfapncVouPvjH/8YU/IXpMtffvnlMnToUNmxY4cJgXV1dfZVAAAAAEBDtOzbt+8dGs6CnbLk0uc///nIsBEvvviifPTRR+Z5MgsXLjS9hs6YMUNqa2vtXAAAAABAQzVKG0ENmmr+/Pnyr3/9yzxPRX/mzTffjHQmAwAAAADIjUYpEVy5cqXpAVRL97SUDwAAAADQdBqljSAAAAAAoHDkpGpohw4d5PrrrzeP1q1b27nZu/DCC826hg0bZucAAAAAAHIlJ0FQSxMHDhxoHv6xAbPVr18/s65OnTrZOQAAAACAXMlJ1VAtBfzRj36UkxDopwPIL1u2zE4BAAAAAHIhJ8lt37598vHHH9up3Ni2bZusWLHCTgEAAAAAciVnncXoIPCHH364qdLZq1cvWb9+vQmI2dCf++CDD8xg8gAAAACA3KLXUAAAAAAoMrlt1AcAAAAAKHgEQQAAAAAoMgRBAACAgjdJbp82VW4ZbycBNK3xt8jU+26RsXayOaKNIAAAaL70Zuz60SIfPShT7p9rZzaiy2+XaWeVS/XLk+XOp+y8nNMQeLaU186TB2+5T5pgL1E07LVmp1Sia3vszVPlhqNK7JQjF9en/TxH11on8/5nitw3204WkMj+N+PPJUGwx0kye1QPO5HAhg9k/IIqO9GUOsnUcWfIGN9nLqpO3p3zskyps5MAAMQYK7fcd4OMLrWToQr3piuhIgiCk26fJmeXV8vMyXfK03ZeQWmUMHwosCGreqZMvrMgz2SstM+r/d0iuQ1EbtCSxv+dlMn1bJeta6rfPw1E1dCNb8v4V5+PPKZvMDNlum9eYYRAn7rlMtW/feZBCAQAJDNX7rtlskyebB//M8+Jfc6fFOcGJjJvcjMLgcXAudE8u1xLZQo0BALF7Kk7ZWa1SMlR1zTLatsEQQAAgII0Vm450UmBtfNkBiVtQEF6+s6ZUi0lMvqsSXZO80HV0IDbRl4kE3tqieDbcred53FfC6+CGXztqsqzZMqgnc56Fkgff3VOLc2bM08et5NRFfLEhGOk0k6plfOflys32gnDVg2VROvwMVVeO5jtmd1TtyVanzS4XrPtpbrOKhkfU/U07DiEVE8NqTqb2ToBAI0uVZVK+/omrR4lbvUnT1g1qLj2QkmrmcZXUw2vWpVGeyX/fqw/x7edid4/fp2SpKqeWy3TTqjgsmHVyHztnBpUZSxVFTXzusjMyYtkuN0nXXZGL+9chFQnteuMSnScUp2jkOMYkPW+m23sbrZrzvGx11XYsciorZrv3LgS7H/ccYo/lu77bnLmz5A+/mMVeP+4ayiooW3M0thWldln1GHXm/D6i2i6qqHxxzZRFer8Xs8FX307AUoEM3D3ek1PJXJEz07ujIgKGdXT+WfD4kBA7CETJ5whR6x7zVbf/EBWlgySKeNGy1V2CaNktLyiIVADlVfVc/5GqRx1kbxSGXyvTJTImHEXyZTe6yJVSbXqa+Wos2Sq//eA0u0Kbqtuv39bzXY6oa7Wt51zlkttz2NkdnCfVDrrBAAUtPKzpjk3gxo23OqjD35UJyVH3SC3X24XcOgN2zXymK+K6YMyr7ZERl8f0sul3ohPszeNkeUny5tdAlWrzHLOjZkGL2+5l6vN9ky9OaSfvsHXyLQTt0XWObM67P31Zm+4LPLWZ9cp5WfLtNuD3+brst7NXXT5B7eeErPvcSJBw/25rEOgY2yv7s7/q2VR0pvwcjl72imy7X90n52pE51zMXipcxy0lKJcTvEdK71ZdQNWdH/c4zQtsE+676nO0dNyp/eaHkOHBgZvWX00ZN/1Hka36wazL+76zP6dFXtOdZ/csOC9r3PtOVt+w7Tbnb2IpdfpNPulQXQ735TOV8T2/GiWswHIW25mtR7nsF5bdf4NMmSZt07nuJc67++7np6+01uPnhOH/5rWRwPCk3tOY7d18v9sk1MC13NGn9FmQvd9+Ce+/bbX/Nlx5z7/1/PTn+jPlMvwZL8bChBBMBMbF8i7TtAr7V0RG2R69JdKqZN3l8e3Jaxd/pqcuXK7naqSK52AJyW9ZbwviN02aJCUakmhv1Rt49smtMW9lzIB6yKZ7X8kClcaLn2lh16Y7d7BnfbTkkL/ts7X9pIlHSOllKHbWTdPzjT7NEgmhvS5k2qdAIACp6UVvm+5576z1PmLJ9K9V/TWee79UwI3SXPlvie1DWKJdA58xT7pLBuSAje/T98Z+62/WU7f21/65rXHGTwu5sZdlYgTGHzr9KprDTnev6Te7AW+sbfrlK59AmHgFOe2TktMYpfXfU1YOuKFwMAxy1ZFF+dmoXab89czheo3o8euVGTpk9HjUNKlwn3ibNspzrmofjn2OD99pwYCDZC+MDS+j2gErVs2J+k5yjsNTP5zam62fddU6D55117wpnySnKOlYc46Y69V55qIuRbd5bT0x3+ew68nV2xJ0dOyyGSC4XFBNOfs/ge3VWbfJ1MCJdyZfEabCw3YsZ9F51yaENdd+vjDbWNcz9Xb4n4vNgcEwYxsl9nrnNMcE+Q6ydTBTgKqWyezY0oDVZ18ssELQdbOHVLrfOiiQcwtTaxdVxVX1XNlbfC9rLDOYhJUFV25PvDnw3aOE1vlVG0UzXN+dy/QdXvVOBNvp2xcLSudf7p3CJZeplonAKDQBW+ezE1mim/H/WJvjCbJcHPjOiNFSLLLBd/bUbXV+dtYOkTGBUox4petkm1OwIkEoVRKOzt/6TxjZdxgDQ2+gJVKLxsCA+Ele2OlT1f7NIXqT/xHc5OsDdnmsccPce4+wkoX58qcZXpMffs/e62zFufYHXVDeOlrI4ndL4cT2rVkxrv5T7hPdvvLj/BFscuHu8H+5RTx3C639J24K8+9nuK+hAhbtnF4+/9mmp/FRJpbeEktEG4b43r23iPd3zcFgiCYocdXLnZCT4mMGWRPdEmFHOH8rVi5LEWbvYBIaCrpZL6lKB10RmwJn/Pwt+trcnY7kyl1/ogAAIqRtr+ZJtOm+R4x7bAs+818SnY5vXGLWafziG3jlIZASZ9p9xRYZ3z7rQrp7GtLlI7yo0L2t4CY0sWk/KUoWnLqlhT6z0FThsIw7j5pVcDY8zktpK2XW802NXc5t1pq7Dpj25cVgtTn1C/Nz2iz4lbfjtmnmLaSnuZxPTcFgmDGbPXGnv3lNuefq3r2ltKQkq+EOnTUWhuyaactKazbbr5B0CqkMSV8kUeBDAthtzOUDYm1tdvcaQBAEbHtb0pj29J5w1NkxX67rlXeIuuLeaRTpcuGuS1rI6VzXtuv4HpN1dAG0vZE2n5S2xvm5gZzrqzdYp/mgClJTcANFMGSRP9wI76b6Li2lE3H3afAded/ZDFW39z15sqLaUcZ88hJaW9jy8NntKlpNWwN/KYatm+fbPu+eHm+nr3qp1tTVuQuKATBLNy9fLnUSg8Z1aOTjO9d4oS4BWlXdbyqg9YJ9QfHbbLJ+RSGtgUsKEm204TbkGqwAIBDn3cDlLK6p2P2HFmqN2AhbfxiJaqGlwG7Xf7qhW7gSacqXXbtvLQdlteZTi7CYKJqsNlwA05YZxa2Cmr1oiTnT2+i3ZvnuBLWJpR4n+K5bVvD2/jFMG290liuAKTdQUkmn9HmoryzKc2s/lc2wTwP17Pdnk3rm9fXBATBbNRVySfO7+bKUToswkZ5LdIZSgo9TjLVPWOD43aZssxJhdoBzMhCrlecYDu1J9FRPUJ6TAUAFJOY0KbVL0OrnTk3YP9ybl4DvSqqSbf7ey9MvFx6JsntttOW+PH3/DfObnW5sK79n37Z7XDk7Pvie5RM1muohkHToU0OwqAbdHLUmcdTM8yNb3yvm1pSFGg7p+cveNzHj5Mhpc4tUEi7TXlqkROvnXX7O5xpDAn2KdTs++RNe17iekj1n+OEy+WC9wXDKbnpqTPR/mtpWcjnJr3PaPPibwfqlfjHaYTredIR+r6pevgtPIwjGJBsHMEYZpw+DUDxY+gpdxzB4McrfAxCV/w4gkbM+kPG8IsIrNtuX/xYhPHS3melwW/cIFO91RP2HhmtEwDQ+PRm0bkRTDWOYMLX/fRGy38DptW1blkr50w7W7qH/rxWVYttx6VVK+N744xfztAOWSLV/uLHB1OxPTl64pfV93XH3dPx4II9fcYvH7deu++x2+/7uZhtzZRdT6Lx2QLvHTuWmT12gfd3l7ETypyr+HXrTXWwPWb4OfLEn6vwc5CG0GOaWNi26n1RtuMDGnHLufzb5L5v/Dh3sechXrrnIF1x+x+2vuD+JPqMJthvl/+Yhn/uIrK87sPPpSf2mMYtq+/5ch/ze8uMf+q7dsLWm7vrOfyz1hwQBLOVImi5QVCSBD8AAIAUMgxFABqXG+wTfPFQ4KgamhVvyIjlMj1FaRsAAEDWMqn+CKBxXX67Kd2t++ixZhcCFUEwC7eN1OqZdfLuvMyGjAAAAMiMdmzhDmY++vrbJZsWkwDyQKvPazXa6pnZVYEuAATBtGkbPnd8P7ftG1U+AQBAY9Bx0JwwqL0cUioIFAQzoL+2tWxm7QL9aCMIAAAAAEWGEkEAAAAAKDIEQQAAAAAoMgRBAAAAACgyBEEAAAAAKDIEQQAAAAAoMgRBAACAlK6SETfPlrFhwzcMnCqn3zxVyuwkADQHDB+RrZMelpETKpwnVVJ913VS484tGGVfeVXK+xXmtiXS9sIXZOjoUpHaD2TJvd+RPXY+GtmgX8rQq48Rmfc7WfK3PI6N01jv0yx8V8p/eF7sTeSaF2XBQ7+wE83M5bfLNB1kV6pl5uQ7pTjO7uVyzl3nSB87pda+cp3MeMNO+A3+llz65dHS0U6K1MmiP94kc5bZyWxks85T75DrznT/jr39wzvkU3cuQmkInCIVHVbK/J9eKavsXE/ZxFfk5JHO36+d78pb909pNn93ARQ3gmC2mjAIuoFJZP2fL5CNy+3MAIJgntjzXvPqBKl+285rCBuG2tpJP/97uOfTfR4ql6EhLqCFhJSA2OMxSXp866vSyzmVEWHbl0kQjHze/FJc38GfaeB1Fbk+PaHHPPGx2pNwP+3PpNi++GsgZP+zOU75UJRB0McGrIRB0KfbJQ/IBUdLw4OgT9rrPASD4OE3PCwnDXCe1M6TF+65Vza7sxvMDXrOkXryTFm4ws4MGv+EnHd6pdQtmCqzpj9uZwJA4SIINkOHahBsFvIUBPdku75cb4/KIKDFX2duCOy83PezXjgJBqdMgmAcL2yGXePea7VJPyPpC3svO0+C4c0NdW0z2ac0zqE5zp1i38s99qn2MdlxQt40lyB4CHH3ucQ55jNEzjxH+uQyCGq1zyvGiKQR8AZ8abaMcj6XSQMjABQI2ggmojepP3RutE6y00DBcW7yT3ACVu0Hsj5XITATzmekVz8t6XrJFzCelo33TogNQW9fJ9VrnH/7nSo9BrmzGs55n39XOf9WSOfAZ7TsKzag3ZWLEOg46VwbKv1Bynn/v30ge0qPkV4N/B3Rtns35/+1smutOx3HHueaf8eWFtbMct5fSqXzqEl2TpjEx8kE0B8+fIi3aRon4259WK674XI7jUOSE7wvGLJUXvhh6uDtXROXXjLOTqc24JQxUiIrZVkapXyrHp3uhM9SqTjlNjsHAAoXJYJhvBKMkKpacdXDElTncpfbLNV3vSRtzTfy9oXg8va9QquN+V+bP9aUnoRVIfTEVyXUUoDA+yeqQujtc0R8SUPa+5Qhd1vthEqwjdFSkbXSy1/9LkFJk5ayre/uP1+J9im+dDV6/PTmP3XVyMTV/lLwbWvGJXrJrp1M2G0IXlup1pteiZQr9Djb9zUlgpvO9V1/6a3T3f9ugWXdcyVpH8+Qcxu4nqLXfbBELaz0L/MSwUTXYESi8+w/fsneK/Q4qei+56pEeezNU+WGo0rslKN2njx4y30y105GjL9Fpl4/Wja9PFlm9PL/TJ3M+58pct9sO9kgXpu9JG3l0m1X5wQNtwqlJ0VVSrt8oZYIeqVnEQlKz9zlNjr7OkO63nqjDI/8Kk1Q2pbhcfK2Y8eHv5dnn5tj5zaUPe9JSgQj+59OqWEGpYEet1QwvC0hABQSSgQD9ObW3JDqzWBIuNnztwtkwV0TnMfvZH2tnZlQhXOj5VaTc3/mRakpPUaGfuuX0Zvutxeam8u2g8bG3YiXDdM/qFWyXm/yln9Hlph1TJAl8/SN9WbZnfYecTdytd2cwPRVaf9vu8yfP5A9/c6ToRfGliC4+6w3ir51rSmVXlc7N/pxpR0J9ukr37WvZ67mIe99nXXZeQnpe9kb/WT7pMomvCpDBy2JHDd3n17IolTqF04IsO/3qpauuDfO7ja7j3Rv+nMp5vrIkoaQkVcPlW3+a0mPqX09se9KZw3va95IHdgcbbt5d5AhBl0jI0/YkuF5ckKM+ZwG3v+kEU6wSVK6FkOD0AjZ5u23PvT8OtfTyLjruZvzGbVPI6pll/NRbNtN28Jlxhz3HzqfO+fhflHhft68eSN/6Nt/73fE6HNjAmvZ6Rrea2Xb/GTnP8FxMtzrWktrzWcl5DOUqbn3T5HJkyc7jwfF/JpKofysaXLD4KXyoPmZyTKzukRGX3+7NHhLNJCYEKhBJHEYus4JgeKEkId/eJ19vCGdL/2Wc7ajzHI21HnLvb2qQk666wEZN9gu1Mxsfu4muy+/l0Vp/B076a4bpf9S7zjNkLWlo+WCQClr5sdpnAwd4obRjkPGxxzzfDP7/8d5skP346475HA7P1Tv7lLifM42Lki/zd+qJSud/1dK37DeRQGggBAEI7QtjVsyZW7yw0rNshD7Lb5z46U3mqVDpSxyU/kLWa93TDHzlHujHVvtLkOlpbElTcvnyja9cfWHzkG22tmrsaUFNQ+5QbfsBF9otYL7tM1U+9Mb8MYRU3oRtk+eQEllzUMaNFNVpWsaeiMeGgISseetQdeHs45yJ4TsmfdYWmHOr+2Fp5rAtX5WGp8Tu61Su0RqQt6nrThhPZ3zpCVgkWNkO1cJfE7dapabnXX5l010TDUIBUr5vGqsnfpErqc985c463OC2oWxnwVTBTVBvm07+qu+947/QiX6hVKiL3b8n0f7e8N8CeNW5dQgqb+rQs9dGsfJT7+I0W0w2+z/kqoxBEoMn/6k2vl/uQxvQE1OL5DIqhlOGElUGnW5HK8lQs4ysSVRT8mMmBIidzktsfKX7H36oBOGnHjQ/+j0qxc2Z7Eldk/Jci3mGjDcF6CyOU5zZMnSOvNsx9LZyUvl8mHZvfKshloTdB+Wc0618wPKund3/r9JajJp77duk+iete9+lTsNAAWKIKjMjZPe1Lk3Y7moIuUK+bZ+7RZzU9ne18e4d6Ppv/H1brSTf9ufSpVsS7EvbUcNdW78wpZ72rlp14DaNXBj2NBtaqjU++TZ44TE2JKt7Etw8sZX0us9vNLYZCU0bmlQw0oDpY+e22zO53ell5ZipVUa+F0pt9VOg23cPGmfp8Cxqt6upcMJSq0vdNbiXzZhCXcC/uvevK8t+Y4ErFel8+KwWgG+0mP70JBlgn4DSs01oLol5hoG3VJE/UIktCQ67eMUZYKplgSbfWy8doN1y+bEVxvNmtv2y6tq+PCDT9n5IU4d7lYZ/WeSZZRdbvWHwWqLzu8h59w3dklW0wjb/4Asj5NXMpm7aqGZcoK/Kbl0fh2eGd5usFOXJLUZElmxVnY5/5R0qXSnAaBAEQQd7k1142rb3XeT79y4rV/jzItU/ZokZYPSvdFumKRV9oywKnHp0Gp30Ztm75GL6mcN5ivtyRd/1b/oI70bbK80NlgVMMKWsCUrDTTVfYPvHyjtcUvPMpd+aaCWsrtt0LQUOeMvWFKcp8Sl1lVSHajW7ZYyOssOC4QxbT8XOE7hw3TEB7zqt8ulvfPx2bNZS7ES05DV0M5y3PMZWyW6rSlFTn1NJSvdD1chvQrhc5qpU8+JtmFLoVuPHvZZcu5yJTL8yw/LdXf5H772cjhkjlPHo89JXk0UAA4xBEGH20ZNb5YyLDXIhimFcW4ON8V+k1+z2Nez36Cx0tn541mzODfVU5PZs9m5Q0zADYmbZU9WYTT+xlkfTdGWLsq9cZfta0NLpnLJX/Uv+shN9/3ptA2Ltrv0PRrQoU+ULQ1MUM0zyhu2wDkWqToziZPueXpa9my3T609m7SCWeL2fP5wacK67YTFf5xMaEuHaY8Y/1nOOSeselXWo1WivyNLTFvOCilPWdIYf5ziaCDWklutRuocg6b9nGbpjTtM6dILH9Y5N/Q35qSn0M0bNzr/1w5kou3eYh6pOhopEs33OLmlyDruoNu2Mb4q8fatif9GJjSwj7R3/qnbqm0FAaBwEQQj3G7vvY4TGlSNKwm3FCakeuPbL7nf2g/7rltd07kha4whAdwb55Cu5Z0b+badnH/WuB1VHBIGuSEgdcC2HaE0GRuEwo69194uB6XF7rmPraaskpWQu6WBzjFMUM3TE2k/t+bFzENFpufJHxhDql67bOmdrxqq+0VHttVrMxm6w36WUobncNmW3EaFHCcfr4MsE4hz8mVB0zLVDV+pEhlwjlyXoCOQzR8ulR3ptPFbsz295YpdlsfJtOe8K7OhHHJGe4w1JZbaoVDi3l1rNm1y/p9hxy+mgxmRXZsYVB5AYSMIBpiSFK/nwFx3nHDSw6ZtT3iVPtsmT3vA1PY/SW60I51XnJ6DsOoF0AmxnWm4N/JpdgbSLNi2aoEb9/j2mVqlNTCcgJ/twTH9anaZ8t6/SqpDOvjwSgNzcl68c+/bFw0F5c57h4d/rzQwefgx6zBhNcFQJUmFn6d4XrXTwHGy1azLJsRWmSz7irtsfOjzfwkS7TAqqUib4vgqqPG8klHnnP0tu5DlBvbgPjnrvdAN7MkDc4LjZET3N2F7w+bKlA56HYGE9Fq57F6Zt0qrAt4Y6CTkcjnnVl+voQmXQ4ysjlPT9RpqepXVYUN0+Ihkw4CoLDp+GTBU2waulM9yMgwKAOQP4wgmojd7zg1p7Phu3k2dnQzy3fhqtbPo+HUe7YwmwVhhhi8EpKpGaLfPH0b8Vcfcm/Hgeuz262DbgRvYyM27x7kRDy7j7lOqMfcylTx4+asVpr1PIcdGJayiaMZZ06EYXHoc3fEHw8aOU/HbnHn1R1fYdZJwXd5+ZRWwEondF/e9y8284Fh43rbGVFEMSnDsI2Kuq/DPU9j+x12fjmTHPJ3rOez9w899+HKhxyBwLRkpzleiz1WM0OMa//sko+NktlU71cnmcxtmrNxy3w0S92vPUz1TJt9pt8OOIygfPShT7vd1F3P57TLtrHKpfnmy3JmiH5f0aNW/G2X41hnhncdoIEhn3Lu45Vwx4wQmWMYVOz6hloTFjOMXI8UYhQmkv057TBKdJ+1t1R4rd53x4xEefoNWpwzZznSOk4+3zQ0fR9AbMzIB3z55+6/DYaT7npmNC3ibjP3+ROm2Zrq8+Ojddh4AFCaCYJ6kdXMXx96U5/RGvwjZm+aUA20DAJBKBoPKu6GxVqqePFMWZjLkBAA0gaIOgm0695bDp+S+Dr92OBEMgtoboZ8uE5TqZ5CaOa6BIMhxBDJXf/CALPzJmXYKKG5uwBPZPGu8zE1U5XP8E3Le6ZVSl0ZgBIBCQIlgnmRcImirlCWr7oY0USIIAMipq2TEzVOkokOC0j5balhClVAAzQidxTQxbdNjxi9zQqC2OyK4AABQaB6XhfdPlaqddjKgbOQRUrLzXXmLEAigGaFEEAAAAACKDCWCAAAAAFBkCIIAAAAAUGQIggAAAABQZAiCAAAAAFBkCIIAAAAAUGQIgmjWyia+Iud96TY7BQC5p4OJjx1vJwAAOEQQBNFsaQg8eWSpbF6SeNwmExS/PzthWHRff0VGDLQz8khvJs/7/hMywE7n320yVve9kfav4Ix/wj33N0+VMjurwbx1JjqPOqi08/rpE6+yM5qKDn6t20mAabjbpG8/kW6ncywBAIcWxhFERKtLzpZ+R3dwnm2U9T98U3a7sxvNpNunydnlzpPaefLgLffJXHd2OL3hvmKMyIKpMmv643ZmCL1xP71SZM10eTFkoF83TIpUPXmmLFxhZ+aJBsFR/VbK/J9eKavsvPzSMDBFKjrU5mb/Tr1Drjuzwk6oOln0x5tkzjI7GTT4W3Lpl0dLRzvpHGV5+4d3yKd2Ku/sNWIGeb5/itTY2R7vi4SgumTXlHc9SYLzmO512Qjc601k86zxMne2nZlPcec7KP56OfyGh+UkX6Le8eHv5dnn5tgpv8vlnLvOkT52KtG1F1yfsWqGPPzgU3YiXPTnEl2j3mepMT+/AADkFyWCcG7wT5GKuy6W7rJYttTaeY1o7M1TZdq0aTL8k5lSbecl59yUTXRv8N9P82a7butK+6wYbZKanIRAcW6Sr5OHzeP3sqi2RIZ/+QEZN9gu46M31tc5oaD2FW95fTRiCPTbtjYuBEZpSB4vL/7UPmatlJKRUxJXN559pV22uYSBWqldZ5/m27J75dnIufY/9FpxXq9dKksiwU2DnRO+usyTFyLLzZDao2+U62643C5jacDUEKiBzi77wofiXHsPyzmn2mWsTx/01mUff5wnOwacE79OP+fajguPcR6XhdPfdeJnpYyiKjoA4BBBEGxmtNSu4tajpZWdbrDBR0tv5wZ//Q//Iuue22ZnNqLLb5cbBi+VBydPljuTf2kfNX6iVHQQ2fxOfClPnHWbnJu3YvW41OTqlL5xh3Nj7Q9yc2TOs85Ntjhh8HOxN9ndLnnAubHWkpXrZMYbdmZTWLFWdtmnaZs9Xap2Ov927pO76qRNZPvWJvhWJ8yp58jwUpG1s++VzXZWt0tOlT5a+nZPdJ7IUzLjlSqRAafGfLlw+OdGS8daJzD6SvU2P/cnEy77jP+WdLPzQjnhdJ4m9gHD5XB3ToATSLWU2wmZb6dK9iumyPsLnDftd0ZxVrUGABxyCILNzP4P18ue0kHS766zpWNISUzGln0o63JeDXSS3D5tmky9eawJelra5z1uD34x/9SdMjlVNdAYV8mI4ytFdr4ri9Kp7ubcvM366fi0qum5bfjsI0G7skibw8gjcfu7mPU5D62mF8q2K/MvG9/GzLb5MqURXts/+0jSBm7Vo3ksvVr2mcRHjXEydEiJ7PhwRtOU/sW4W+Zq6V1IleBMxZ33dNodRtoT6iPBdZLHc18z/Uzn3Oe/ynNy42TceK1OXCXLfV8KdOtWIlK73RcCrTXbzZcLnSOflctl0ACRHUtnB5atkM5aq7d0iAxN5/dg2Hs5Dr9Bq5s6gTRF1VFPzYJPpE5KpcfIpm4DCgBAwxEEmxsT3F6VLbUdpOuXL5augapRhaTkqBtk2lkiMydPlsnO48GP6qT8rJAwmJFKKe0gUrdidurSwAz0mDhbBm+daqv9TZfNHcbIyYGbbA0Dx8rDdhl9TJWqnaVScUXwJt+9WR8l033Ljpf5a+zLfhoEJoq871vurQW1pnpiaIcj/SY6AcD5gVl2+SfflTrd1qaorja4r3NLHDB4vPR3ZtZuDGvnVfjKJl4XWtrshio95nrO7cxkBl4n5x2/Sd6y53T+Gr1OAh3MNOdzny57PYR+MVDaKb40z365UNpjnDt96nDTLjDmejJVRU+Vba+4JdLR0BjCVvv0l0ZGeK+9kkGVZef3zkbn/JcMHJ/6iwAAAAocQbBZ2iY77vmLrF8l0vHMi6XiBu28ohBVOyHwTnnaTs29/zGZ59zllR8xyc7JwsA+0t75Z9emXHbE4dyprvB37nG3zJ21UqTDETLAF/A0DMSWLHrthkqltLed5RjwpYnODe5KmZ9OSZSWWAY6MqmZ/rAJGyVdws6r26Yt0vmHvTFtiqqMpsqe8+/aT3ylKf06OfPqZNsatw3Ydb5HsD1XYdCAFi1h085jtLOYhnauUiKfxHRQs2qJtlGtlL7+Xieb8blPl3uNVMm8QAcwn35S5fy/Qk6Kabs3Tsbd6u8QJoTpkGaIrNaOYuwXK5HQaGnV5Mh1d2aF6YAmvopytEpoZtWXbXXrDt2lkzsDAIBmiyDYjO1+8C9S9cpGJ3kcm9t2g7lSvSgSAl1zZe0W55+ufWSsOyNzvbs7N9m5VisbFwSCpWlbGBvwkmnf3SvBuUrKOjv/rJnf8OqYYTf4Oz+RVTFV/Zwwev94eTGkV8x8ctsBOk9q58k7cTfS2onMcFnu67TjhQ/rpM+ZD8ull8TetDe9BJ3FpFP1M4kGl1gX8LlPmxPaRmu1zrDSQG1z6nXkEvmy4D9Enp0ha+0icfwhMFFPtY7Nz90U7SzG64Dmrjti2ghmWiXUz2172V3KaCcIAGjmCIKW6YTlrosDj1OknX09qlK6xi13sfS+RO/+Y6W/TpF2NwSXcx6ZhLvSQVJWwNVEY5R2Fv8gBIUsGvCUbavltc/Shw5PYF91uVVXMxHf7lC7qbcvFqJT75ALjta9Dnb24dGu/WOr23mde3QcMj555x5NbfaVpnpmsDQ4X5rduc9AotLAiLheRp2AJ25147iqxT0Sh8Dk1ZCfkhkaOJ3fOKO9LyFsQM2oSigAAIcggqC1/7mZUvXDvwQeYZ2orJQtccuF97iZ/jpt6V5w2Xs+lP329TAmaJ7ZQ2TV+2b5LU3ZQ2Naxkqfrs4/tduc28MsNVYvoLbkMVoFVdv9eeOI+UqQtJ2WXSIb2qGMGRTfa/dlHmm2Q2sKZhgJt/OP0PHW4jr78MyRLVudf8LahRWYmk2bnP+nXxqcrWZ37jNhw5asWpRR2Op29BBbtdjOMNeTSB9nfjAExi2bSKBTI/fnnHWe6ZVEug93CIkKOclMx5Yg+nXqolE1B0OyAADQxAiCzVJn6XjrxWbw9x2vOIHxweYyRp7b01/dsjkZ9BIaYIcE6DY0vx1klHXv7vx/pXzmtceybRPrFkxPUeVzpdSGtdsaOFUGx4UjW4003R5Q8yhSMpWsSqRWzTMhML7ELyLY2UfEOOnaxfknQTCI9LBaAB2fuOc+3+PvNbNznyG3NNC5Tv6ZSdXLy+V4LWle9UY08C2bLav1gooZg1C5vdPGzw8R6HAmtupo9OEOH6FfcOh0otJC77xtku3uDAAAmi2CYLOjVVMnSNfSnbLlj82hFNAzVm6572wpl2p58/6sY6AjQdDKpfFP2E5D4kNfTG+BOjxAXNXQx2XhO9rRzBgZ7nUMor1DXnGE7FrjL5fwiamG6JU82slG4pZyOPzb7WfaZ9mb+6RttJ6Sdz6sk45H/0fMWHDdLvkPGV6aKBjYm2vV1GO0OefqWHPuH26cYReaw7nPVKQ00BfoUtGSZh00PjBeYGS8ytLRcoavfWnkeno2rGqyj/flRcadwiTgfP57OOcn170WAwDQFFqMGTOm/uDBg9KmTRs7C4VMq4P2G7Je1qSoNpo+LV3UYGkng2qXZ/FeOo6ghr6A6pky+c7Y7mMSLusJ+xkNYKdXmip1De3d0Q1pwTCnHYiEjL9m3zdi57vy1v1rZfj3J0r7Bf5eR91SFg2TLq1OeqVsN/M2mefRgKk3/9rLqMd975pTZsuozrp+ryMQbZ/ohATxz8sh33EIO66H3+BVnQu39pXYweO1Mxm3HaEnQVVST+TYJjj2eRB7jjxh72+PfaKAtmZ6dKxCexwlcD2EX7PN49xnyr1WUn1hoL3K+nsITbF85IsIT9j1FFynSrUdUe52J79O3WvGefdGukYBAMgngiDywIa70OCXC3m+MS5KXthpvCAWywtFbmhucI+ryEBTn/tmwgvM/uAPAEAzRtVQNEPR6pcFPZh2czJ+oinxarQqkQFlE88wJWObZxECG10Tn/vmwQnLE7XUNM3xQQEAaAYIgmievG7++02U0yf6h3hARrTKonYUcnp30fH0YgfMzz+voxK3ymwOqvoifU187puTAV/ySkz5ogIAcOigaijyIN9VQ6M0SBwrD3MTCyBP3GrLkos2yQAAFBCCIAAAAAAUGaqGAgAAAECRIQgCAAAAQJEhCAIAAABAkSEIAgAAAECRIQgCAAAAQJEhCAIAAABAkSEIAgAAAECRIQgCAAAAQJEhCAIAAABAkSEIAgAAAECRIQgCAAAAQJEhCAIAAABAkSEIAgAAAECRIQgCAAAAQJEhCAIAAABAkSEIAgAAAECRIQgCAAAAQJEhCAIAAABAkSEIAgAAAECRIQgCAAAAQJEhCAIAAABAkSEIAgAAAECRIQgCAAAAQJEhCAIAAABAkSEIAgAAAECRaTFmzJj6gwcPSps2bewsoPma3/Zb9hkAAEBmRu251z4DDn2UCAIAAABAkSEIAgAAAECRIQgCAAAAQJEhCAJZGyb/+Pskee9WO+l32emy5u+ny812EgAAACgkBEEgKxoCj5LTSmtkzj12ls/NJ3aRTqU95e6CDoNukK0lsDax4+W9Wc55cB6hXypkJR/rzK0HHnW3L/J49Hj7Cg5p+iWZc77X3DvMzkAxuvneL7qfe/7+AE2KINjjJJk94aLkj5EVduGm1kmmjgvZPvM4S6aW2MWQheiNczo3KDffe6QTAvfJ6w/MkJvsPL/7v/VXKX2pRsQJg7fm8IbH/eP5RfnHZXZGEYncOEQe58gD9rVicKid+5u+9LSUnq6PFbLYzkMjuvUc8zkq1C8KspHXz4gNsOn+jQCA5oAguPFtGf/q85HH9A1mpkz3zRu/oMosWjDqlstU//aZx8sypc6+jgzYUrFZ3WSOBrd0ODcEtx7TWrZ/8LGc/4ydF+aeGfJItRPfjzmyKINbLukN3t1Dt8ptJjh44aFMrj0kwuA7cpzdr+NCSpezk491AsXK+TtxbU/pZKfQcObLUv0d9YVZcr+dB6DxEQRR1B549Cg5eslHzh+k8JK9MA9M1BuCGnn+W6nLMW76kgaW1nLaRKq9NYS5aYi5YXCCjgnuZXIR384DyKNIDZCXNsh2Ow8ADgUMKB9w28iLZGJPLRF8W+628zzua3Xy7pz40rfga1dVniVTBu101rNA+ow7Q8Z41Ta1NG/OPHncTkZVyBMTjpFKO6VWzn9ertxoJwytGuqsSxKtw0ervI7qYLZndk/dlmi90eB6zbaX6jqrZLx/W03JaPA42G3wV0Pd8EFcqWlm63SNvXmq3HBUidR99KBMuX+unZsZM6C8VuG5qaese+lpeaT3F+XuY1rbV7Uq518Tl+JpValzy2T7Bx9Jv0Qhz65bki0ToG2hri2vkUcyCJsx7Hsm+zZ6sbOvMSU/IT8Tv1+2naNskNt8IcvdXn0W3GavXaSddCQ8VvZYRjVg/xPJ4lz4mVLGY3Y527VCKv37VRt7PCLi9inR9ZTmcYo7RyHry/Tcp7NOvzT2KdPj5C7vfeZUim0w1bIHyrDqFVL6pXfsvOxFr19PyLVnj5P+jjhOYo9B2LmK3ydPdN/cZSRuX+M+/+aYizO9Wcbpfjuz9BxGf1fFb2/c+4cce/M+XXX+TrnWrteIOa72WNupMAl/T6TzuU+H/3O7bqDv2MdfJ+G/OwO/tzL9jGTKv73/6hN9nsX+R89RyO8XR9jr6Zx795pqb47fzBNjlw/d9zz8fk7nM6Lcc+o+N8I+93b7Qq+zBK+lc5zcZVL/LmNAeRQTSgQzcPd6TU8lckTP4J+cChnl/G2QDYsDAbGHTJxwhhyx7jVbffMDWVkySKaMGy1X2SWMktHyioZADVReVc/5G6Vy1EXySmWyP2+plMiYcRfJlN7rIlVJtepr5aiQ9oS6XcFt1e33b6vZTifU1fq2c85yqe15jMwO7pNKZ50RY2XcYHejSgaPc6Yabti5k2KqEz5S3VpOu6mB7UcGtXNuOPbJh/9K/ybgpoVuydW4bNviPDNL+tl9uO2Dfc4M/cPqTnuPuBB4rcg9vtf15zodc1TKti3eH2n9IxtbSqo3kPbmy1vvA87F5Kwz2MmH/rHVP9R6A+K9f+kDu+WiXHcGYs5FQ2n1Uq9UWLd1hSwO6eRHj4t7oxXdJ/d6CraxCjlOzuP5biHVg+POa4hMz30667TS3yeV4DiFnPtb5ePI+kpP/0her83B5y5Nuk/jFkb3J1UVYv0d4YYyd3nvc+Lff12nG/D861R685ws4Caj29Rf1jnr1Orjw05xjpv5XeVur7+UO/79nWMqzrEP2yc9J07QE++z53xGt5cP9H3uo1WGTRtmR8zn1HnE3nhncD1nauiRUnvK7ob/fs70M5IRJ3RqlVAnKNyTbfANKm2XIIgPk8qu9qmV0bnXmifOZzf2b55e47HHNOz38yPVej1m/xnN5DOSVtvgezab1zoN7RPXkcwDIzTAxtbIyew4pfe7DCgWBMFMbFwg7zpBr7R3RWyQ6dFfKqVO3l0e35awdvlrcuZKrzJJlVzpBDwp6S3jfUHstkGDpFRLCv2lahvfNqEt7r2UCViBzmJCw5VDw6Wv9NALs907uNN+WlLo39b52l6ypGOklDJ0O+vmyZlmnwbJxB52nk+qdUbNlTnL3BRdt2yOM5UDgW/5vGqaR5+YPAwlc3Pv9s7/d8nKTG7+lu821Yl6987+fTOiN0aBb0Lv/9bHzg2584e1m/9b4Fj6x1RDoN4gBL+Fvfne/s5tivNH3b9e533u0Ruv8m4xf2yHddNvZQO9qeo25aC0J8q5QTtF9yWzUB4m9ptlW+W0tIuc7d0UOcH6InNcgjc0GnKcLTnFFxov6yC9nX+2L1kbc/xv+lK2gSFPMtknK3ic5jg3mcFzr1V4Y6+dxXL+I1qdrrX0HmRn5ZHeZMbe9HtViNtLZdhNrv6O8H3hcf+/tgY+q8fLOC29qF7tO07vyCMmcCRYZ7r86ywV+fCR6Gcr8jkNPU/eMQ3/cimmBOiZtfKhfu5DbqjTksfruZM4gSXHv59zLVIl1HduGmLx5tgvZ/R3blyvmVt2uu+Vxbk3pWv+Y2q+hPR/9o6Xa4/R9u0fxXxOGnbs8/EZsT/v/z1seO+1OfolZRbHKZ3fZUCxIAhmZLvMXueElZgg10mmDnYSUN06mR1TGqjq5JMNXgiydu6Q2pgg5pYm1q6riqvqubI2+F5WWGcxCaqKrlwfCKe2c5zYKqdqo2ie87t7ga7bq8aZeDtl42pZ6fzTvUOwfCbVOmPNvX+KTJ48OetqoUHBmxcNJ+tShKFU3JCToWd2yjrnn4a8b8507RB6Q3i2CYHuN+nx354Pk7OHOvvt/+Nr3b9ul/P/2D+27s1O4lKYXNC2naZaT8zNRzZCgqQJ7tGbJzMUSDDYGotl5hK9WfF9w++d6zRKX5tSRvtkNDxwN9oXIaHCg2jc7wj9wuL0+C9C8mHxQv8XI+FfLiU8T/Y6GzYiWIoRPpxN1vJ4Pefj93NOOQEjrU7BMuD+vvTCkQ01kbBTJr2d32nbN7sltZmf++A15bhnhin1ivxOv7Wb87kO+yzbY5/tFwZ54H4pEwindvtfnx7dz8yPU8N/lwGHEoJghh5fudgJPSUyZpAdUqKkQo5wgtrKZSna7AVEQlNJJ+nu/FM66IzYEj7n4W/X1+TsdiZTWtrZPitwCcLQocRU/4kMs6APX3uIoNKecprekCTk3qBI+cDAOp1HTDsTV2ToDBMGvWVzFwp130wbEy3NyWkpYywvuKQO//5vvbXqnVuqpjfP3nEqtFCY2T5lQttveefcPlK038otrcoYeP+QazR9XmlBf1+1ObdURWq3yswcBYRE3PPk/xx5j+Tt/HKnCa7nAvn9bDoFy2WVUOX/kklLW531v15tw44tfV23zn2/fJx7t0aLW4U0dp1J/j6klKfPyDOz5Hlnvf5waqqFBtbZ9J8RoHkjCGbMVm/s2V9uc/65qmdvKQ0p+UqoQ0etBSSbdtqSwrrtssn5R6uQxpTwRR4FMiyE3c5QNiTW1m5zpwuWDTRe1ZssBKv2pMWrXmW/6c03t71Ea1NFzG0DYdtMODdzoUz1OLdq0Gk3hQU299tiU+0osr7YR1wpov0m2jwiobDh7cQ0BJoOAXSbA9Vfc8a2PfRuyJKdc/cmJFias1jO/4J3bHw30QXUBiXzfUqHbU9Wqu2CvP13HtpOzS6RV5edLmv05s9cz773t23hsuO12/LfPDvvEaiCly/ueQocT/8jj1+ERDXW9dzw38+545XWaTszX7iwX2p4oTjjQGxLqfRLJi3JkiVrZaZzjqNhZ5+sW26e5OXcuyWS8W0oI4+srun8fUZM1dZIial7Tha/GbvOwviMAM0XQTALdy9fLrXSQ0b16CTje5c4IW5BaFXHMFd10Dqh/uC4TTY5QS+0LWBBSbKdJtyGVIPNkPYaOm3aNJl6cy66iglhA1lc9ZkMhFWFTCkQLPLL/lF2boYfyaiKmH7zr2FQA1swDC6WlVucf7JtQ6Gh0NyMN7Cd2K3nuCFQ/+jn8Sbc/dY8WtUo8Tm3xzqkymyU3kTbEF5AJdEN26cEvC88PliR+c/mgv2cBW8UG+SyPnK0E06CHaqkf3NpA0WWsvp9k1d5vJ7T/f1sz0l+6e/DwDnXh/1Sw+1MK5sqxPZLNeecnj1UTBVFUwVSw86Jev1Gv4DJy7m3JZI5bYfZ4M9IEqbTGHd7vXbqwSqghfcZAZoXgmA26qrkEycUVY7SYRE2ymuRzlBS6HGSqe4ZGxy3y5RlTirUDmBG2uqmBSnBdmpPoqN6hPSYmqnc9xoa63h5T7/NzTggBWTR8YvXy1ku2u547SZSjksY08jeK6mxkwk5Nz/mRic+DN403c4PdmwQR6sGxpf8NfgYRLo7129+G9bNeVI2bMaEmXtWmBvfYO97bjvF2PYqZjuDJSX2Rim+TVRm0j736chknzIU085Ij0ejVg119snXJsjrIbGh0vm8x7dp0s9dA6unJThPOWF7ZgzrGCgij9dzrPDfz3E9Lmupb5LrKaefkbxwv1TrdMxA53NmQ5/p0MfZ5mO02uNuc06MfJx7r7rlMbE94+ZCftoAu53G6O+Us7sFfi978vkZAYoA4wgGJBtHMIYZp08DUPwYesodRzCul5fQMQhd8eMIGjHrDxnDLyKwbrt98WMRxkt7n5UGv3GDTPVWT9h7ZLROK9fjCAZvFmJ7CrMiASNcTA98ltu7ZrqBxN4Mho2VlK2Q/YvdzuANqFYF+qusnOhsd8wYVYHxuMw8R+SYuD8X7SjBLh8MlHHVNENugOOWyUSC940Ibmd6ItVMYyRel9erakSCfQpbb9h1FP7+ngTXV4pzn+k609knd53aNXvscQn9HAQ/T2Z97rh2vWM+f8lDUuhnNQ1x+6+fu+kdzDEzYwZ658Aex3TGg0t8TEOulcD+67lxxwfUscvscbLLeOct9jiG/74I34bY9w//vZTgMx4Rfx6Cxz7svcOu5/SFf54TnfPY93f3Of53mU/K348NkMF1k0hkf3znOGyeJ51zH7ymUgp+Tq1sj1P4NqrgZySLz33kfIZ83nzSOU7uMql/lzGOIIoJQTBbKYKWGwQlSfBDPviDYEP+WCeVwfrdPzDJ/4ChaSS6KQAi7A1z/A2qF2b4bKPIHYKfEYIgiglVQ7PiDRmxXKanKG3DISjd6jXOH0h3cPbcdT8OoPG4VZrDupu37WaBIsdnBGjeCIJZuG2kVs+sk3fnZTZkBA4dkYG3E7VL0FJDrXpTvSI/pZIA8s7tkTCkcw3n862DWDfGEBJAIeMzAjRvBMG0aRs+d3w/t+0bVT6Lm6/3vBBmkFttH5WrdoEAGp03JqY3XIB/GAGtGt4YQ0gAhYzPCNC80UYQhxTTRhAAACALtBFEMaFEEAAAAACKDCWCAAAAAFBkKBEEAAAAgCJDEAQAAACAIkMQBAAAAIAiQxAEAAAAgCJDEAQAAACAIkMQBAAAAIAiQxAEAAAAgCJDEAQAAACAIkMQBAAAAIAiQxAEAAAAgCJDEAQAAACAIkMQBAAAAIAiQxAEAAAAgCJDEAQAAACAIkMQBAAAAIAiQxAEAAAAgCJDEAQAAACAIkMQBAAAAIAiQxAEAAAAgCJDEAQAAACAIkMQBAAAAIAiQxAEAAAAgCJDEAQAAACAIkMQBAAAAIAiQxAEAAAAgCJDEAQAAACAIkMQBAAAAIAiQxAEAAAAgCJDEAQAAACAIkMQBAAAAIAiQxAEAAAAgCJDEAQAAACAIkMQBAAAAIAiQxAEAAAAgCJDEAQAAACAIkMQBAAAAIAiQxAEAAAAgCJDEAQAAACAIkMQBAAAAIAiQxAEAAAAgCLTYsyYMfUHDx6Uo446ys6KtWjRIvvMNXz4cPssVjbLtWjRQo444gg7FVVfXy+ffPKJnWq65Q477DAZNmyYnYrS47V48WI7VfjLtWzZUg4//HA7FXXgwAH59NNP7VTTLdeqVSsZOnSonYrav3+/LFmyxE413XKtW7eWIUOG2Kmoffv2ydKlS+1U4S/Xpk0bGTx4sJ2K2rt3ryxbtsxONd1ybdu2lUGDBtmpqD179sjy5cvtVOEv165dOxk4cKCditq9e7esWLHCTjXdcu3bt5fKyko7FbVr1y5ZuXKlnWq65UpKSqSiosJORdXV1UlVVZWdKvzlOnToIOXl5XYqaufOnVJdXW2nmm650tJSGTBggJ2Kqq2tlVWrVtmpwl+uY8eO0r9/fzsVtWPHDlm9erWdarrlysrKpF+/fnYqqqamRtasWWOnCn+5Tp06Sd++fe1U1Pbt2+Wzzz6zU023XOfOnaVPnz52Kmrbtm2ydu1aO9V0y3Xp0kV69+5tp6K2bt0q69ats1OFv1zXrl2lV69edipqy5Ytsn79ejvVdMt169ZNevbsaaeiNm/eLBs2bLBThb9c9+7dpUePHnYqatOmTbJx40Y7lZvlKBEEAAAAgCITKRHUb+0BAAAAAIc+SgQBAAAAoMgQBAEAAACgyBAEAQAAAKDIEAQBAAAAoMgQBAEAAACgyBAEAQAAAKDIEAQBAAAAoMgQBAEAAACgyBAEAQAAAKDIEAQBAAAAoMi0GDNmTP3BgwelTZs2dhYQq23bttKtWzcpKSmR1q1b27lAYdq3b5/U1dXJ5s2bZc+ePXYuAAAA/AiCSKqsrEz69esnGzdulO3bt5ubbKCQ6ZcVnTp1kh49esiaNWukpqbGvgIAAAAPVUORkJYEagisqqqSTZs2EQLRLOh1qterXrd6/ep1DAAAgFgEQSSk1UG1JFCr2QHNjV63ev3qdQwAAIBYBEEkpG0CtToo0Fzp9avXMQAAAGIRBJGQtrWiOiiaM71+6eAIAAAgHkEQAAAAAIoMQRAAAAAAigxBEAAAAACKDEEQAAAAAIoMQRAI6Nx7qHzhOy/IxT+YJWd+7U/SrjT74QdKOveWz9/4sHzxv16Tk6/6hbRs3c6+AgAAADSdFmPGjKk/ePCgtGnTxs4CXMOHD5dFixbZqdwadtLVMuKM/89OJbdj8yp580/flN21m+2c/NIgePLVv5Q27csa/N79R3xOjpv4PWnZqq3s3VUjb/35O7Jt3RL7KhpDPq9jAACA5qpRSgRPO+00uffee+U3v/mN3HzzzXLYYfFv+8UvftG8fuutt9o5QPO3Zc1C2bn1M6mvPyhbP/vEBEsAAACgqTVKENRxvHRQ5/bt28uIESPkzDPPtK9E6TL6ert2+a06N2HCBPnBD34g3/jGN6Rbt+yr/PnpenR9ul5dPzKzc+saWfTGHxM+lv37Wdm3Z6ddunmp27ZO/vf318lffzJB3n7ie3Jg3277CgAAANB0Gr2NYKtWreSMM86Qvn372jmNq3v37jJw4EApLy+Xtm3b2rkNo+vR9el6df3IzO7araEB0Hssf+9vBCgAAAAghxqljeDnP/95ueyyy2T//v3SokUL815vvvmmPPLII3YJkUmTJsnZZ58t1dXVcuedd9q5URq2KioqZN26dVJTU2PnZs57n82bN8uvf/1r+eyzz+wryWmpX8eOHWXlypV2TpSG2m9+85tmmZkzZ8rTTz9tX4mVzT7o8lu3bk26vBdE9djt2bPHzm24xmojuHnVAnn9kW+Y54m0bN1eTr7q/0m3AaOkvr5eVrz3vHw44z77qsiRp31Fhp18jXN9HSY1G5bLW4//p2nXd9q1v3F+ZqTsrdsuH7x0rww+/ovStd+RcljL1rJ/7y7ZuPJ9s55dNRvsmlK3Eezab7gcefr10qXPMGndrtRsz77dO2TNotdl4Wt/MG0BPYnW5Z+v+z//fx+QkZ/7asy2rV82Vz548Vcx60ulfVlPOfqcW6R7+VF22w7Knp1bZcUHf5fFbz0mBw/ss0tK9Ng46//wpV/L0HGTpHOfw2Xfrh3y5mPflo49KiPtG6vnvyJ129bK4BMukdZtO0jVRy/Je9PvMevR7dVjP/CYL0jbDl3MOdi3u1Y2r14gH8+aFtcmcswFt0n56LPkwP49Mu/lB6TvsJOl58DjzLa9+8LPnOM4yy6ZG7QRBAAAiNfSCTF36I1sy5Yt7azcGzRokKkSqkFw3rx5Jjj17NlTNmzYIGvXrjXL6OtDhgyR7du3y+uvv27mqSOPPFKmTJkiV1xxhZx88skmxGmbQy1ZXLJkiQlB2u7wmmuukRNOOEEWLFggdXV15mc1fH7ta18zVVE1xF133XUybNgws69aBfXEE080r+3evVuqqqrMz/hpW8ZLLrlEvvrVr8r5559v3nfixIkycuRIs7yGsxtuuEEuvfRSKS0tNSFXA9m5554ro0aNkrffftusJ9U+eHRduo0DBgwwN6+67VrVVJc/9dRTzX5p2PMcd9xxpkqqhttTTjlFzjvvvLjldN63v/1tOf30003o3bhxo5mfjh49esimTZvsVG51Lx9tbv6VhrCqj140zxOpP7jfhLk+h493gkkbKenUxwlQ82TXjo1S1nOQjD7rJhNQNFwsfPUPJoSoyqPPc5btacJKn2EnSWmXftLiMPda13kdu5VL7yFjZd3S2Sa8KO0ltHz02U74dDt4qZ43wwQzdfj4K+W4C/6P83MDzHYoPe+6rAZDfY901uWf38p5VBx9rpR2HRCzbWVOEOvsrHPNJ6+b/U+l3/DT5cQrfmpCpn/bWrUpMcGwW/+RzrreiKzLOzbSQqTXwDHO+/c3yx/Yv1dWLXhF2pR0ckLaSc7noJV53nvwCWZ7Vc2GFfLZ4jdNr6infuk+6e+8t76P/rzS99f1DRj5eanbvt6Ec0/fYadIp16DnZNaL136Djfbq+Gxvv6ArF0yW2o2rrBL5kY+r2MAAIDmqlGrhupN4rvvviurVq0ybQbPOeccE6ASOfbYY+XGG2+Ufv36mbCm4UbDV6dOneSiiy4yAUhLwF566SXZt2+f9O/fXy6++GLzs6NHjzahS9sdLlu2zJQI6HOv5FNDnk7rdmj7xDAXXnihCWG6jJYgrlmzxoRZDawaDrUaqAZRXY/XAY6u39/WMZ198Hjr0qCpwU0D665du0yJU5cuXeTqq6+Ws846yyx7xBFHmPDbu3fvSPDbuXOndO7cWa666ioTCJUGUt0m/XkNl83Z2iX/MqVuejzadugsg467yMw/fNwVkSEe1i+d64SY/zXP/TRgadhY++lbprqplmh54U7D4OjPf928noyW1g0dd7kpIdPAufTfz8lrD31N5j53h+kQRum6hp14tXmeLg1Z9QcPmlI73bbPFr/lTB8wr3Xtd4T0rDzGPE9Gw/BRZ08xJYz6s7oO3a5P3nzElEDqZ6+Hs54jTo7fNt0f3QYtkdOwqm02d+2IDU7tO3bXg2jaauoy29YtdkJhOzn2/O85gXWgWUbbQ2qJ6HvTfyabqj8ypZEaDkefeZMpeQzSsNu+YzezvVqiutt5z1yHQAAAAIRr1BJBrYI6Z84cEwR1WqtS6rxPPvkkrkRQA+KXvvQlU3K4YsUKufvuu+Xll1+WV155xZTuVVZWmiC2ePFiE/Q0zA0dOtQEIw2HWuLWp08fUwr2u9/9TlavXi0vvviiCWj6PhrsfvrTn8oTTzwhy5dHSyv8tCdT3cb58+fLj3/8Y3nttddk6dKlpoThjTfeMNs9d+5cE26POuooExi1aqiuN9N90P0eO3as2X4tKfz444/lV7/6lTz77LPy4YcfyuDBg6Vr164mUOryGnT1mGm1UV1u+vTpZvv053V/9P31OHjVRrUkUPdf3yddjVUiqKVSw0/9cuij58AxMaWFtZurpc/QE021x5LOvUyIGHjsF0wJ1O7aLW41zx3RUk+v1EtDycezHpKPnNc3VX3oBMK3ZVfNRuk15ART4tW6XUfZsPwdU40yUSmelvb1HHisCYFrF78tH7z4SxNedmxaKXvqtknvoePMupSGUS15S6dEUEs65zzzA1n+7l/NtmnVSK0C26FLXxOWNBxtXjXfrDcRrRrbo+JoE5KXzH1K3v/7z812bXTWt23dUlOyZwKfc9xWf/ya2YdIiaBjU/U8J9R+1QTRlR/8w7TJ1HDplQjqNn/40q/k33+5Uz6d/YRsWbNIykd9XgaPuciEbA2Pb/7527JuyWzZvn6ps58vS2nXftKp52AnDLaX1m1LIlU+IyWCjtrNq0y14AX//L0se+cv5vjnGiWCAAAA8Rq9sxil4UmDjpZSaKmdBrOgo48+2lQh1dKuF154IdJGToPjjBkzzI1dWVmZKT1TGnIWLlxoSr+0OqcGp9raWnn++eeTtq9Lxvs5raqp26mlfhrC7rnnHpk1a5bZlmQy3QePhrZHH300cvOqwfmpp54y+6MliVrKuG3bNjlw4IAJmxp6dT0a/H7729/Kn/70p8h7vfrqq/Kd73zHtLsMq/7a3Gg7u6X/ftYEwNZtS2XEGdebfzUAVc+fKVs/C28LpqVdWkXRT6tJ1mx023y2ad/RtP1LZvm7z8vff3mBebz7wt12rksD6oF9bvtMLQXTaqrp2uMExNota+yU1pg8aEKtJ9W6tBSwW/8R5rnXVtFvy5qPI+tv17G7E/56meceDYXaIY8G1US2r19mSlH9elQca4Kq0vfUEkGP7oMGSq+KrFb/bF/Wwzz3q3KCce2W1XYKAAAAjaVJgqD6+9//bkqzNNho9csgLdnyhp245ZZbZNq0aZGHBjEtZdNSzA4d3JtkDVd/+9vfTHjyqn9q4Hz//ffN82zoNur6tFqltt377//+bxOotN2dlrSlkuk+eLQzGS8EerRq65YtW0wY1VJELfHT9pC6/gkTJsgvf/lL+cUvfiHXXnutKQltTpINH7Hi/RfsUlFahXLz6oXmuRdEajYsk0//9YR5ni4t9dqx0Q3Huh6tHpmKVh8tH3WWnPGV38oFt74kF/9glnlMuP4PJpDlQ7vS5D3RarDTgKd0G874yu8i26WPC2+dYdovKi2BLO1Wbp43lJZYqoP798r2DfFVOjW077YlfFri2raks3kOAACAptdkQVBLpzTMaKmWVnEMhhcNPFpiqKVcuqxWrQx7BAOTn667IfR9f/7zn5vt1PfRbfLaIX73u981pXDJZLsPqUoaNejqMhpMn3nmGdM+UNtIamDVtoHf+973TKlhc5Fs+Ijq+S/bpaI0wGk1w4MHoh2orPnkzaQlWrmgbeLGXPRfctwF3zednLRs1S7SZm7fnlpTClaM6vW/It13AACA5qrJgqDS6pwahLR0TXvW1Op9Hq0eqeFGHxp2tI2e/6FDP+i/WvVRaejSHj21Td/evXvNPO0VtKGBaMeOHfLYY4/Jrbfeanr+9Dqm0XZ3J510kl0qXKb74OnVq1dcyNRhJLRdoR6j9eujVRy1iqqWUn7961831UK11FB/VquLHqq01Evbtx3W0m2PpyqPOtf05JlPFaPPNr1jarjXUszX//h1mf7z801V0Tf/9K1INcimpNVfZz5wlfzlx6eHPv72s7Nl9cJ/2qUBAABQrJo0CHpt5bS3S+0gRW+wPdpBi1Yd1WqTOsSDvyqmdqpy1113yfe//30TkJSOVaglixq6tOMULYHT9nNajdMfqrRtnfb8qevTaqkaIMOqeWrpmrat045YNGAqLdnTzm60rZ6/SqdW5dR2gEp/Tuk6tc1iJvvg0SB4wQUXmG1T+nPag6n2CKrHSterQ2NokNRw6q1XO63RTnGU1xurdirzs5/9zATZQ2Ww+8NPvFLKerqdjezf6x739p16OfOvMs/TpSV8HXu4x970mFmXvCOdrv1GRIZ3qJr3sukwpRBoRzXaNlBpSO7Uc5B5nm9eT6naCU1n2/mLnwbzdh3cz4Nun24nAAAACkOTBkGlPWK+9957MaWBSqtLai+YGuy0R06tovmjH/3IhKfJkyebcKdhTIOWBikNWtpeTkOShkstbdTApq9pqPJoiZmuU4OSttv7zW9+E/O6x+tdU3sZ/cIXviA/+clP5Ac/+IH5GQ17Gsg+/fRTs4wGWm/5448/Xh544AG5/fbbTbhNdx/8tEqrDh+hbf50ef05/Xk9RtruUdsL6rASGgB1GAntpVS3TderYVi3x9s2Hf9Qe03UHlV1nc2d9jZaedR5bpXbndvkven/z3RSotP9hp9mehQNY4YqsENMePodcYoZ7kHt3bUjZbBr3a7EPounwyNo75hNQXs/9QZt120YfMKlTsiN3ZZOvYbIcRNvNcM15MrGqvdNgFZ67HVMQY+2paw85nzTu6vS7dPtBAAAQGFo8iCo/vGPf8RUd/ToUAt//etfTaDTUjUNddoLp/rggw/k/vvvN6V0WjqmQytooNLSQA1C2kmMhiY1fvz4SDVOLTXT6pRafVSDo7a3C4ZQpev4wx/+YAbAV9rxy8CBA837aAjUjmm819Rf/vKXSGmchkcNeBro0tmHYK+m2jOpBjkNirq8/pxur7ZVfPLJJ80y2pGNhl0dm1BLNnXbdL26L++8846piqp0KAndF39wLTTtSruEDh3hPQYdd6EpvdNwMeyka9xx95z9XLPoNdNWcOVHLznT7ph1WloYDEFKf/bIMybLCRffLv1HfE5Gff5rMvqsKZHwpoPTb9+wzDxPRHsY9a6VISdcYnos1UHcx0/6sbO+r0c6rmkK2pOqN/SCDiNx5o0PO8fqarN9GgBPu3aqVBx1roy99K60OsVJx+qPX4902tOhSz859Zpfm/esOOocOeU/7jXHWWlJqw4NAQAAgMLRYsyYMfUaFLyeNguRVpHU4SAOP/xwU6KngUbHAWwILU3T8KQhTMcaTEbbHep7awjU99ZxC/WYhdEwpgFO2z5qSPWksw9azVOHnNDOX7Tdn44zqCV8WjqqpYDBwKh0P3T4DR2rUYOobltwOd0e3Rb/9qRDB6DX980HDQwjzvj/7FRy2vvkm3/6pvQ5/EQ56uybTeDSUsC3n/hP85pWhzzlml+ZUi8dVuLj1x+WxW8/Zn72tGt/Y0rr3ABXbwJh0I7N1c66vhcZ/kCHOjj56l+a9XrvrYOy69h/J1/9i8gA6n7acY2WSmrV0V07Nstbf/627NhUlXBdieZ7xlxwm5SPPss81zH5gsNVhNHQd8x53zbrDKPVaD+aeb9UfTTDTHvHRoeP0JLVYNtBDXLHTfyeqfq5edUCM95fkJYCnnj5T0OPidL31EHml73zVzsndt/0tcVv/9k8z5d8XscAAADNVUGUCKaioWvJkiWm5HD27NkNDoFKQ5EOCJ8qBCp9P31ffX/djkQhUOn6dL3B0JXNPqxcudIsryWbYSFQ6ftodVgtCdUSxrDldF6mIbDQlJT1lMPHX2FCoBmj7qOXTIBS2munjoOn1RQ1iA085gtxHcccPLDXCR3/I5uqP4pUZ9RB0j9b/Ja89di3YsbAS0SD2huP3iIr3p8eaZOn69J1/uvJW03wU23al5pQ2ti0dPSff7je/KvHxCu91E5sdAD9V3735UgIzBU9bnpMPp39pDk+Xu+h+p7rls4xr/lDIAAAAApDsygRLBbBEsGmdiiUpKQq9cKhjxJBAACAeM2iRBAAAAAAkDsEwQLy3HPPmeEqHnnkETsHAAAAAHKPIFhAtH2htvfTtoEAAAAAkC8EQQAAAAAoMnQWg4ToZAOHAq5jAACAeJQIIqF9+/aZQfeB5kqvX72OAQAAEIsgiITq6uqkU6dOdgpofvT61esYAAAAsQiCSEgHve/Ro4eUlJTYOUDzodetXr96HQMAACAWQRAJ7dmzR9asWSMVFRXSvXt3qomiWdDrVK9XvW71+tXrGAAAALHoLAYptW3bVrp162ZKWAiDKHTaJlCrg2pJICEQAAAgHEEQAAAAAIoMVUMBAAAAoMgQBAEAAACgyBAEAQAAAKDIEAQBAAAAoMgQBAEAAACgyBAEAQAAAKDImCDYokULMwEAAAAAOPQdRggEAAAAgOJCiSAAAAAAFBlKBAEAAACgyLQ44YQT6h2iDxX8FwAAAABwaGkxduxYEwQVIRAAAAAADn0mCOqTROGPUAgAAAAAh5YW48aNc7IeYQ8AAAAAikWk11DvAQAAAAA4tJkSQfscAAAAAFAETIkgAAAAAKB4EAQBAAAAoMgQBAEAAACgyBAEAQAAAKDIEAQBAAAAoMgQBAEAAACgyBAEAQAAAKDIEAQBAAAAoMgQBAEAAACgyBAEAQAAAKDItBg3bly9Plm+fLmZAQAAAAA4lIn8/3el4Ir//gzBAAAAAElFTkSuQmCC)"
      ]
    },
    {
      "cell_type": "code",
      "execution_count": null,
      "metadata": {
        "colab": {
          "base_uri": "https://localhost:8080/"
        },
        "id": "KTlv_kGd5zb0",
        "outputId": "6ae3b25a-7e32-4d34-bc73-58b755417f15"
      },
      "outputs": [
        {
          "name": "stdout",
          "output_type": "stream",
          "text": [
            "badar (26, 'Bihar', 79034)\n"
          ]
        }
      ],
      "source": [
        "def person(name, *data):\n",
        "\n",
        "  print(name, data)\n",
        "\n",
        "person('badar',26, 'Bihar', 79034)"
      ]
    },
    {
      "cell_type": "code",
      "execution_count": null,
      "metadata": {
        "colab": {
          "base_uri": "https://localhost:8080/"
        },
        "id": "ouzU5zh5RJjY",
        "outputId": "2ce11a23-c01a-4f33-9c30-9aabdb5c836d"
      },
      "outputs": [
        {
          "name": "stdout",
          "output_type": "stream",
          "text": [
            "badar {'Age': 26, 'Place': 'Bihar', 'Mob': 79034}\n"
          ]
        }
      ],
      "source": [
        "def person(name, **data):\n",
        "\n",
        "  print(name, data)\n",
        "\n",
        "person('badar', Age= 26, Place='Bihar',Mob= 79034)"
      ]
    },
    {
      "cell_type": "markdown",
      "metadata": {
        "id": "SCxvgH6-cJy-"
      },
      "source": [
        "# **Q3. What is an iterator in python? Name the method used to initialise the iterator object and the method used for iteration. Use these methods to print the first five elements of the given list [2, 4, 6, 8, 10, 12, 14, 16, 18, 20].**"
      ]
    },
    {
      "cell_type": "markdown",
      "metadata": {
        "id": "a9ErcV7_cmay"
      },
      "source": [
        "<U>**Iterator**</U> is a method in python which makes an itrerable object ( <code>[list]</code>, <code>(tuple)</code>, <code>'string'</code>, <code>{sets}</code>, <code>{dict:dictionary}</code>, <code>generators()</code>, <code>files</code> ).<br>\n",
        "<br>\n",
        "<ul>\n",
        "<li>The method used to initialise the iterator is <code>iter()</code>.<br>\n",
        "<li>The method used to iterate the iterator is <code>next</code>.\n"
      ]
    },
    {
      "cell_type": "code",
      "execution_count": null,
      "metadata": {
        "id": "bvl1sbjycSpE"
      },
      "outputs": [],
      "source": [
        "s = [2, 4, 6, 8, 10, 12, 14, 16, 18, 20]\n",
        "s1=iter(s[0:5])"
      ]
    },
    {
      "cell_type": "code",
      "execution_count": null,
      "metadata": {
        "colab": {
          "base_uri": "https://localhost:8080/"
        },
        "id": "CPC5WXhqCDje",
        "outputId": "43c5a06e-19e9-4f56-9f7d-9965cd846b85"
      },
      "outputs": [
        {
          "data": {
            "text/plain": [
              "2"
            ]
          },
          "execution_count": 10,
          "metadata": {},
          "output_type": "execute_result"
        }
      ],
      "source": [
        "next(s1)"
      ]
    },
    {
      "cell_type": "code",
      "execution_count": null,
      "metadata": {
        "colab": {
          "base_uri": "https://localhost:8080/"
        },
        "id": "jKFm8BTDCHyF",
        "outputId": "6d70d7c0-aa65-46f3-e03a-439ee64c5f52"
      },
      "outputs": [
        {
          "data": {
            "text/plain": [
              "4"
            ]
          },
          "execution_count": 11,
          "metadata": {},
          "output_type": "execute_result"
        }
      ],
      "source": [
        "next(s1)"
      ]
    },
    {
      "cell_type": "code",
      "execution_count": null,
      "metadata": {
        "colab": {
          "base_uri": "https://localhost:8080/"
        },
        "id": "10CT0Xo1CJMh",
        "outputId": "0913066e-9390-4d07-c96c-b4ee72836256"
      },
      "outputs": [
        {
          "data": {
            "text/plain": [
              "6"
            ]
          },
          "execution_count": 12,
          "metadata": {},
          "output_type": "execute_result"
        }
      ],
      "source": [
        "next(s1)"
      ]
    },
    {
      "cell_type": "code",
      "execution_count": null,
      "metadata": {
        "colab": {
          "base_uri": "https://localhost:8080/"
        },
        "id": "YW1fN3GyglmQ",
        "outputId": "22accd8f-d171-47ac-d5bc-84e949e42997"
      },
      "outputs": [
        {
          "data": {
            "text/plain": [
              "8"
            ]
          },
          "execution_count": 13,
          "metadata": {},
          "output_type": "execute_result"
        }
      ],
      "source": [
        "next(s1)"
      ]
    },
    {
      "cell_type": "code",
      "execution_count": null,
      "metadata": {
        "colab": {
          "base_uri": "https://localhost:8080/"
        },
        "id": "BO5YAyhQgnWF",
        "outputId": "eefb81a2-1afb-46c4-ca6b-28d182333b11"
      },
      "outputs": [
        {
          "data": {
            "text/plain": [
              "10"
            ]
          },
          "execution_count": 14,
          "metadata": {},
          "output_type": "execute_result"
        }
      ],
      "source": [
        "next(s1)"
      ]
    },
    {
      "cell_type": "code",
      "execution_count": null,
      "metadata": {
        "colab": {
          "base_uri": "https://localhost:8080/",
          "height": 141
        },
        "id": "25ENEictgpMd",
        "outputId": "9184e414-ae51-4b9e-90c7-f1831f56d09f"
      },
      "outputs": [
        {
          "ename": "StopIteration",
          "evalue": "",
          "output_type": "error",
          "traceback": [
            "\u001b[0;31m---------------------------------------------------------------------------\u001b[0m",
            "\u001b[0;31mStopIteration\u001b[0m                             Traceback (most recent call last)",
            "\u001b[0;32m<ipython-input-15-ac0bd3bce131>\u001b[0m in \u001b[0;36m<cell line: 1>\u001b[0;34m()\u001b[0m\n\u001b[0;32m----> 1\u001b[0;31m \u001b[0mnext\u001b[0m\u001b[0;34m(\u001b[0m\u001b[0ms1\u001b[0m\u001b[0;34m)\u001b[0m\u001b[0;34m\u001b[0m\u001b[0;34m\u001b[0m\u001b[0m\n\u001b[0m",
            "\u001b[0;31mStopIteration\u001b[0m: "
          ]
        }
      ],
      "source": [
        "next(s1)"
      ]
    },
    {
      "cell_type": "markdown",
      "metadata": {
        "id": "hn6BnaZXksR5"
      },
      "source": [
        "# **Q4. What is a generator function in python? Why yield keyword is used? Give an example of a generator function.**"
      ]
    },
    {
      "cell_type": "markdown",
      "metadata": {
        "id": "uQDO0SojxT_I"
      },
      "source": [
        "<U>**Generator Function**</U> : A function that can return multiple values but returns only one value at a time, instead of returning all at once.\n",
        "<br>\n",
        "<br>\n",
        "<ul>\n",
        "<li>The keyword <U><B><I>yield</I></B></U> is used in a generator function to pause the function and send a value back to the person or code that called the function.\n",
        "<br>\n",
        "<li>The next time the function is called, it continues from where it left off, rather than starting from the beginning."
      ]
    },
    {
      "cell_type": "code",
      "execution_count": null,
      "metadata": {
        "colab": {
          "base_uri": "https://localhost:8080/"
        },
        "id": "mAlt7oQmaOuP",
        "outputId": "da5abb2a-01d9-4d72-d249-caf413db21d0"
      },
      "outputs": [
        {
          "name": "stdout",
          "output_type": "stream",
          "text": [
            "1\n",
            "2\n",
            "3\n",
            "4\n"
          ]
        }
      ],
      "source": [
        "def num():\n",
        "  for i in range(1,5):\n",
        "    yield (i)\n",
        "\n",
        "x=num()\n",
        "print(next(x))\n",
        "print(next(x))\n",
        "print(next(x))\n",
        "print(next(x))\n"
      ]
    },
    {
      "cell_type": "markdown",
      "metadata": {
        "id": "TarjMjjAr72o"
      },
      "source": [
        "# <Font color=red>**Q5. Create a generator function for prime numbers less than 1000. Use the next() method to print the first 20 prime numbers.**</Font>"
      ]
    },
    {
      "cell_type": "code",
      "execution_count": 6,
      "metadata": {
        "colab": {
          "base_uri": "https://localhost:8080/"
        },
        "id": "3Zt_-w-Vr_-V",
        "outputId": "149a0730-53b4-474c-dd97-5672df9bba80"
      },
      "outputs": [
        {
          "output_type": "stream",
          "name": "stdout",
          "text": [
            "2\n",
            "3\n",
            "5\n",
            "7\n",
            "11\n",
            "13\n",
            "17\n",
            "19\n",
            "23\n",
            "29\n",
            "31\n",
            "37\n",
            "41\n",
            "43\n",
            "47\n",
            "53\n",
            "59\n",
            "61\n",
            "67\n",
            "71\n"
          ]
        }
      ],
      "source": [
        "def prime():\n",
        "  # Loop through numbers from 2 to 100\n",
        "  for num in range(2, 1000):\n",
        "      # Loop to check divisibility from 2 up to num-1\n",
        "      for i in range(2, num):\n",
        "          if num % i == 0:\n",
        "              break  # If divisible, break out of the loop\n",
        "      else:\n",
        "          # This else block executes only if the loop didn't hit a 'break'\n",
        "          yield(num)\n",
        "\n",
        "y=prime()\n",
        "\n",
        "for b in range(1,21):\n",
        "  print(next(y))\n",
        "\n"
      ]
    },
    {
      "cell_type": "markdown",
      "metadata": {
        "id": "QUE1E4BWG1ZO"
      },
      "source": [
        "# **Q6. Write a python program to print the first 10 Fibonacci numbers using a while loop.**"
      ]
    },
    {
      "cell_type": "code",
      "execution_count": 1,
      "metadata": {
        "colab": {
          "base_uri": "https://localhost:8080/"
        },
        "id": "e4q3f72kG8ny",
        "outputId": "bf2fbf6f-0d5c-472a-b690-624c919f6afb"
      },
      "outputs": [
        {
          "output_type": "stream",
          "name": "stdout",
          "text": [
            "0\n",
            "1\n",
            "1\n",
            "2\n",
            "3\n",
            "5\n",
            "8\n",
            "13\n",
            "21\n",
            "34\n"
          ]
        }
      ],
      "source": [
        "a,b,i=0,1,1\n",
        "while i <=10:\n",
        "  print(a)\n",
        "  c=a+b\n",
        "  a=b\n",
        "  b=c\n",
        "  i=i+1"
      ]
    },
    {
      "cell_type": "markdown",
      "source": [
        "# **Q7. Write a List Comprehension to iterate through the given string: ‘pwskills’. Expected output: ['p', 'w', 's', 'k', 'i', 'l', 'l', 's']**"
      ],
      "metadata": {
        "id": "nYoLXVwbA5uw"
      }
    },
    {
      "cell_type": "code",
      "source": [
        "s = 'pwskills'\n",
        "[char for char in s]"
      ],
      "metadata": {
        "id": "E2KtbgZsBMbU",
        "outputId": "69a7f160-0c39-44f1-ee61-700ba04d5052",
        "colab": {
          "base_uri": "https://localhost:8080/"
        }
      },
      "execution_count": 2,
      "outputs": [
        {
          "output_type": "execute_result",
          "data": {
            "text/plain": [
              "['p', 'w', 's', 'k', 'i', 'l', 'l', 's']"
            ]
          },
          "metadata": {},
          "execution_count": 2
        }
      ]
    },
    {
      "cell_type": "markdown",
      "source": [
        "# **Q8. Write a python program to check whether a given number is Palindrome or not using a while loop.**"
      ],
      "metadata": {
        "id": "jEUaMF_TBQhD"
      }
    },
    {
      "cell_type": "code",
      "source": [
        "num=str(input('Enter number: '))\n",
        "\n",
        "if num==num[::-1]:\n",
        "  print('Palindrom')\n",
        "else:\n",
        "  print('Not Palindrom')"
      ],
      "metadata": {
        "id": "8NKSyiUQBWk8",
        "outputId": "ba8a9fe5-d8ff-4ddf-d332-62d44b680338",
        "colab": {
          "base_uri": "https://localhost:8080/"
        }
      },
      "execution_count": 3,
      "outputs": [
        {
          "output_type": "stream",
          "name": "stdout",
          "text": [
            "Enter number: 1234321\n",
            "Palindrom\n"
          ]
        }
      ]
    }
  ],
  "metadata": {
    "colab": {
      "provenance": [],
      "authorship_tag": "ABX9TyOZwacD16BT0mk5xTd35mqi",
      "include_colab_link": true
    },
    "kernelspec": {
      "display_name": "Python 3",
      "name": "python3"
    },
    "language_info": {
      "name": "python"
    }
  },
  "nbformat": 4,
  "nbformat_minor": 0
}