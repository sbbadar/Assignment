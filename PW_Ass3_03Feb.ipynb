{
  "nbformat": 4,
  "nbformat_minor": 0,
  "metadata": {
    "colab": {
      "provenance": [],
      "authorship_tag": "ABX9TyP+dt9w2wMrMY6DX46ZWjJZ",
      "include_colab_link": true
    },
    "kernelspec": {
      "name": "python3",
      "display_name": "Python 3"
    },
    "language_info": {
      "name": "python"
    }
  },
  "cells": [
    {
      "cell_type": "markdown",
      "metadata": {
        "id": "view-in-github",
        "colab_type": "text"
      },
      "source": [
        "<a href=\"https://colab.research.google.com/github/sbbadar/Assignment/blob/main/PW_Ass3_03Feb.ipynb\" target=\"_parent\"><img src=\"https://colab.research.google.com/assets/colab-badge.svg\" alt=\"Open In Colab\"/></a>"
      ]
    },
    {
      "cell_type": "markdown",
      "source": [
        "# **Q1. Which keyword is used to create a function? Create a function to return a list of odd numbers in the range of 1 to 25.**"
      ],
      "metadata": {
        "id": "6i8mJspCKqPz"
      }
    },
    {
      "cell_type": "markdown",
      "source": [
        "The <B>\"def\"</B> keyword is used to create a function in python."
      ],
      "metadata": {
        "id": "vYkPX7M2QhgV"
      }
    },
    {
      "cell_type": "code",
      "source": [
        "l= list(range(1,26))\n",
        "print(l)"
      ],
      "metadata": {
        "colab": {
          "base_uri": "https://localhost:8080/"
        },
        "id": "ef5tpKhjXWmg",
        "outputId": "cf9a1fec-4ee7-4771-a70e-35efe63a1ecd"
      },
      "execution_count": 25,
      "outputs": [
        {
          "output_type": "stream",
          "name": "stdout",
          "text": [
            "[1, 2, 3, 4, 5, 6, 7, 8, 9, 10, 11, 12, 13, 14, 15, 16, 17, 18, 19, 20, 21, 22, 23, 24, 25]\n"
          ]
        }
      ]
    },
    {
      "cell_type": "code",
      "source": [
        "def odd(l):\n",
        "  l1=[]\n",
        "  for i in l:\n",
        "    if i%2!=0:\n",
        "      l1.append(i)\n",
        "    else:\n",
        "      continue\n",
        "  return l1"
      ],
      "metadata": {
        "id": "y7EczMe1T97l"
      },
      "execution_count": 38,
      "outputs": []
    },
    {
      "cell_type": "code",
      "source": [
        "odd(l)"
      ],
      "metadata": {
        "colab": {
          "base_uri": "https://localhost:8080/"
        },
        "id": "1ZvBO3WhWA_T",
        "outputId": "79c8c55c-a6d9-4da3-dc08-efbaaf0a82ab"
      },
      "execution_count": 39,
      "outputs": [
        {
          "output_type": "execute_result",
          "data": {
            "text/plain": [
              "[1, 3, 5, 7, 9, 11, 13, 15, 17, 19, 21, 23, 25]"
            ]
          },
          "metadata": {},
          "execution_count": 39
        }
      ]
    },
    {
      "cell_type": "markdown",
      "source": [
        "Creating function using"
      ],
      "metadata": {
        "id": "c4UDQAKBavW_"
      }
    },
    {
      "cell_type": "code",
      "execution_count": 40,
      "metadata": {
        "id": "yspgqaRMKdl2"
      },
      "outputs": [],
      "source": [
        "odd1=list(filter(lambda x: x%2 != 0,l))"
      ]
    },
    {
      "cell_type": "code",
      "source": [
        "odd1"
      ],
      "metadata": {
        "colab": {
          "base_uri": "https://localhost:8080/"
        },
        "id": "oZXcbDJ8XmHQ",
        "outputId": "c078de01-a917-49a9-9262-e827bcaf5eb7"
      },
      "execution_count": 41,
      "outputs": [
        {
          "output_type": "execute_result",
          "data": {
            "text/plain": [
              "[1, 3, 5, 7, 9, 11, 13, 15, 17, 19, 21, 23, 25]"
            ]
          },
          "metadata": {},
          "execution_count": 41
        }
      ]
    }
  ]
}