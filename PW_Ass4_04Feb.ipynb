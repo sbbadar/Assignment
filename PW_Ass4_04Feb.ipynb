{
  "nbformat": 4,
  "nbformat_minor": 0,
  "metadata": {
    "colab": {
      "provenance": [],
      "authorship_tag": "ABX9TyNiFoNonIWr5/xhjsv1j5bE",
      "include_colab_link": true
    },
    "kernelspec": {
      "name": "python3",
      "display_name": "Python 3"
    },
    "language_info": {
      "name": "python"
    }
  },
  "cells": [
    {
      "cell_type": "markdown",
      "metadata": {
        "id": "view-in-github",
        "colab_type": "text"
      },
      "source": [
        "<a href=\"https://colab.research.google.com/github/sbbadar/Assignment/blob/main/PW_Ass4_04Feb.ipynb\" target=\"_parent\"><img src=\"https://colab.research.google.com/assets/colab-badge.svg\" alt=\"Open In Colab\"/></a>"
      ]
    },
    {
      "cell_type": "markdown",
      "source": [
        "# <B>Q1. Create a python program to sort the given list of tuples based on integer value using a lambda function.\n",
        "# [('Sachin Tendulkar', 34357), ('Ricky Ponting', 27483), ('Jack Kallis', 25534), ('Virat Kohli', 24936)]</B>"
      ],
      "metadata": {
        "id": "xWyuTgKySSxx"
      }
    },
    {
      "cell_type": "code",
      "execution_count": 9,
      "metadata": {
        "colab": {
          "base_uri": "https://localhost:8080/"
        },
        "id": "rsUQZEbkSGMP",
        "outputId": "999cc9d6-3edc-4445-a9e8-418c16458544"
      },
      "outputs": [
        {
          "output_type": "stream",
          "name": "stdout",
          "text": [
            "[('Virat Kohli', 24936), ('Jack Kallis', 25534), ('Ricky Ponting', 27483), ('Sachin Tendulkar', 34357)]\n"
          ]
        }
      ],
      "source": [
        "a= [('Sachin Tendulkar', 34357), ('Ricky Ponting', 27483), ('Jack Kallis', 25534), ('Virat Kohli', 24936)]\n",
        "a.sort(key=lambda i:i[1])\n",
        "print(a)\n"
      ]
    },
    {
      "cell_type": "markdown",
      "source": [
        "# <B>Q2. Write a Python Program to find the squares of all the numbers in the given list of integers using lambda and map functions.<br>\n",
        "# [1, 2, 3, 4, 5, 6, 7, 8, 9, 10]</B>"
      ],
      "metadata": {
        "id": "nGEQ8stAS4Pm"
      }
    },
    {
      "cell_type": "code",
      "source": [
        "a=[1, 2, 3, 4, 5, 6, 7, 8, 9, 10]\n",
        "square= list(sorted(map(lambda x: x*x, a)))\n",
        "print(square)"
      ],
      "metadata": {
        "colab": {
          "base_uri": "https://localhost:8080/"
        },
        "id": "6mo_PwKC16oq",
        "outputId": "5bccdddf-0972-4440-a63e-80a8353f2d92"
      },
      "execution_count": 6,
      "outputs": [
        {
          "output_type": "stream",
          "name": "stdout",
          "text": [
            "[1, 4, 9, 16, 25, 36, 49, 64, 81, 100]\n"
          ]
        }
      ]
    },
    {
      "cell_type": "markdown",
      "source": [
        "# <B>Q3. Write a python program to convert the given list of integers into a tuple of strings. Use map and lambda functions.\n",
        "# <B>Given String: [1, 2, 3, 4, 5, 6, 7, 8, 9, 10]</B><br>\n",
        "# <B>Expected output: ('1', '2', '3', '4', '5', '6', '7', '8', '9', '10')</B>"
      ],
      "metadata": {
        "id": "0ZuPqV2919OR"
      }
    },
    {
      "cell_type": "code",
      "source": [
        "a= [1, 2, 3, 4, 5, 6, 7, 8, 9, 10]\n",
        "b=tuple(map(lambda x: str(x),a))\n",
        "print(b)"
      ],
      "metadata": {
        "id": "nyjmJtbb2f45",
        "colab": {
          "base_uri": "https://localhost:8080/"
        },
        "outputId": "d2b2cf33-13f9-4ea8-fb9e-c8168494611c"
      },
      "execution_count": 12,
      "outputs": [
        {
          "output_type": "stream",
          "name": "stdout",
          "text": [
            "('1', '2', '3', '4', '5', '6', '7', '8', '9', '10')\n"
          ]
        }
      ]
    },
    {
      "cell_type": "markdown",
      "source": [
        "# **Q4. Write a python program using reduce function to compute the product of a list containing numbers from 1 to 25.**"
      ],
      "metadata": {
        "id": "ATHiEkSk2gbk"
      }
    },
    {
      "cell_type": "code",
      "source": [
        "from functools import reduce\n",
        "l=[]\n",
        "for i in range(1,26):\n",
        "  l.append(i)\n",
        "\n",
        "product= reduce(lambda a,b:a*b,l)\n",
        "print(l)"
      ],
      "metadata": {
        "id": "Ftqv2C2O2rEs",
        "colab": {
          "base_uri": "https://localhost:8080/"
        },
        "outputId": "0ff219e1-6c20-46fb-9fc8-530be7146008"
      },
      "execution_count": 17,
      "outputs": [
        {
          "output_type": "stream",
          "name": "stdout",
          "text": [
            "[1, 2, 3, 4, 5, 6, 7, 8, 9, 10, 11, 12, 13, 14, 15, 16, 17, 18, 19, 20, 21, 22, 23, 24, 25]\n"
          ]
        }
      ]
    },
    {
      "cell_type": "markdown",
      "source": [
        "# <B>Q5. Write a python program to filter the numbers in a given list that are divisible by 2 and 3 using the filter function.</B><br>\n",
        "# <B>[2, 3, 6, 9, 27, 60, 90, 120, 55, 46]</B>"
      ],
      "metadata": {
        "id": "8lAV15aA2rxz"
      }
    },
    {
      "cell_type": "code",
      "source": [
        "j = [2, 3, 6, 9, 27, 60, 90, 120, 55, 46]\n",
        "k = list(filter(lambda x: x % 2 == 0 and x % 3 == 0,j))\n",
        "print(k)"
      ],
      "metadata": {
        "id": "xerl3aVA3BGA",
        "colab": {
          "base_uri": "https://localhost:8080/"
        },
        "outputId": "ae1699e6-af73-4bf8-ed23-40a91b7bb15c"
      },
      "execution_count": 21,
      "outputs": [
        {
          "output_type": "stream",
          "name": "stdout",
          "text": [
            "[6, 60, 90, 120]\n"
          ]
        }
      ]
    },
    {
      "cell_type": "code",
      "source": [
        "j = [2, 3, 6, 9, 27, 60, 90, 120, 55, 46]\n",
        "k = list(filter(lambda x: x % 2 == 0 or x % 3 == 0,j))\n",
        "print(k)"
      ],
      "metadata": {
        "colab": {
          "base_uri": "https://localhost:8080/"
        },
        "id": "ZPrdZrr7iFG2",
        "outputId": "e8327b61-c9c5-4ba1-b69a-e6617b164ab7"
      },
      "execution_count": 22,
      "outputs": [
        {
          "output_type": "stream",
          "name": "stdout",
          "text": [
            "[2, 3, 6, 9, 27, 60, 90, 120, 46]\n"
          ]
        }
      ]
    },
    {
      "cell_type": "markdown",
      "source": [
        "# <B>Q6. Write a python program to find palindromes in the given list of strings using lambda and filter function.</B><br>\n",
        "# <B>['python', 'php', 'aba', 'radar', 'level']</B>"
      ],
      "metadata": {
        "id": "oEgtHAcA3Bvr"
      }
    },
    {
      "cell_type": "code",
      "source": [
        "t=['python', 'php', 'aba', 'radar', 'level']\n",
        "u=list(filter(lambda x:(x[::-1]==x[::1]),t))\n",
        "print(u)"
      ],
      "metadata": {
        "id": "tpW4B1yv3U5d",
        "colab": {
          "base_uri": "https://localhost:8080/"
        },
        "outputId": "fae17434-09db-41ee-e72a-951f4e026f21"
      },
      "execution_count": 24,
      "outputs": [
        {
          "output_type": "stream",
          "name": "stdout",
          "text": [
            "['php', 'aba', 'radar', 'level']\n"
          ]
        }
      ]
    }
  ]
}