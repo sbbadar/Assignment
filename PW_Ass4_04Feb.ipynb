{
  "nbformat": 4,
  "nbformat_minor": 0,
  "metadata": {
    "colab": {
      "provenance": [],
      "authorship_tag": "ABX9TyMcx78YEfCwwmlNBVbAB7oB",
      "include_colab_link": true
    },
    "kernelspec": {
      "name": "python3",
      "display_name": "Python 3"
    },
    "language_info": {
      "name": "python"
    }
  },
  "cells": [
    {
      "cell_type": "markdown",
      "metadata": {
        "id": "view-in-github",
        "colab_type": "text"
      },
      "source": [
        "<a href=\"https://colab.research.google.com/github/sbbadar/Assignment/blob/main/PW_Ass4_04Feb.ipynb\" target=\"_parent\"><img src=\"https://colab.research.google.com/assets/colab-badge.svg\" alt=\"Open In Colab\"/></a>"
      ]
    },
    {
      "cell_type": "markdown",
      "source": [
        "# <B>Q1. Create a python program to sort the given list of tuples based on integer value using a lambda function.\n",
        "# [('Sachin Tendulkar', 34357), ('Ricky Ponting', 27483), ('Jack Kallis', 25534), ('Virat Kohli', 24936)]</B>"
      ],
      "metadata": {
        "id": "xWyuTgKySSxx"
      }
    },
    {
      "cell_type": "code",
      "execution_count": 6,
      "metadata": {
        "id": "rsUQZEbkSGMP"
      },
      "outputs": [],
      "source": [
        "a= [('Sachin Tendulkar', 34357), ('Ricky Ponting', 27483), ('Jack Kallis', 25534), ('Virat Kohli', 24936)]\n"
      ]
    },
    {
      "cell_type": "code",
      "source": [
        "sorted(a, key=lambda x: x[1])"
      ],
      "metadata": {
        "colab": {
          "base_uri": "https://localhost:8080/"
        },
        "id": "hASLf2KbzxFq",
        "outputId": "b892c89c-aac4-4438-fe76-0d062dd88274"
      },
      "execution_count": 7,
      "outputs": [
        {
          "output_type": "execute_result",
          "data": {
            "text/plain": [
              "[('Virat Kohli', 24936),\n",
              " ('Jack Kallis', 25534),\n",
              " ('Ricky Ponting', 27483),\n",
              " ('Sachin Tendulkar', 34357)]"
            ]
          },
          "metadata": {},
          "execution_count": 7
        }
      ]
    },
    {
      "cell_type": "markdown",
      "source": [
        "# <B>Q2. Write a Python Program to find the squares of all the numbers in the given list of integers using lambda and map functions.\n",
        "# [1, 2, 3, 4, 5, 6, 7, 8, 9, 10]</B>"
      ],
      "metadata": {
        "id": "nGEQ8stAS4Pm"
      }
    },
    {
      "cell_type": "code",
      "source": [],
      "metadata": {
        "id": "6mo_PwKC16oq"
      },
      "execution_count": null,
      "outputs": []
    },
    {
      "cell_type": "markdown",
      "source": [
        "# <B>Q3. Write a python program to convert the given list of integers into a tuple of strings. Use map and lambda functions.\n",
        "# <B>Given String: [1, 2, 3, 4, 5, 6, 7, 8, 9, 10]</B><br>\n",
        "# <B>Expected output: ('1', '2', '3', '4', '5', '6', '7', '8', '9', '10')</B>"
      ],
      "metadata": {
        "id": "0ZuPqV2919OR"
      }
    },
    {
      "cell_type": "code",
      "source": [],
      "metadata": {
        "id": "nyjmJtbb2f45"
      },
      "execution_count": null,
      "outputs": []
    },
    {
      "cell_type": "markdown",
      "source": [
        "# **Q4. Write a python program using reduce function to compute the product of a list containing numbers from 1 to 25.**"
      ],
      "metadata": {
        "id": "ATHiEkSk2gbk"
      }
    },
    {
      "cell_type": "code",
      "source": [],
      "metadata": {
        "id": "Ftqv2C2O2rEs"
      },
      "execution_count": null,
      "outputs": []
    },
    {
      "cell_type": "markdown",
      "source": [
        "# <B>Q5. Write a python program to filter the numbers in a given list that are divisible by 2 and 3 using the filter function.</B><br>\n",
        "# <B>[2, 3, 6, 9, 27, 60, 90, 120, 55, 46]</B>"
      ],
      "metadata": {
        "id": "8lAV15aA2rxz"
      }
    },
    {
      "cell_type": "code",
      "source": [],
      "metadata": {
        "id": "xerl3aVA3BGA"
      },
      "execution_count": null,
      "outputs": []
    },
    {
      "cell_type": "markdown",
      "source": [
        "# <B>Q6. Write a python program to find palindromes in the given list of strings using lambda and filter function.</B><br>\n",
        "# <B>['python', 'php', 'aba', 'radar', 'level']</B>"
      ],
      "metadata": {
        "id": "oEgtHAcA3Bvr"
      }
    },
    {
      "cell_type": "code",
      "source": [],
      "metadata": {
        "id": "tpW4B1yv3U5d"
      },
      "execution_count": null,
      "outputs": []
    }
  ]
}