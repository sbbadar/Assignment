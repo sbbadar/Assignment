{
  "cells": [
    {
      "cell_type": "markdown",
      "metadata": {
        "id": "view-in-github",
        "colab_type": "text"
      },
      "source": [
        "<a href=\"https://colab.research.google.com/github/sbbadar/Assignment/blob/main/PW_Rough.ipynb\" target=\"_parent\"><img src=\"https://colab.research.google.com/assets/colab-badge.svg\" alt=\"Open In Colab\"/></a>"
      ]
    },
    {
      "cell_type": "markdown",
      "metadata": {
        "id": "GE3Ut9TRxa2v"
      },
      "source": [
        "# **DAY 1**"
      ]
    },
    {
      "cell_type": "code",
      "execution_count": null,
      "metadata": {
        "id": "9rTHNLH8f709"
      },
      "outputs": [],
      "source": [
        "s='pwskills'"
      ]
    },
    {
      "cell_type": "code",
      "execution_count": null,
      "metadata": {
        "id": "-xeeK61YgNoq"
      },
      "outputs": [],
      "source": [
        "s[::-1]"
      ]
    },
    {
      "cell_type": "code",
      "execution_count": null,
      "metadata": {
        "id": "GWa6_-_jtQN4"
      },
      "outputs": [],
      "source": [
        "s[2:7:-1]"
      ]
    },
    {
      "cell_type": "code",
      "execution_count": null,
      "metadata": {
        "id": "ndk3abFWuOFH"
      },
      "outputs": [],
      "source": []
    },
    {
      "cell_type": "code",
      "execution_count": null,
      "metadata": {
        "id": "taZnnnsTuomt"
      },
      "outputs": [],
      "source": [
        "s[8:0]"
      ]
    },
    {
      "cell_type": "code",
      "execution_count": null,
      "metadata": {
        "id": "LnnawLfBvScQ"
      },
      "outputs": [],
      "source": [
        "s[8:0:-1]"
      ]
    },
    {
      "cell_type": "code",
      "execution_count": null,
      "metadata": {
        "id": "730M6NU0vnDJ"
      },
      "outputs": [],
      "source": [
        "s[-2:-8:1]"
      ]
    },
    {
      "cell_type": "code",
      "execution_count": null,
      "metadata": {
        "id": "j2T9JlYu6NCT"
      },
      "outputs": [],
      "source": [
        "s[-2:-8:-1]"
      ]
    },
    {
      "cell_type": "code",
      "execution_count": null,
      "metadata": {
        "id": "-fv4AkyR5hIG"
      },
      "outputs": [],
      "source": [
        "s[-2::-1]"
      ]
    },
    {
      "cell_type": "code",
      "execution_count": null,
      "metadata": {
        "id": "5Z6T1JAR6mM1"
      },
      "outputs": [],
      "source": [
        "s[:-8:-1]"
      ]
    },
    {
      "cell_type": "code",
      "execution_count": null,
      "metadata": {
        "id": "8Eg1lpE6tWtP"
      },
      "outputs": [],
      "source": [
        " s[::1]"
      ]
    },
    {
      "cell_type": "code",
      "execution_count": null,
      "metadata": {
        "id": "BZudj-u3JGTg"
      },
      "outputs": [],
      "source": [
        "s[::]"
      ]
    },
    {
      "cell_type": "code",
      "execution_count": null,
      "metadata": {
        "id": "VMK95hz6oqik"
      },
      "outputs": [],
      "source": [
        "s[:-90:]"
      ]
    },
    {
      "cell_type": "code",
      "execution_count": null,
      "metadata": {
        "id": "dC_vjteyo6-o"
      },
      "outputs": [],
      "source": [
        "s[:90:]"
      ]
    },
    {
      "cell_type": "code",
      "execution_count": null,
      "metadata": {
        "id": "4tCaOLOxpCfd"
      },
      "outputs": [],
      "source": [
        "s[90]"
      ]
    },
    {
      "cell_type": "code",
      "execution_count": null,
      "metadata": {
        "id": "ypXurRQEqhOx"
      },
      "outputs": [],
      "source": [
        "s[6]"
      ]
    },
    {
      "cell_type": "code",
      "execution_count": null,
      "metadata": {
        "id": "ZU9LZdcPryD5"
      },
      "outputs": [],
      "source": [
        "s[:-90:-1]"
      ]
    },
    {
      "cell_type": "code",
      "execution_count": null,
      "metadata": {
        "id": "subU7kQgvmct"
      },
      "outputs": [],
      "source": [
        "c=200"
      ]
    },
    {
      "cell_type": "code",
      "execution_count": null,
      "metadata": {
        "id": "D5Kkl27mv761"
      },
      "outputs": [],
      "source": [
        "s1=\"This is my string class\""
      ]
    },
    {
      "cell_type": "code",
      "execution_count": null,
      "metadata": {
        "id": "QgYh-fWYwW3b"
      },
      "outputs": [],
      "source": [
        "len(s1)"
      ]
    },
    {
      "cell_type": "code",
      "execution_count": null,
      "metadata": {
        "id": "fiyk5-rLLUEB"
      },
      "outputs": [],
      "source": [
        "s1.find('s')"
      ]
    },
    {
      "cell_type": "code",
      "execution_count": null,
      "metadata": {
        "id": "fbegPcDDLlvK"
      },
      "outputs": [],
      "source": [
        "s1.find('is')"
      ]
    },
    {
      "cell_type": "code",
      "execution_count": null,
      "metadata": {
        "id": "MKweisWkMBQI"
      },
      "outputs": [],
      "source": [
        "s1.find('iS')"
      ]
    },
    {
      "cell_type": "code",
      "execution_count": null,
      "metadata": {
        "id": "8Nz9gO-jLb1X"
      },
      "outputs": [],
      "source": [
        "s1.count('s')"
      ]
    },
    {
      "cell_type": "code",
      "execution_count": null,
      "metadata": {
        "id": "hcDYadhuMgSW"
      },
      "outputs": [],
      "source": [
        "##this is a code to find a charactered of sub string in string\n",
        "s1.count('st')"
      ]
    },
    {
      "cell_type": "code",
      "execution_count": null,
      "metadata": {
        "id": "mcVOPXYDMllZ"
      },
      "outputs": [],
      "source": [
        "s1.count('z')"
      ]
    },
    {
      "cell_type": "code",
      "execution_count": null,
      "metadata": {
        "id": "nVp4S6JGMu1R"
      },
      "outputs": [],
      "source": [
        "s2=s1.upper()"
      ]
    },
    {
      "cell_type": "code",
      "execution_count": null,
      "metadata": {
        "id": "PqEyh2BPNJ2G"
      },
      "outputs": [],
      "source": [
        "s2"
      ]
    },
    {
      "cell_type": "code",
      "execution_count": null,
      "metadata": {
        "id": "CF8oceJ6SRV-"
      },
      "outputs": [],
      "source": [
        "s1"
      ]
    },
    {
      "cell_type": "code",
      "execution_count": null,
      "metadata": {
        "id": "0KbExxdQSYzy"
      },
      "outputs": [],
      "source": [
        "s1.title()"
      ]
    },
    {
      "cell_type": "code",
      "execution_count": null,
      "metadata": {
        "id": "Hkmw0sl3ShcT"
      },
      "outputs": [],
      "source": [
        "s1.capitalize()"
      ]
    },
    {
      "cell_type": "code",
      "execution_count": null,
      "metadata": {
        "id": "flNWPdpAYwgf"
      },
      "outputs": [],
      "source": [
        "s+' sudh'"
      ]
    },
    {
      "cell_type": "code",
      "execution_count": null,
      "metadata": {
        "id": "ZJnPlei1jmpQ"
      },
      "outputs": [],
      "source": [
        "s+'1'"
      ]
    },
    {
      "cell_type": "code",
      "execution_count": null,
      "metadata": {
        "id": "_IBd6F84jvjj"
      },
      "outputs": [],
      "source": [
        "s+str(1)"
      ]
    },
    {
      "cell_type": "code",
      "execution_count": null,
      "metadata": {
        "id": "dEYIfSeRolwP"
      },
      "outputs": [],
      "source": [
        "s*3"
      ]
    },
    {
      "cell_type": "code",
      "execution_count": null,
      "metadata": {
        "id": "YphLawDaoprc"
      },
      "outputs": [],
      "source": [
        "\"don't do copy and paste in my class\""
      ]
    },
    {
      "cell_type": "code",
      "execution_count": null,
      "metadata": {
        "id": "q8aChL-5wuGZ"
      },
      "outputs": [],
      "source": [
        "'don't do copy and paste in my class'"
      ]
    },
    {
      "cell_type": "code",
      "execution_count": null,
      "metadata": {
        "id": "zo5TJ6FBzJ_J"
      },
      "outputs": [],
      "source": [
        "s3='''This is my first class for programming\n",
        "i have learned variable declaration, data type, string, int, bolean, complex number\n",
        "i have seen some example of string slicing and indexing\n",
        "ihave gone through some of the string inbuilt function\n",
        "apart from that i am trying to practice in my system\n",
        "but some of us in our class are not executing code and still they are answering which is bad'''"
      ]
    },
    {
      "cell_type": "code",
      "execution_count": null,
      "metadata": {
        "id": "37gdEw5T41Hz"
      },
      "outputs": [],
      "source": [
        "s3"
      ]
    },
    {
      "cell_type": "markdown",
      "metadata": {
        "id": "v5S73WF6ESZn"
      },
      "source": [
        "# **DAY 2**"
      ]
    },
    {
      "cell_type": "code",
      "execution_count": null,
      "metadata": {
        "id": "TwNXTjcy5ZyG"
      },
      "outputs": [],
      "source": [
        "l=[1,345,45,'sudh',True,5+7j,345.456]"
      ]
    },
    {
      "cell_type": "code",
      "execution_count": null,
      "metadata": {
        "id": "lj9u_GrDDIwz"
      },
      "outputs": [],
      "source": [
        "type(l)"
      ]
    },
    {
      "cell_type": "code",
      "execution_count": null,
      "metadata": {
        "id": "bQPLMqaMDh_z"
      },
      "outputs": [],
      "source": [
        "l[0]"
      ]
    },
    {
      "cell_type": "code",
      "execution_count": null,
      "metadata": {
        "id": "1K4nrpTrEtVN"
      },
      "outputs": [],
      "source": [
        "l[6]"
      ]
    },
    {
      "cell_type": "code",
      "execution_count": null,
      "metadata": {
        "id": "z8UnpH69Evuu"
      },
      "outputs": [],
      "source": [
        "l[90]"
      ]
    },
    {
      "cell_type": "code",
      "execution_count": null,
      "metadata": {
        "id": "B5GtRDJ7FeTo"
      },
      "outputs": [],
      "source": [
        "l"
      ]
    },
    {
      "cell_type": "code",
      "execution_count": null,
      "metadata": {
        "id": "AevIZW2ZFgwH"
      },
      "outputs": [],
      "source": [
        "l[0:3]"
      ]
    },
    {
      "cell_type": "code",
      "execution_count": null,
      "metadata": {
        "id": "zxxoT-hDF9x_"
      },
      "outputs": [],
      "source": [
        "l[-1]"
      ]
    },
    {
      "cell_type": "code",
      "execution_count": null,
      "metadata": {
        "id": "0F-w02TwGF1B"
      },
      "outputs": [],
      "source": [
        "l[::-1]"
      ]
    },
    {
      "cell_type": "code",
      "execution_count": null,
      "metadata": {
        "id": "LfP8ZUNeJ-by"
      },
      "outputs": [],
      "source": [
        "l[::2]"
      ]
    },
    {
      "cell_type": "code",
      "execution_count": null,
      "metadata": {
        "id": "pzGX7HCuKWhm"
      },
      "outputs": [],
      "source": [
        "l"
      ]
    },
    {
      "cell_type": "code",
      "execution_count": null,
      "metadata": {
        "id": "Vl2bAXL7KYIe"
      },
      "outputs": [],
      "source": [
        "s"
      ]
    },
    {
      "cell_type": "code",
      "execution_count": null,
      "metadata": {
        "id": "7Z9MvcdqKaAp"
      },
      "outputs": [],
      "source": [
        "l+s"
      ]
    },
    {
      "cell_type": "code",
      "execution_count": null,
      "metadata": {
        "id": "-OZtRrf2K93F"
      },
      "outputs": [],
      "source": [
        "list(s)+l"
      ]
    },
    {
      "cell_type": "code",
      "execution_count": null,
      "metadata": {
        "id": "XOpS2RFzRu8t"
      },
      "outputs": [],
      "source": [
        "l"
      ]
    },
    {
      "cell_type": "code",
      "execution_count": null,
      "metadata": {
        "id": "USie4CKbZQBX"
      },
      "outputs": [],
      "source": [
        "l[3]"
      ]
    },
    {
      "cell_type": "code",
      "execution_count": null,
      "metadata": {
        "id": "9JBwGYVfZTiI"
      },
      "outputs": [],
      "source": [
        "type(l[3])"
      ]
    },
    {
      "cell_type": "code",
      "execution_count": null,
      "metadata": {
        "id": "ackspX3MZWt2"
      },
      "outputs": [],
      "source": [
        "l[3][0:2]"
      ]
    },
    {
      "cell_type": "code",
      "execution_count": null,
      "metadata": {
        "id": "qTR2U9aZexJy"
      },
      "outputs": [],
      "source": [
        "str(l[4])[0:2]\n"
      ]
    },
    {
      "cell_type": "code",
      "execution_count": null,
      "metadata": {
        "id": "hnnK3Wd3gH-k"
      },
      "outputs": [],
      "source": [
        "str(5)+str(l)"
      ]
    },
    {
      "cell_type": "code",
      "execution_count": null,
      "metadata": {
        "id": "BRqqMuu9yFfR"
      },
      "outputs": [],
      "source": [
        "l1=[3,4,5]"
      ]
    },
    {
      "cell_type": "code",
      "execution_count": null,
      "metadata": {
        "id": "4MnTqu31iig-"
      },
      "outputs": [],
      "source": [
        "l+l1"
      ]
    },
    {
      "cell_type": "code",
      "execution_count": null,
      "metadata": {
        "id": "-XlRbGMHiyUz"
      },
      "outputs": [],
      "source": [
        "l1"
      ]
    },
    {
      "cell_type": "code",
      "execution_count": null,
      "metadata": {
        "id": "WrQgB23hi0Si"
      },
      "outputs": [],
      "source": [
        "l1*3"
      ]
    },
    {
      "cell_type": "code",
      "execution_count": null,
      "metadata": {
        "id": "Ukp5Lodev9eU"
      },
      "outputs": [],
      "source": [
        "len(l)"
      ]
    },
    {
      "cell_type": "code",
      "execution_count": null,
      "metadata": {
        "id": "uornfpV-xoaj"
      },
      "outputs": [],
      "source": [
        "len(l1)"
      ]
    },
    {
      "cell_type": "code",
      "execution_count": null,
      "metadata": {
        "id": "gn64yr4ixrZs"
      },
      "outputs": [],
      "source": [
        "len(l)*len(l1)"
      ]
    },
    {
      "cell_type": "code",
      "execution_count": null,
      "metadata": {
        "id": "ePxsaGmayQ60"
      },
      "outputs": [],
      "source": [
        "(len(l)*len(l1))/len(l)"
      ]
    },
    {
      "cell_type": "code",
      "execution_count": null,
      "metadata": {
        "id": "TxsY90zJykt6"
      },
      "outputs": [],
      "source": [
        "float (len(l)/len(l1))"
      ]
    },
    {
      "cell_type": "code",
      "execution_count": null,
      "metadata": {
        "id": "hYoJfrfTyx8I"
      },
      "outputs": [],
      "source": [
        "len(l[3])"
      ]
    },
    {
      "cell_type": "code",
      "execution_count": null,
      "metadata": {
        "id": "dd3j4xGnzDTV"
      },
      "outputs": [],
      "source": [
        "l.append(5)"
      ]
    },
    {
      "cell_type": "code",
      "execution_count": null,
      "metadata": {
        "id": "xara4Wos3WgQ"
      },
      "outputs": [],
      "source": [
        "l"
      ]
    },
    {
      "cell_type": "code",
      "execution_count": null,
      "metadata": {
        "id": "8Nqpmq5D4DPJ"
      },
      "outputs": [],
      "source": [
        "l.append(s)"
      ]
    },
    {
      "cell_type": "code",
      "execution_count": null,
      "metadata": {
        "id": "-qM68yCj4UL9"
      },
      "outputs": [],
      "source": [
        "l"
      ]
    },
    {
      "cell_type": "code",
      "execution_count": null,
      "metadata": {
        "id": "FvcJT3DH4c2u"
      },
      "outputs": [],
      "source": [
        "l.append(l1)"
      ]
    },
    {
      "cell_type": "code",
      "execution_count": null,
      "metadata": {
        "id": "0nElWA464hEZ"
      },
      "outputs": [],
      "source": [
        "l"
      ]
    },
    {
      "cell_type": "code",
      "execution_count": null,
      "metadata": {
        "id": "885ib8_K4loO"
      },
      "outputs": [],
      "source": [
        "l[9][1:2]"
      ]
    },
    {
      "cell_type": "code",
      "execution_count": null,
      "metadata": {
        "id": "8vvPVyKU5aec"
      },
      "outputs": [],
      "source": [
        "l[-1][1]"
      ]
    },
    {
      "cell_type": "code",
      "execution_count": null,
      "metadata": {
        "id": "1LkBUMbE5iy1"
      },
      "outputs": [],
      "source": [
        "l[-1][1:2]"
      ]
    },
    {
      "cell_type": "code",
      "execution_count": null,
      "metadata": {
        "id": "uggWPeJG7Q_0"
      },
      "outputs": [],
      "source": [
        "l[9][-2]"
      ]
    },
    {
      "cell_type": "code",
      "execution_count": null,
      "metadata": {
        "id": "tHEzaA5q7zS5"
      },
      "outputs": [],
      "source": [
        "l[-1][-2]"
      ]
    },
    {
      "cell_type": "code",
      "execution_count": null,
      "metadata": {
        "id": "iV8FxJRM8r-M"
      },
      "outputs": [],
      "source": [
        "l"
      ]
    },
    {
      "cell_type": "code",
      "execution_count": null,
      "metadata": {
        "id": "M-a80wXQ83Si"
      },
      "outputs": [],
      "source": [
        "l.extend(4)"
      ]
    },
    {
      "cell_type": "code",
      "execution_count": null,
      "metadata": {
        "id": "EvXycZGw9AT7"
      },
      "outputs": [],
      "source": [
        "l.extend('sudh')"
      ]
    },
    {
      "cell_type": "code",
      "execution_count": null,
      "metadata": {
        "id": "JeBrD8S09VTR"
      },
      "outputs": [],
      "source": [
        "l.extend([3,4,5])"
      ]
    },
    {
      "cell_type": "code",
      "execution_count": null,
      "metadata": {
        "id": "YaPGP5L39Z1L"
      },
      "outputs": [],
      "source": [
        "l"
      ]
    },
    {
      "cell_type": "code",
      "execution_count": null,
      "metadata": {
        "id": "ffx3S_M79n7g"
      },
      "outputs": [],
      "source": [
        "l1"
      ]
    },
    {
      "cell_type": "code",
      "execution_count": null,
      "metadata": {
        "id": "VuMw8tMr9u0u"
      },
      "outputs": [],
      "source": [
        "l1.insert(1,'sudh')"
      ]
    },
    {
      "cell_type": "code",
      "execution_count": null,
      "metadata": {
        "id": "kuN8_aPP9urn"
      },
      "outputs": [],
      "source": [
        "l1"
      ]
    },
    {
      "cell_type": "code",
      "execution_count": null,
      "metadata": {
        "id": "A-HPV6O99uhO"
      },
      "outputs": [],
      "source": [
        "l1.insert(2,[2,3,4])"
      ]
    },
    {
      "cell_type": "code",
      "execution_count": null,
      "metadata": {
        "id": "FZG5WRyiOprw"
      },
      "outputs": [],
      "source": [
        "l1"
      ]
    },
    {
      "cell_type": "code",
      "execution_count": null,
      "metadata": {
        "id": "8vpxO0dTL00j"
      },
      "outputs": [],
      "source": [
        "l1[2].insert(2,s)"
      ]
    },
    {
      "cell_type": "code",
      "execution_count": null,
      "metadata": {
        "id": "djeH60hiPqeu"
      },
      "outputs": [],
      "source": [
        "l1"
      ]
    },
    {
      "cell_type": "code",
      "execution_count": null,
      "metadata": {
        "id": "fBP14Vc5q0dv"
      },
      "outputs": [],
      "source": [
        "l1.pop()"
      ]
    },
    {
      "cell_type": "code",
      "execution_count": null,
      "metadata": {
        "id": "CVSeoy149uWq"
      },
      "outputs": [],
      "source": [
        "l1"
      ]
    },
    {
      "cell_type": "code",
      "execution_count": null,
      "metadata": {
        "id": "Zx3ydf-rEOxh"
      },
      "outputs": [],
      "source": [
        "l"
      ]
    },
    {
      "cell_type": "code",
      "execution_count": null,
      "metadata": {
        "id": "vwCvyER9ERLW"
      },
      "outputs": [],
      "source": [
        "l.pop(3)"
      ]
    },
    {
      "cell_type": "code",
      "execution_count": null,
      "metadata": {
        "id": "SK0XB6l2FeIC"
      },
      "outputs": [],
      "source": [
        "l.remove(3)"
      ]
    },
    {
      "cell_type": "code",
      "execution_count": null,
      "metadata": {
        "id": "I2Ddb-QBFj7-"
      },
      "outputs": [],
      "source": [
        "l"
      ]
    },
    {
      "cell_type": "code",
      "execution_count": null,
      "metadata": {
        "id": "yV__hFSV_2wX"
      },
      "outputs": [],
      "source": [
        "l.remove(234)"
      ]
    },
    {
      "cell_type": "code",
      "execution_count": null,
      "metadata": {
        "id": "pLmRf3MYECdb"
      },
      "outputs": [],
      "source": [
        "l1.insert(2,[2,3,4])"
      ]
    },
    {
      "cell_type": "code",
      "execution_count": null,
      "metadata": {
        "id": "_9VJGVigEXVj"
      },
      "outputs": [],
      "source": [
        "l1"
      ]
    },
    {
      "cell_type": "code",
      "execution_count": null,
      "metadata": {
        "id": "9oQrGNngDgne"
      },
      "outputs": [],
      "source": [
        "l1[2].remove(2)"
      ]
    },
    {
      "cell_type": "code",
      "execution_count": null,
      "metadata": {
        "id": "Lh1tmREtTG2A"
      },
      "outputs": [],
      "source": [
        "l1"
      ]
    },
    {
      "cell_type": "code",
      "execution_count": null,
      "metadata": {
        "id": "Bf8SY_NBR6bR"
      },
      "outputs": [],
      "source": [
        "l1.append(4)"
      ]
    },
    {
      "cell_type": "code",
      "execution_count": null,
      "metadata": {
        "id": "kzsctSUEbwLp"
      },
      "outputs": [],
      "source": [
        "l1"
      ]
    },
    {
      "cell_type": "code",
      "execution_count": null,
      "metadata": {
        "id": "gPtc7Er8moTK"
      },
      "outputs": [],
      "source": [
        "l1.remove(4)"
      ]
    },
    {
      "cell_type": "code",
      "execution_count": null,
      "metadata": {
        "id": "7y1hBBMTmtUy"
      },
      "outputs": [],
      "source": [
        "l1"
      ]
    },
    {
      "cell_type": "code",
      "execution_count": null,
      "metadata": {
        "id": "-g2c8rBqmyQN"
      },
      "outputs": [],
      "source": [
        "l1[::-1]"
      ]
    },
    {
      "cell_type": "code",
      "execution_count": null,
      "metadata": {
        "id": "g92QBtUvm7PD"
      },
      "outputs": [],
      "source": [
        "l1.reverse()"
      ]
    },
    {
      "cell_type": "code",
      "execution_count": null,
      "metadata": {
        "id": "i9K6XxdSm_4L"
      },
      "outputs": [],
      "source": [
        "l1"
      ]
    },
    {
      "cell_type": "code",
      "execution_count": null,
      "metadata": {
        "id": "cd9z963JnImN"
      },
      "outputs": [],
      "source": [
        "l1=l1[::-1]"
      ]
    },
    {
      "cell_type": "code",
      "execution_count": null,
      "metadata": {
        "id": "cDYciq4TnOW_"
      },
      "outputs": [],
      "source": [
        "l1"
      ]
    },
    {
      "cell_type": "code",
      "execution_count": null,
      "metadata": {
        "id": "zYaUM5SxubCH"
      },
      "outputs": [],
      "source": [
        "li.sort()"
      ]
    },
    {
      "cell_type": "code",
      "execution_count": null,
      "metadata": {
        "id": "Xx2iVVg_urJv"
      },
      "outputs": [],
      "source": [
        "l2=[45,23,90,3,4,6,5,9,8,7]"
      ]
    },
    {
      "cell_type": "code",
      "execution_count": null,
      "metadata": {
        "id": "pq0_ZZSsvBUl"
      },
      "outputs": [],
      "source": [
        "l2.sort()"
      ]
    },
    {
      "cell_type": "code",
      "execution_count": null,
      "metadata": {
        "id": "zJ3ps8vBvISU"
      },
      "outputs": [],
      "source": [
        "l2"
      ]
    },
    {
      "cell_type": "code",
      "execution_count": null,
      "metadata": {
        "id": "r7-Sb1kQvxzc"
      },
      "outputs": [],
      "source": [
        "l3=[34,'sudh',45,12,'kumar']"
      ]
    },
    {
      "cell_type": "code",
      "execution_count": null,
      "metadata": {
        "id": "sxxlSJnOv89J"
      },
      "outputs": [],
      "source": [
        "l4=['sudh','kumar','pwskills','data science']"
      ]
    },
    {
      "cell_type": "code",
      "execution_count": null,
      "metadata": {
        "id": "sFhbrQ_IwATu"
      },
      "outputs": [],
      "source": [
        "l4.sort()"
      ]
    },
    {
      "cell_type": "code",
      "execution_count": null,
      "metadata": {
        "id": "korzeYbdwEKF"
      },
      "outputs": [],
      "source": [
        "l4"
      ]
    },
    {
      "cell_type": "code",
      "execution_count": null,
      "metadata": {
        "id": "Yz7Ccm627tRS"
      },
      "outputs": [],
      "source": [
        "l4.sort(reverse=True)"
      ]
    },
    {
      "cell_type": "code",
      "execution_count": null,
      "metadata": {
        "id": "KPPQYXjy71LH"
      },
      "outputs": [],
      "source": [
        "l4"
      ]
    },
    {
      "cell_type": "code",
      "execution_count": null,
      "metadata": {
        "id": "4QpPcZe-72LP"
      },
      "outputs": [],
      "source": [
        "l4.index('sudh')"
      ]
    },
    {
      "cell_type": "code",
      "execution_count": null,
      "metadata": {
        "id": "djdXUuo78Ek1"
      },
      "outputs": [],
      "source": [
        "l4.count('sudh')"
      ]
    },
    {
      "cell_type": "code",
      "execution_count": null,
      "metadata": {
        "id": "3A39McN88Oem"
      },
      "outputs": [],
      "source": [
        "l5=[3,4,5,6]"
      ]
    },
    {
      "cell_type": "code",
      "execution_count": null,
      "metadata": {
        "id": "QQJ_8wS6JfJM"
      },
      "outputs": [],
      "source": [
        "l5[0]=30"
      ]
    },
    {
      "cell_type": "code",
      "execution_count": null,
      "metadata": {
        "id": "kJ_pQvJ6JjkT"
      },
      "outputs": [],
      "source": [
        "l5"
      ]
    },
    {
      "cell_type": "code",
      "execution_count": null,
      "metadata": {
        "id": "v6ZxVBANJl7j"
      },
      "outputs": [],
      "source": [
        "s"
      ]
    },
    {
      "cell_type": "code",
      "execution_count": null,
      "metadata": {
        "id": "ZzZBmcJXJp5C"
      },
      "outputs": [],
      "source": [
        "s.replace('s','a')"
      ]
    },
    {
      "cell_type": "code",
      "execution_count": null,
      "metadata": {
        "id": "3BtedxO8J0fu"
      },
      "outputs": [],
      "source": [
        "s"
      ]
    },
    {
      "cell_type": "code",
      "execution_count": null,
      "metadata": {
        "id": "yj1Oy5Q5KJyO"
      },
      "outputs": [],
      "source": [
        "t=(2,3,4,5,'sudh',45.56,False,45+457j,[3,4,5])"
      ]
    },
    {
      "cell_type": "code",
      "execution_count": null,
      "metadata": {
        "id": "BZa81xN2KcNv"
      },
      "outputs": [],
      "source": [
        "t"
      ]
    },
    {
      "cell_type": "code",
      "execution_count": null,
      "metadata": {
        "id": "ONRz2XtKKjfQ"
      },
      "outputs": [],
      "source": [
        "type(t)"
      ]
    },
    {
      "cell_type": "code",
      "execution_count": null,
      "metadata": {
        "id": "fylg_CbnKn4E"
      },
      "outputs": [],
      "source": [
        "len(t)"
      ]
    },
    {
      "cell_type": "code",
      "execution_count": null,
      "metadata": {
        "id": "DcsMmXEyKuaa"
      },
      "outputs": [],
      "source": [
        "t[0]"
      ]
    },
    {
      "cell_type": "code",
      "execution_count": null,
      "metadata": {
        "id": "TuR2-826Ky_x"
      },
      "outputs": [],
      "source": [
        "t[-1]"
      ]
    },
    {
      "cell_type": "code",
      "execution_count": null,
      "metadata": {
        "id": "chKDB9OqK1ab"
      },
      "outputs": [],
      "source": [
        "t[::-1]"
      ]
    },
    {
      "cell_type": "code",
      "execution_count": null,
      "metadata": {
        "id": "_9mqB-f6LAfG"
      },
      "outputs": [],
      "source": [
        "l4"
      ]
    },
    {
      "cell_type": "code",
      "execution_count": null,
      "metadata": {
        "id": "CQ5ahDq_LDj_"
      },
      "outputs": [],
      "source": [
        "l4[0]=23424"
      ]
    },
    {
      "cell_type": "code",
      "execution_count": null,
      "metadata": {
        "id": "CmyhF4wvLM0D"
      },
      "outputs": [],
      "source": [
        "l4"
      ]
    },
    {
      "cell_type": "code",
      "execution_count": null,
      "metadata": {
        "id": "Y53K7zMeLbc9"
      },
      "outputs": [],
      "source": [
        "t"
      ]
    },
    {
      "cell_type": "code",
      "execution_count": null,
      "metadata": {
        "id": "90KfbT_JLgsE"
      },
      "outputs": [],
      "source": [
        "t[0]=\"sudh\""
      ]
    },
    {
      "cell_type": "code",
      "execution_count": null,
      "metadata": {
        "id": "AcGyU6tAP9Js"
      },
      "outputs": [],
      "source": [
        "t[::-1]"
      ]
    },
    {
      "cell_type": "code",
      "execution_count": null,
      "metadata": {
        "id": "1-FMmBBrQY7e"
      },
      "outputs": [],
      "source": [
        "t.count(50)"
      ]
    },
    {
      "cell_type": "code",
      "execution_count": null,
      "metadata": {
        "id": "tfDmsezDRElJ"
      },
      "outputs": [],
      "source": [
        "t.index(False)"
      ]
    },
    {
      "cell_type": "code",
      "execution_count": null,
      "metadata": {
        "id": "PRH0Eg47RtDc"
      },
      "outputs": [],
      "source": [
        "s1={}"
      ]
    },
    {
      "cell_type": "code",
      "execution_count": null,
      "metadata": {
        "id": "GcN2IqsIRxy7"
      },
      "outputs": [],
      "source": [
        "type(s1)"
      ]
    },
    {
      "cell_type": "code",
      "execution_count": null,
      "metadata": {
        "id": "xzTBS0KgSVCx"
      },
      "outputs": [],
      "source": [
        "s2={2,3,4,55,6}"
      ]
    },
    {
      "cell_type": "code",
      "execution_count": null,
      "metadata": {
        "id": "sYULXAO4SSwp"
      },
      "outputs": [],
      "source": [
        "type(s2)"
      ]
    },
    {
      "cell_type": "code",
      "execution_count": null,
      "metadata": {
        "id": "l_izTk5XSdmF"
      },
      "outputs": [],
      "source": [
        "s3={324,456,456,'sudh',45+45j,34.456,(2,3,4)}"
      ]
    },
    {
      "cell_type": "code",
      "execution_count": null,
      "metadata": {
        "id": "10X7dOH9bymc"
      },
      "outputs": [],
      "source": [
        "s3"
      ]
    },
    {
      "cell_type": "code",
      "execution_count": null,
      "metadata": {
        "id": "LtTk-q_NdGiW"
      },
      "outputs": [],
      "source": [
        "s4={2,3,4,5,6,2,2,3,4,5,2,3,1,2,3,4,5,6,1,2,2,3,'Sudh','sudh'}"
      ]
    },
    {
      "cell_type": "code",
      "execution_count": null,
      "metadata": {
        "id": "abaMg1ZJdPd9"
      },
      "outputs": [],
      "source": [
        "s4"
      ]
    },
    {
      "cell_type": "code",
      "execution_count": null,
      "metadata": {
        "id": "agL_ysFA9-Ea"
      },
      "outputs": [],
      "source": [
        "l6=[2,3,4,5,6,2,2,3,4,5,2,3,1,2,3,4,5,6,1,2,2,3,'Sudh','sudh']"
      ]
    },
    {
      "cell_type": "code",
      "execution_count": null,
      "metadata": {
        "id": "m_3ATQMD-WR7"
      },
      "outputs": [],
      "source": [
        "l6=list(set(l6))"
      ]
    },
    {
      "cell_type": "code",
      "execution_count": null,
      "metadata": {
        "id": "6xrEzbnp-c1r"
      },
      "outputs": [],
      "source": [
        "l6"
      ]
    },
    {
      "cell_type": "code",
      "execution_count": null,
      "metadata": {
        "id": "XwOZO8Ux_Bwo"
      },
      "outputs": [],
      "source": [
        "s5={234,45,23,12,567,45,2,789,234,'abc',456,342,23}"
      ]
    },
    {
      "cell_type": "code",
      "execution_count": null,
      "metadata": {
        "id": "aiXXhhmCAt69"
      },
      "outputs": [],
      "source": [
        "s5"
      ]
    },
    {
      "cell_type": "code",
      "execution_count": null,
      "metadata": {
        "id": "NpHcSvlCDgom"
      },
      "outputs": [],
      "source": [
        "s5"
      ]
    },
    {
      "cell_type": "code",
      "execution_count": null,
      "metadata": {
        "id": "Pm-ejH5mGFBX"
      },
      "outputs": [],
      "source": [
        "s5[0]"
      ]
    },
    {
      "cell_type": "code",
      "execution_count": null,
      "metadata": {
        "id": "yeDmQML8GHhW"
      },
      "outputs": [],
      "source": [
        "s5[::-1]"
      ]
    },
    {
      "cell_type": "code",
      "execution_count": null,
      "metadata": {
        "id": "Si6vPYgBoS8E"
      },
      "outputs": [],
      "source": [
        "s5"
      ]
    },
    {
      "cell_type": "code",
      "execution_count": null,
      "metadata": {
        "id": "coVR7qVntRe1"
      },
      "outputs": [],
      "source": [
        "s5.add(4)"
      ]
    },
    {
      "cell_type": "code",
      "execution_count": null,
      "metadata": {
        "id": "ge-IbtTGtZh8"
      },
      "outputs": [],
      "source": [
        "s5"
      ]
    },
    {
      "cell_type": "code",
      "execution_count": null,
      "metadata": {
        "id": "GEvdXe5ytbTV"
      },
      "outputs": [],
      "source": [
        "s5.remove(2)"
      ]
    },
    {
      "cell_type": "code",
      "execution_count": null,
      "metadata": {
        "id": "WjDMusittz8Z"
      },
      "outputs": [],
      "source": [
        "s5"
      ]
    },
    {
      "cell_type": "markdown",
      "metadata": {
        "id": "pJoy0wPKxTdk"
      },
      "source": [
        "# **DAY 3**"
      ]
    },
    {
      "cell_type": "code",
      "execution_count": null,
      "metadata": {
        "id": "674U9TPAxXzO"
      },
      "outputs": [],
      "source": [
        "d={}"
      ]
    },
    {
      "cell_type": "code",
      "execution_count": null,
      "metadata": {
        "id": "h4JP873OzlsL"
      },
      "outputs": [],
      "source": [
        "type(d)"
      ]
    },
    {
      "cell_type": "code",
      "execution_count": null,
      "metadata": {
        "id": "gxofyV4Bzw2W"
      },
      "outputs": [],
      "source": [
        "d1={'key':'sudh'}"
      ]
    },
    {
      "cell_type": "code",
      "execution_count": null,
      "metadata": {
        "id": "PJziMnVEz3YY"
      },
      "outputs": [],
      "source": [
        "d1"
      ]
    },
    {
      "cell_type": "code",
      "execution_count": null,
      "metadata": {
        "id": "bT4nFsDVz9-8"
      },
      "outputs": [],
      "source": [
        "d1"
      ]
    },
    {
      "cell_type": "code",
      "execution_count": null,
      "metadata": {
        "id": "JdPqT1_mdTsM"
      },
      "outputs": [],
      "source": [
        "d2={'name':'sudhanshu','email':'ss@gmail.com','number':334534}"
      ]
    },
    {
      "cell_type": "code",
      "execution_count": null,
      "metadata": {
        "id": "SRuhTZOLerkD"
      },
      "outputs": [],
      "source": [
        "d2"
      ]
    },
    {
      "cell_type": "code",
      "execution_count": null,
      "metadata": {
        "id": "aRyCY-zDevxP"
      },
      "outputs": [],
      "source": [
        "d3={234:'sudh', '_wer' : 'kumar', True: 24234}"
      ]
    },
    {
      "cell_type": "code",
      "execution_count": null,
      "metadata": {
        "id": "rJRq7dv_e6TA"
      },
      "outputs": [],
      "source": [
        "d3"
      ]
    },
    {
      "cell_type": "code",
      "execution_count": null,
      "metadata": {
        "id": "VAHhQ145L9W2"
      },
      "outputs": [],
      "source": [
        "d3[234]"
      ]
    },
    {
      "cell_type": "code",
      "execution_count": null,
      "metadata": {
        "id": "7wpSkDDFMdDa"
      },
      "outputs": [],
      "source": [
        "d3[1]"
      ]
    },
    {
      "cell_type": "code",
      "execution_count": null,
      "metadata": {
        "id": "T0VHlmNFMz-j"
      },
      "outputs": [],
      "source": [
        "d4={'name':'sudh','mail_id':'ss@gmail.com','name':'sudhanshu'}"
      ]
    },
    {
      "cell_type": "code",
      "execution_count": null,
      "metadata": {
        "id": "QWiZXaCrNU3N"
      },
      "outputs": [],
      "source": [
        "d4['name']"
      ]
    },
    {
      "cell_type": "code",
      "execution_count": null,
      "metadata": {
        "id": "hCOVupQtNpM8"
      },
      "outputs": [],
      "source": [
        "d5={'company':'pwskills','course':['web dev','data science','java with dsa system design']}"
      ]
    },
    {
      "cell_type": "code",
      "execution_count": null,
      "metadata": {
        "id": "NHEq2LBFOUAB"
      },
      "outputs": [],
      "source": [
        "d5"
      ]
    },
    {
      "cell_type": "code",
      "execution_count": null,
      "metadata": {
        "id": "fSGaM4maOaLQ"
      },
      "outputs": [],
      "source": [
        "d5['course']"
      ]
    },
    {
      "cell_type": "code",
      "execution_count": null,
      "metadata": {
        "id": "-MKYIPbfPkSd"
      },
      "outputs": [],
      "source": [
        "d6= {'number': [2,34,3,34,34], 'assignment' : (1,2,3,4,5,6), 'launch_date': {28,12,14},'class_time':{'web_dev':8,'Data science masters':8,'java with dsa and system design':7}}"
      ]
    },
    {
      "cell_type": "code",
      "execution_count": null,
      "metadata": {
        "id": "SSNflUrSQ9sT"
      },
      "outputs": [],
      "source": [
        "d6"
      ]
    },
    {
      "cell_type": "code",
      "execution_count": null,
      "metadata": {
        "id": "S2CKIx9jSo5T"
      },
      "outputs": [],
      "source": [
        "d6['class_time']['java with dsa and system design']"
      ]
    },
    {
      "cell_type": "code",
      "execution_count": null,
      "metadata": {
        "id": "TQEMVLhq4lZ_"
      },
      "outputs": [],
      "source": [
        "d6['mentor']=['sudhanshu','krish','anurag','hayder']"
      ]
    },
    {
      "cell_type": "code",
      "execution_count": null,
      "metadata": {
        "id": "79DEeCet5ADb"
      },
      "outputs": [],
      "source": [
        "d6"
      ]
    },
    {
      "cell_type": "code",
      "execution_count": null,
      "metadata": {
        "id": "F7NA-g3Y5CM9"
      },
      "outputs": [],
      "source": [
        "d6['mentor']=['Ferdous','sudhanshu','krish','anurag','hayder']"
      ]
    },
    {
      "cell_type": "code",
      "execution_count": null,
      "metadata": {
        "id": "OP5sZ2RJ5QHf"
      },
      "outputs": [],
      "source": [
        "d6"
      ]
    },
    {
      "cell_type": "code",
      "execution_count": null,
      "metadata": {
        "id": "-bIZjDB_5Ur4"
      },
      "outputs": [],
      "source": [
        "del d6['number']"
      ]
    },
    {
      "cell_type": "code",
      "execution_count": null,
      "metadata": {
        "id": "UNPKqVq-5a0v"
      },
      "outputs": [],
      "source": [
        "d6"
      ]
    },
    {
      "cell_type": "code",
      "execution_count": null,
      "metadata": {
        "id": "OUvz9kYv7mHE"
      },
      "outputs": [],
      "source": [
        "d6.keys()"
      ]
    },
    {
      "cell_type": "code",
      "execution_count": null,
      "metadata": {
        "id": "RK6XKFJC5cvY"
      },
      "outputs": [],
      "source": [
        "list(d6.keys())"
      ]
    },
    {
      "cell_type": "code",
      "execution_count": null,
      "metadata": {
        "id": "oGl11kyk7Y-p"
      },
      "outputs": [],
      "source": [
        "d6.values()"
      ]
    },
    {
      "cell_type": "code",
      "execution_count": null,
      "metadata": {
        "id": "iBUoTyJc7cxx"
      },
      "outputs": [],
      "source": [
        "list(d6.values())"
      ]
    },
    {
      "cell_type": "code",
      "execution_count": null,
      "metadata": {
        "id": "OXJyThlH7087"
      },
      "outputs": [],
      "source": [
        "d6.items()"
      ]
    },
    {
      "cell_type": "code",
      "execution_count": null,
      "metadata": {
        "id": "wwPTHIeR73bN"
      },
      "outputs": [],
      "source": [
        "list(d6.items())"
      ]
    },
    {
      "cell_type": "code",
      "execution_count": null,
      "metadata": {
        "id": "NPdEGZoVTqG_"
      },
      "outputs": [],
      "source": [
        "d6.pop('assignment')"
      ]
    },
    {
      "cell_type": "code",
      "execution_count": null,
      "metadata": {
        "id": "Ur71x8RYUUYj"
      },
      "outputs": [],
      "source": [
        "d6"
      ]
    },
    {
      "cell_type": "code",
      "execution_count": null,
      "metadata": {
        "id": "GmwngT_WUWrc"
      },
      "outputs": [],
      "source": [
        "marks = int(input(\"enter your marks\"))\n",
        "\n",
        "if marks >= 80 :\n",
        "    print(\"you will be a part of A0 batch\")\n",
        "elif marks >= 60 and marks< 80 :\n",
        "    print(\"you will be a part of A1 batch\")\n",
        "elif marks >= 40 and marks< 60 :\n",
        "    print(\"you will be a part of A2 batch\")\n",
        "else :\n",
        "    print(\"you will be a part of A3 batch\")"
      ]
    },
    {
      "cell_type": "code",
      "execution_count": null,
      "metadata": {
        "id": "BWfx5O9WN-Ck"
      },
      "outputs": [],
      "source": [
        "type(marks)"
      ]
    },
    {
      "cell_type": "code",
      "execution_count": null,
      "metadata": {
        "id": "zzbl2u5iOpEV"
      },
      "outputs": [],
      "source": [
        "type(marks)"
      ]
    },
    {
      "cell_type": "code",
      "execution_count": null,
      "metadata": {
        "id": "tmFBSU5tOxUr"
      },
      "outputs": [],
      "source": [
        "price=int(input(\"ente price: \"))\n",
        "\n",
        "if price >1000:\n",
        "  print(\"i will not purchase: \")\n",
        "else:\n",
        "  print(\"i will purchase\")"
      ]
    },
    {
      "cell_type": "code",
      "execution_count": null,
      "metadata": {
        "id": "Sx2oJ8hxQL4n"
      },
      "outputs": [],
      "source": [
        "price=int(input('enter price: '))\n",
        "\n",
        "if price>1000:\n",
        "  print('i will not purchase')\n",
        "  if price>5000:\n",
        "    print('this is too muche')\n",
        "elif price < 2000:\n",
        "    print('its ok')"
      ]
    },
    {
      "cell_type": "code",
      "execution_count": null,
      "metadata": {
        "id": "nS1CphEFUiKl"
      },
      "outputs": [],
      "source": [
        "l=[1,2,3,3,4,5,6,7,8]"
      ]
    },
    {
      "cell_type": "code",
      "execution_count": null,
      "metadata": {
        "id": "aON-58pqUo26"
      },
      "outputs": [],
      "source": [
        "for i in l:\n",
        "  print(i)"
      ]
    },
    {
      "cell_type": "code",
      "execution_count": null,
      "metadata": {
        "id": "sNDwKKrv7EZR"
      },
      "outputs": [],
      "source": [
        "l1=[]\n",
        "for i in l:\n",
        "  i=i+1\n",
        "  print(i)\n",
        "  l1.append(i+1)\n",
        "l1"
      ]
    },
    {
      "cell_type": "code",
      "execution_count": null,
      "metadata": {
        "id": "tra1npmhF02Q"
      },
      "outputs": [],
      "source": [
        "l=[\"sudh\",\"kumar\",\"pwskills\",\"course\"]"
      ]
    },
    {
      "cell_type": "code",
      "execution_count": null,
      "metadata": {
        "id": "_eBzwFCDF384"
      },
      "outputs": [],
      "source": [
        "l1=[]\n",
        "for i in l:\n",
        "  #print(i)\n",
        "  l1.append(i.upper())\n",
        "l1"
      ]
    },
    {
      "cell_type": "code",
      "execution_count": null,
      "metadata": {
        "id": "Jw-mDNkqGaAv"
      },
      "outputs": [],
      "source": [
        "l1"
      ]
    },
    {
      "cell_type": "code",
      "execution_count": null,
      "metadata": {
        "id": "n9t0zAfSGvCa"
      },
      "outputs": [],
      "source": [
        "l=[1,2,3,4,4,'sudh','kumar',324,324.456,'abc']"
      ]
    },
    {
      "cell_type": "code",
      "execution_count": null,
      "metadata": {
        "id": "XZuTdZ0JG_cz"
      },
      "outputs": [],
      "source": [
        "l"
      ]
    },
    {
      "cell_type": "code",
      "execution_count": null,
      "metadata": {
        "id": "LG3ot5zZm3fY"
      },
      "outputs": [],
      "source": [
        "l1=[]\n",
        "l2=[]\n",
        "for i in l:\n",
        "  if type(i)==str:\n",
        "    l1.append(i)\n",
        "  elif type(i)== int or type(i)== float:\n",
        "    l2.append(i)\n",
        "\n",
        "print(l1)\n",
        "print(l2)"
      ]
    },
    {
      "cell_type": "code",
      "execution_count": null,
      "metadata": {
        "id": "rw9C7bkfBU6J"
      },
      "outputs": [],
      "source": [
        "for i in range(5):\n",
        "\n",
        "  if i == 2:\n",
        "    continue\n",
        "  print(i)"
      ]
    },
    {
      "cell_type": "markdown",
      "metadata": {
        "id": "bjPbPOr0FIwx"
      },
      "source": [
        "# **DAY 4**"
      ]
    },
    {
      "cell_type": "code",
      "execution_count": null,
      "metadata": {
        "id": "nxh5kw0-FRWE"
      },
      "outputs": [],
      "source": [
        "a=print('this is my print ')"
      ]
    },
    {
      "cell_type": "code",
      "execution_count": null,
      "metadata": {
        "id": "PARvDB25sqIN"
      },
      "outputs": [],
      "source": [
        "def test():\n",
        "  pass"
      ]
    },
    {
      "cell_type": "code",
      "execution_count": null,
      "metadata": {
        "id": "PPoXua7BtMAC"
      },
      "outputs": [],
      "source": [
        "def test1():\n",
        "  print(\"this is my very first functionMI\")"
      ]
    },
    {
      "cell_type": "code",
      "execution_count": null,
      "metadata": {
        "id": "PO1yWDa8tYQA"
      },
      "outputs": [],
      "source": [
        "test1()"
      ]
    },
    {
      "cell_type": "code",
      "execution_count": null,
      "metadata": {
        "id": "6ndN4IlQtdTW"
      },
      "outputs": [],
      "source": [
        "test1() + \"sudh\""
      ]
    },
    {
      "cell_type": "code",
      "execution_count": null,
      "metadata": {
        "id": "1JYNx3cpuBGp"
      },
      "outputs": [],
      "source": [
        "def test2():\n",
        "  return \"this is my very first return\""
      ]
    },
    {
      "cell_type": "code",
      "execution_count": null,
      "metadata": {
        "id": "nZ6MufHEuClr"
      },
      "outputs": [],
      "source": [
        "test2()"
      ]
    },
    {
      "cell_type": "code",
      "execution_count": null,
      "metadata": {
        "id": "H1DdYGRYuKI_"
      },
      "outputs": [],
      "source": [
        "test2()+\" sudh\""
      ]
    },
    {
      "cell_type": "code",
      "execution_count": null,
      "metadata": {
        "id": "4RQNBaWwuSR5"
      },
      "outputs": [],
      "source": [
        "def test3():\n",
        "  return \"sudh\",23,345.56,[1,2,3,3]"
      ]
    },
    {
      "cell_type": "code",
      "execution_count": null,
      "metadata": {
        "id": "pz72AUTKujvD"
      },
      "outputs": [],
      "source": [
        "test3()"
      ]
    },
    {
      "cell_type": "code",
      "execution_count": null,
      "metadata": {
        "id": "IkLchBiDunin"
      },
      "outputs": [],
      "source": [
        "a,b,c,d=test3()"
      ]
    },
    {
      "cell_type": "code",
      "execution_count": null,
      "metadata": {
        "id": "pc2uCS6butTw"
      },
      "outputs": [],
      "source": [
        "a"
      ]
    },
    {
      "cell_type": "code",
      "execution_count": null,
      "metadata": {
        "id": "iMtojJLeuuvB"
      },
      "outputs": [],
      "source": [
        "b"
      ]
    },
    {
      "cell_type": "code",
      "execution_count": null,
      "metadata": {
        "id": "E1w7fPpMuwAE"
      },
      "outputs": [],
      "source": [
        "c"
      ]
    },
    {
      "cell_type": "code",
      "execution_count": null,
      "metadata": {
        "id": "ba7rDg6quxUs"
      },
      "outputs": [],
      "source": [
        "d"
      ]
    },
    {
      "cell_type": "code",
      "execution_count": null,
      "metadata": {
        "id": "UTh-cg_tu0jM"
      },
      "outputs": [],
      "source": [
        "d[2]"
      ]
    },
    {
      "cell_type": "code",
      "execution_count": null,
      "metadata": {
        "id": "Dq-9bNPJu3-u"
      },
      "outputs": [],
      "source": [
        "d[1:3]"
      ]
    },
    {
      "cell_type": "code",
      "execution_count": null,
      "metadata": {
        "id": "AGcY5R0uyFYe"
      },
      "outputs": [],
      "source": [
        "d[0::2]"
      ]
    },
    {
      "cell_type": "code",
      "execution_count": null,
      "metadata": {
        "id": "Nw5l2omKyLzN"
      },
      "outputs": [],
      "source": [
        "d[-1::-2]"
      ]
    },
    {
      "cell_type": "code",
      "execution_count": null,
      "metadata": {
        "id": "9Vmu-4PTycqi"
      },
      "outputs": [],
      "source": [
        "a,b=1,4 #mapping of multiple variable to multiple values seperated by comma using assignment operator"
      ]
    },
    {
      "cell_type": "code",
      "execution_count": null,
      "metadata": {
        "id": "dlvuT5XGyieT"
      },
      "outputs": [],
      "source": [
        "a,b"
      ]
    },
    {
      "cell_type": "code",
      "execution_count": null,
      "metadata": {
        "id": "OUEc8wdeyh3H"
      },
      "outputs": [],
      "source": [
        "a=1\n",
        "b=4"
      ]
    },
    {
      "cell_type": "code",
      "execution_count": null,
      "metadata": {
        "id": "AtlNlkIXypgW"
      },
      "outputs": [],
      "source": [
        "a,b"
      ]
    },
    {
      "cell_type": "code",
      "execution_count": null,
      "metadata": {
        "id": "0hozrSRMzCNb"
      },
      "outputs": [],
      "source": [
        "def test4():\n",
        "  a=5+6/7\n",
        "  return a"
      ]
    },
    {
      "cell_type": "code",
      "execution_count": null,
      "metadata": {
        "id": "uPs1dHmyzaSA"
      },
      "outputs": [],
      "source": [
        "test4()"
      ]
    },
    {
      "cell_type": "code",
      "execution_count": null,
      "metadata": {
        "id": "Cqz1-UTpzfLn"
      },
      "outputs": [],
      "source": [
        "def test5(a,b,c):\n",
        "  d=a+b/c\n",
        "  return d"
      ]
    },
    {
      "cell_type": "code",
      "execution_count": null,
      "metadata": {
        "id": "XZrcIetZztd6"
      },
      "outputs": [],
      "source": [
        "test5()"
      ]
    },
    {
      "cell_type": "code",
      "execution_count": null,
      "metadata": {
        "id": "PSsQ8pBhz3W3"
      },
      "outputs": [],
      "source": [
        "test5(2,5,8)"
      ]
    },
    {
      "cell_type": "code",
      "execution_count": null,
      "metadata": {
        "id": "D1aPryqBz_45"
      },
      "outputs": [],
      "source": [
        "def test6(a,b):\n",
        "  return a+b"
      ]
    },
    {
      "cell_type": "code",
      "execution_count": null,
      "metadata": {
        "id": "gz44wTQ60Geq"
      },
      "outputs": [],
      "source": [
        "test6(3,4)"
      ]
    },
    {
      "cell_type": "code",
      "execution_count": null,
      "metadata": {
        "id": "wS1jrVEb0KIC"
      },
      "outputs": [],
      "source": [
        "test6('sudh','kumar')"
      ]
    },
    {
      "cell_type": "code",
      "execution_count": null,
      "metadata": {
        "id": "fnN45lfT0QbS"
      },
      "outputs": [],
      "source": [
        "test6([1,2,3,4,5],[4,5,6])"
      ]
    },
    {
      "cell_type": "code",
      "execution_count": null,
      "metadata": {
        "id": "LX7rltQX0hff"
      },
      "outputs": [],
      "source": [
        "l= [1,2,3,4,'sudh','kumar',[1,2,3,5,6],1111]"
      ]
    },
    {
      "cell_type": "code",
      "execution_count": null,
      "metadata": {
        "id": "8aW4AfzzGg3S"
      },
      "outputs": [],
      "source": [
        "def test7(l):\n",
        "  '''This is function to extract data from list'''\n",
        "  l1=[]\n",
        "  l2=[]\n",
        "  for i in l:\n",
        "    if type(i)== int or type(i)== float:\n",
        "        l1.append(i)\n",
        "    if type(i)== list or type(i)== tuple or type(i)== set:\n",
        "        for j in i:\n",
        "          if type(j)== int or type(j)==float:\n",
        "            l1.append(j)\n",
        "          else:\n",
        "            if type(j)== str:\n",
        "              l2.append(j)\n",
        "    else:\n",
        "      if type(i)==str:\n",
        "        l2.append(i)\n",
        "  return l1, l2"
      ]
    },
    {
      "cell_type": "code",
      "execution_count": null,
      "metadata": {
        "id": "_QqX-XoSJGQG"
      },
      "outputs": [],
      "source": [
        "test7(l)"
      ]
    },
    {
      "cell_type": "code",
      "execution_count": null,
      "metadata": {
        "id": "zS3XkqijM5aA"
      },
      "outputs": [],
      "source": [
        "k=[1,2,4,5,'shubh',[9,8,7],[a,b,c],(6,11),('w','x'),{32,26},{'three','six'}]"
      ]
    },
    {
      "cell_type": "code",
      "execution_count": null,
      "metadata": {
        "id": "43FG3GoRO2pL"
      },
      "outputs": [],
      "source": [
        "test7(k)"
      ]
    },
    {
      "cell_type": "code",
      "execution_count": null,
      "metadata": {
        "id": "bl0RaK_wV4I3"
      },
      "outputs": [],
      "source": [
        "def test10(a,b):\n",
        "  return a+b"
      ]
    },
    {
      "cell_type": "code",
      "execution_count": null,
      "metadata": {
        "id": "2z9rPNemWvy8"
      },
      "outputs": [],
      "source": [
        "def test11(*args):\n",
        "  return args"
      ]
    },
    {
      "cell_type": "code",
      "execution_count": null,
      "metadata": {
        "id": "EV6ItSSgW4_1"
      },
      "outputs": [],
      "source": [
        "test11()"
      ]
    },
    {
      "cell_type": "code",
      "execution_count": null,
      "metadata": {
        "id": "LkufRza9W-Dx"
      },
      "outputs": [],
      "source": [
        "type(test11())"
      ]
    },
    {
      "cell_type": "code",
      "execution_count": null,
      "metadata": {
        "id": "JBg7qaoyXGe6"
      },
      "outputs": [],
      "source": [
        "test11(1,2,3)"
      ]
    },
    {
      "cell_type": "code",
      "execution_count": null,
      "metadata": {
        "id": "8k6TWANBXKCS"
      },
      "outputs": [],
      "source": [
        "test11(1,2,3,'sudh','kumar',[1,2,3,4,4])"
      ]
    },
    {
      "cell_type": "code",
      "execution_count": null,
      "metadata": {
        "id": "y1fotiytXcrj"
      },
      "outputs": [],
      "source": [
        "def test12(*sudh):\n",
        "  return sudh"
      ]
    },
    {
      "cell_type": "code",
      "execution_count": null,
      "metadata": {
        "id": "GUEHkxCNXlVn"
      },
      "outputs": [],
      "source": [
        "test12(1,2,34,4)"
      ]
    },
    {
      "cell_type": "code",
      "execution_count": null,
      "metadata": {
        "id": "kbBNHAc5XtpP"
      },
      "outputs": [],
      "source": [
        "def test13(*args,a):\n",
        "  return args,a"
      ]
    },
    {
      "cell_type": "code",
      "execution_count": null,
      "metadata": {
        "id": "fo895UIzX0rM"
      },
      "outputs": [],
      "source": [
        "test13(1,2,3,4)"
      ]
    },
    {
      "cell_type": "code",
      "execution_count": null,
      "metadata": {
        "id": "PXj5EkBWX6FB"
      },
      "outputs": [],
      "source": [
        "test13(1,2,3,4,a=23)"
      ]
    },
    {
      "cell_type": "code",
      "execution_count": null,
      "metadata": {
        "id": "9Iho1VKCYAuu"
      },
      "outputs": [],
      "source": [
        "def test14(c,d,a=23,b=1):\n",
        "  return a,b,c,d"
      ]
    },
    {
      "cell_type": "code",
      "execution_count": null,
      "metadata": {
        "id": "IrGnduseYjtY"
      },
      "outputs": [],
      "source": [
        "test14()"
      ]
    },
    {
      "cell_type": "code",
      "execution_count": null,
      "metadata": {
        "id": "vjlo08IPYpuu"
      },
      "outputs": [],
      "source": [
        "test14(3,4)"
      ]
    },
    {
      "cell_type": "code",
      "execution_count": null,
      "metadata": {
        "id": "zV5bBh4fYs6R"
      },
      "outputs": [],
      "source": [
        "test14(2,5,a=2342)"
      ]
    },
    {
      "cell_type": "code",
      "execution_count": null,
      "metadata": {
        "id": "g335AbS5ZF_l"
      },
      "outputs": [],
      "source": [
        "def test15(**kwargs):\n",
        "  return kwargs"
      ]
    },
    {
      "cell_type": "code",
      "execution_count": null,
      "metadata": {
        "id": "kC1BRZ-2ZO2U"
      },
      "outputs": [],
      "source": [
        "test15()"
      ]
    },
    {
      "cell_type": "code",
      "execution_count": null,
      "metadata": {
        "id": "Mgg3f-IAZTI5"
      },
      "outputs": [],
      "source": [
        "type(test15())"
      ]
    },
    {
      "cell_type": "code",
      "execution_count": null,
      "metadata": {
        "id": "n7opUuolZYWm"
      },
      "outputs": [],
      "source": [
        "test15(a=[1,2,3,4],b='sudh',c=23.45)"
      ]
    },
    {
      "cell_type": "markdown",
      "metadata": {
        "id": "z8U4Q7r0W7-3"
      },
      "source": [
        "# **DAY 5**"
      ]
    },
    {
      "cell_type": "markdown",
      "metadata": {
        "id": "Mxxt0EirW7-3"
      },
      "source": [
        "<B>Generator Function</B>"
      ]
    },
    {
      "cell_type": "code",
      "execution_count": null,
      "metadata": {
        "id": "QZGerpogW7-3"
      },
      "outputs": [],
      "source": [
        "range(10)"
      ]
    },
    {
      "cell_type": "code",
      "execution_count": null,
      "metadata": {
        "id": "fZulL6cBW7-3"
      },
      "outputs": [],
      "source": [
        "for i in range(10):\n",
        "    print(i)"
      ]
    },
    {
      "cell_type": "markdown",
      "metadata": {
        "id": "sB7JWOw3W7-3"
      },
      "source": [
        "<B><U><Font color=red>Fibonacci series</Font></U></B> : In a series of number nextnumber is the sum of previous two numbers."
      ]
    },
    {
      "cell_type": "code",
      "execution_count": null,
      "metadata": {
        "id": "k4CBrelfW7-3"
      },
      "outputs": [],
      "source": [
        "def test_fib(n):\n",
        "    a,b= 0,1\n",
        "    for i in range(n):\n",
        "        yield a\n",
        "        a,b=b,a+b"
      ]
    },
    {
      "cell_type": "markdown",
      "metadata": {
        "id": "QAaztC_CW7-3"
      },
      "source": [
        "<U><B><Font Color=red>Yield function</Font></B></U> :"
      ]
    },
    {
      "cell_type": "code",
      "execution_count": null,
      "metadata": {
        "id": "JCgCECv5W7-3"
      },
      "outputs": [],
      "source": [
        "test_fib(10)"
      ]
    },
    {
      "cell_type": "code",
      "execution_count": null,
      "metadata": {
        "id": "z7oYoSweW7-4"
      },
      "outputs": [],
      "source": [
        "for i in test_fib(10):\n",
        "    print(i)"
      ]
    },
    {
      "cell_type": "code",
      "execution_count": null,
      "metadata": {
        "id": "OA_uoHu2W7-4"
      },
      "outputs": [],
      "source": [
        "num = int(input('Enter the count of fabonacci no you want: '))\n",
        "\n",
        "a,b=0,1\n",
        "for i in range(num):\n",
        "    print(a)\n",
        "    c=a+b\n",
        "    a=b\n",
        "    b=c"
      ]
    },
    {
      "cell_type": "code",
      "execution_count": null,
      "metadata": {
        "id": "3nIcfQblW7-4"
      },
      "outputs": [],
      "source": [
        "def test_fib1():\n",
        "    a,b=0,1\n",
        "    while True:\n",
        "        a,b=b, a+b"
      ]
    },
    {
      "cell_type": "code",
      "execution_count": null,
      "metadata": {
        "id": "4LB3_xruW7-4"
      },
      "outputs": [],
      "source": [
        "fib=test_fib1()"
      ]
    },
    {
      "cell_type": "code",
      "execution_count": null,
      "metadata": {
        "id": "Yx0M7WjmW7-4"
      },
      "outputs": [],
      "source": [
        "for i in range(10):\n",
        "    print(next(fib))"
      ]
    },
    {
      "cell_type": "code",
      "execution_count": null,
      "metadata": {
        "id": "aH3z0UEiW7-4"
      },
      "outputs": [],
      "source": [
        "s='sudh'"
      ]
    },
    {
      "cell_type": "code",
      "execution_count": null,
      "metadata": {
        "id": "TTNLC1beW7-4"
      },
      "outputs": [],
      "source": [
        "for i in s:\n",
        "    print(i)"
      ]
    },
    {
      "cell_type": "code",
      "execution_count": null,
      "metadata": {
        "id": "qIEtkZPcW7-4"
      },
      "outputs": [],
      "source": [
        "s"
      ]
    },
    {
      "cell_type": "code",
      "execution_count": null,
      "metadata": {
        "id": "wRO4Y6DfW7-5"
      },
      "outputs": [],
      "source": [
        "next(s)"
      ]
    },
    {
      "cell_type": "code",
      "execution_count": null,
      "metadata": {
        "id": "n4oA4ZjHW7-5"
      },
      "outputs": [],
      "source": [
        "s1=iter(s)"
      ]
    },
    {
      "cell_type": "code",
      "execution_count": null,
      "metadata": {
        "id": "7MFP37LvW7-5"
      },
      "outputs": [],
      "source": [
        "type(s1)"
      ]
    },
    {
      "cell_type": "code",
      "execution_count": null,
      "metadata": {
        "id": "EoCtuPBUW7-5"
      },
      "outputs": [],
      "source": [
        "next(s1)"
      ]
    },
    {
      "cell_type": "code",
      "execution_count": null,
      "metadata": {
        "id": "jjmpW7jIW7-5"
      },
      "outputs": [],
      "source": [
        "next(s1)"
      ]
    },
    {
      "cell_type": "code",
      "execution_count": null,
      "metadata": {
        "id": "3mAnTC9sW7-5"
      },
      "outputs": [],
      "source": [
        "next(s1)"
      ]
    },
    {
      "cell_type": "code",
      "execution_count": null,
      "metadata": {
        "id": "4rMAhxBNW7-5"
      },
      "outputs": [],
      "source": [
        "next(s1)"
      ]
    },
    {
      "cell_type": "code",
      "execution_count": null,
      "metadata": {
        "id": "FCyUcvSTW7-5"
      },
      "outputs": [],
      "source": [
        "next(s1)"
      ]
    },
    {
      "cell_type": "code",
      "execution_count": null,
      "metadata": {
        "id": "mKndgQ4WW7-6"
      },
      "outputs": [],
      "source": [
        "next(45)"
      ]
    },
    {
      "cell_type": "code",
      "execution_count": null,
      "metadata": {
        "id": "XzitdejyW7-6"
      },
      "outputs": [],
      "source": [
        "iter(45)"
      ]
    },
    {
      "cell_type": "code",
      "execution_count": null,
      "metadata": {
        "id": "zZ-3MPn1W7-6"
      },
      "outputs": [],
      "source": []
    }
  ],
  "metadata": {
    "colab": {
      "provenance": [],
      "toc_visible": true,
      "include_colab_link": true
    },
    "kernelspec": {
      "display_name": "Python 3 (ipykernel)",
      "language": "python",
      "name": "python3"
    }
  },
  "nbformat": 4,
  "nbformat_minor": 0
}