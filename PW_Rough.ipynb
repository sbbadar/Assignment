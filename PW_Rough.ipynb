{
  "cells": [
    {
      "cell_type": "markdown",
      "metadata": {
        "id": "GE3Ut9TRxa2v"
      },
      "source": [
        "# **DAY 1**"
      ]
    },
    {
      "cell_type": "code",
      "execution_count": null,
      "metadata": {
        "id": "9rTHNLH8f709"
      },
      "outputs": [],
      "source": [
        "s='pwskills'"
      ]
    },
    {
      "cell_type": "code",
      "execution_count": null,
      "metadata": {
        "colab": {
          "base_uri": "https://localhost:8080/",
          "height": 35
        },
        "id": "-xeeK61YgNoq",
        "outputId": "a43eaf0f-1229-4322-e4fc-effd720de8ba"
      },
      "outputs": [],
      "source": [
        "s[::-1]"
      ]
    },
    {
      "cell_type": "code",
      "execution_count": null,
      "metadata": {
        "colab": {
          "base_uri": "https://localhost:8080/",
          "height": 35
        },
        "id": "GWa6_-_jtQN4",
        "outputId": "485850e9-cdd1-4fcf-c058-9c9668bd20fd"
      },
      "outputs": [],
      "source": [
        "s[2:7:-1]"
      ]
    },
    {
      "cell_type": "code",
      "execution_count": null,
      "metadata": {
        "id": "ndk3abFWuOFH"
      },
      "outputs": [],
      "source": []
    },
    {
      "cell_type": "code",
      "execution_count": null,
      "metadata": {
        "colab": {
          "base_uri": "https://localhost:8080/",
          "height": 35
        },
        "id": "taZnnnsTuomt",
        "outputId": "8c18f9a6-35ba-4bc6-fa91-28cb2347f995"
      },
      "outputs": [],
      "source": [
        "s[8:0]"
      ]
    },
    {
      "cell_type": "code",
      "execution_count": null,
      "metadata": {
        "colab": {
          "base_uri": "https://localhost:8080/",
          "height": 35
        },
        "id": "LnnawLfBvScQ",
        "outputId": "980b8c1e-4fde-4389-805f-15fdcc11fefa"
      },
      "outputs": [],
      "source": [
        "s[8:0:-1]"
      ]
    },
    {
      "cell_type": "code",
      "execution_count": null,
      "metadata": {
        "colab": {
          "base_uri": "https://localhost:8080/",
          "height": 35
        },
        "id": "730M6NU0vnDJ",
        "outputId": "0f85a776-247e-42a6-ac18-7d8694300ca4"
      },
      "outputs": [],
      "source": [
        "s[-2:-8:1]"
      ]
    },
    {
      "cell_type": "code",
      "execution_count": null,
      "metadata": {
        "colab": {
          "base_uri": "https://localhost:8080/",
          "height": 35
        },
        "id": "j2T9JlYu6NCT",
        "outputId": "216ae294-d73a-440a-aac5-13ada623b734"
      },
      "outputs": [],
      "source": [
        "s[-2:-8:-1]"
      ]
    },
    {
      "cell_type": "code",
      "execution_count": null,
      "metadata": {
        "colab": {
          "base_uri": "https://localhost:8080/",
          "height": 35
        },
        "id": "-fv4AkyR5hIG",
        "outputId": "22e07968-cbdf-4620-9fe7-dfd73853d17d"
      },
      "outputs": [],
      "source": [
        "s[-2::-1]"
      ]
    },
    {
      "cell_type": "code",
      "execution_count": null,
      "metadata": {
        "colab": {
          "base_uri": "https://localhost:8080/",
          "height": 35
        },
        "id": "5Z6T1JAR6mM1",
        "outputId": "b4450ede-7404-404c-9098-83a3070f43de"
      },
      "outputs": [],
      "source": [
        "s[:-8:-1]"
      ]
    },
    {
      "cell_type": "code",
      "execution_count": null,
      "metadata": {
        "colab": {
          "base_uri": "https://localhost:8080/",
          "height": 35
        },
        "id": "8Eg1lpE6tWtP",
        "outputId": "f80797f7-51fd-4b43-c12c-ef5dcca53edd"
      },
      "outputs": [],
      "source": [
        " s[::1]"
      ]
    },
    {
      "cell_type": "code",
      "execution_count": null,
      "metadata": {
        "colab": {
          "base_uri": "https://localhost:8080/",
          "height": 35
        },
        "id": "BZudj-u3JGTg",
        "outputId": "d2020c8d-7d9b-4d6d-fd5f-4bd6d046b803"
      },
      "outputs": [],
      "source": [
        "s[::]"
      ]
    },
    {
      "cell_type": "code",
      "execution_count": null,
      "metadata": {
        "colab": {
          "base_uri": "https://localhost:8080/",
          "height": 35
        },
        "id": "VMK95hz6oqik",
        "outputId": "897cfafb-3d2e-456d-be77-a973d9ec56fd"
      },
      "outputs": [],
      "source": [
        "s[:-90:]"
      ]
    },
    {
      "cell_type": "code",
      "execution_count": null,
      "metadata": {
        "colab": {
          "base_uri": "https://localhost:8080/",
          "height": 35
        },
        "id": "dC_vjteyo6-o",
        "outputId": "fc9e6202-2f9d-43b4-da19-1ede32267b5a"
      },
      "outputs": [],
      "source": [
        "s[:90:]"
      ]
    },
    {
      "cell_type": "code",
      "execution_count": null,
      "metadata": {
        "colab": {
          "base_uri": "https://localhost:8080/",
          "height": 141
        },
        "id": "4tCaOLOxpCfd",
        "outputId": "cf13b65e-25c1-4dee-928b-4dc75694ad06"
      },
      "outputs": [],
      "source": [
        "s[90]"
      ]
    },
    {
      "cell_type": "code",
      "execution_count": null,
      "metadata": {
        "colab": {
          "base_uri": "https://localhost:8080/",
          "height": 35
        },
        "id": "ypXurRQEqhOx",
        "outputId": "a29b583d-30dc-4a7d-c13c-26c5ec7d80be"
      },
      "outputs": [],
      "source": [
        "s[6]"
      ]
    },
    {
      "cell_type": "code",
      "execution_count": null,
      "metadata": {
        "colab": {
          "base_uri": "https://localhost:8080/",
          "height": 35
        },
        "id": "ZU9LZdcPryD5",
        "outputId": "e49e71d2-e88e-41a4-b21f-41e059a00272"
      },
      "outputs": [],
      "source": [
        "s[:-90:-1]"
      ]
    },
    {
      "cell_type": "code",
      "execution_count": null,
      "metadata": {
        "id": "subU7kQgvmct"
      },
      "outputs": [],
      "source": [
        "c=200"
      ]
    },
    {
      "cell_type": "code",
      "execution_count": null,
      "metadata": {
        "id": "D5Kkl27mv761"
      },
      "outputs": [],
      "source": [
        "s1=\"This is my string class\""
      ]
    },
    {
      "cell_type": "code",
      "execution_count": null,
      "metadata": {
        "id": "QgYh-fWYwW3b"
      },
      "outputs": [],
      "source": [
        "len(s1)"
      ]
    },
    {
      "cell_type": "code",
      "execution_count": null,
      "metadata": {
        "id": "fiyk5-rLLUEB"
      },
      "outputs": [],
      "source": [
        "s1.find('s')"
      ]
    },
    {
      "cell_type": "code",
      "execution_count": null,
      "metadata": {
        "id": "fbegPcDDLlvK"
      },
      "outputs": [],
      "source": [
        "s1.find('is')"
      ]
    },
    {
      "cell_type": "code",
      "execution_count": null,
      "metadata": {
        "id": "MKweisWkMBQI"
      },
      "outputs": [],
      "source": [
        "s1.find('iS')"
      ]
    },
    {
      "cell_type": "code",
      "execution_count": null,
      "metadata": {
        "id": "8Nz9gO-jLb1X"
      },
      "outputs": [],
      "source": [
        "s1.count('s')"
      ]
    },
    {
      "cell_type": "code",
      "execution_count": null,
      "metadata": {
        "id": "hcDYadhuMgSW"
      },
      "outputs": [],
      "source": [
        "##this is a code to find a charactered of sub string in string\n",
        "s1.count('st')"
      ]
    },
    {
      "cell_type": "code",
      "execution_count": null,
      "metadata": {
        "id": "mcVOPXYDMllZ"
      },
      "outputs": [],
      "source": [
        "s1.count('z')"
      ]
    },
    {
      "cell_type": "code",
      "execution_count": null,
      "metadata": {
        "id": "nVp4S6JGMu1R"
      },
      "outputs": [],
      "source": [
        "s2=s1.upper()"
      ]
    },
    {
      "cell_type": "code",
      "execution_count": null,
      "metadata": {
        "id": "PqEyh2BPNJ2G"
      },
      "outputs": [],
      "source": [
        "s2"
      ]
    },
    {
      "cell_type": "code",
      "execution_count": null,
      "metadata": {
        "id": "CF8oceJ6SRV-"
      },
      "outputs": [],
      "source": [
        "s1"
      ]
    },
    {
      "cell_type": "code",
      "execution_count": null,
      "metadata": {
        "id": "0KbExxdQSYzy"
      },
      "outputs": [],
      "source": [
        "s1.title()"
      ]
    },
    {
      "cell_type": "code",
      "execution_count": null,
      "metadata": {
        "id": "Hkmw0sl3ShcT"
      },
      "outputs": [],
      "source": [
        "s1.capitalize()"
      ]
    },
    {
      "cell_type": "code",
      "execution_count": null,
      "metadata": {
        "id": "flNWPdpAYwgf"
      },
      "outputs": [],
      "source": [
        "s+' sudh'"
      ]
    },
    {
      "cell_type": "code",
      "execution_count": null,
      "metadata": {
        "id": "ZJnPlei1jmpQ"
      },
      "outputs": [],
      "source": [
        "s+'1'"
      ]
    },
    {
      "cell_type": "code",
      "execution_count": null,
      "metadata": {
        "id": "_IBd6F84jvjj"
      },
      "outputs": [],
      "source": [
        "s+str(1)"
      ]
    },
    {
      "cell_type": "code",
      "execution_count": null,
      "metadata": {
        "id": "dEYIfSeRolwP"
      },
      "outputs": [],
      "source": [
        "s*3"
      ]
    },
    {
      "cell_type": "code",
      "execution_count": null,
      "metadata": {
        "id": "YphLawDaoprc"
      },
      "outputs": [],
      "source": [
        "\"don't do copy and paste in my class\""
      ]
    },
    {
      "cell_type": "code",
      "execution_count": null,
      "metadata": {
        "id": "q8aChL-5wuGZ"
      },
      "outputs": [],
      "source": [
        "'don't do copy and paste in my class'"
      ]
    },
    {
      "cell_type": "code",
      "execution_count": null,
      "metadata": {
        "id": "zo5TJ6FBzJ_J"
      },
      "outputs": [],
      "source": [
        "s3='''This is my first class for programming\n",
        "i have learned variable declaration, data type, string, int, bolean, complex number\n",
        "i have seen some example of string slicing and indexing\n",
        "ihave gone through some of the string inbuilt function\n",
        "apart from that i am trying to practice in my system\n",
        "but some of us in our class are not executing code and still they are answering which is bad'''"
      ]
    },
    {
      "cell_type": "code",
      "execution_count": null,
      "metadata": {
        "id": "37gdEw5T41Hz"
      },
      "outputs": [],
      "source": [
        "s3"
      ]
    },
    {
      "cell_type": "markdown",
      "metadata": {
        "id": "v5S73WF6ESZn"
      },
      "source": [
        "# **DAY 2**"
      ]
    },
    {
      "cell_type": "code",
      "execution_count": null,
      "metadata": {
        "id": "TwNXTjcy5ZyG"
      },
      "outputs": [],
      "source": [
        "l=[1,345,45,'sudh',True,5+7j,345.456]"
      ]
    },
    {
      "cell_type": "code",
      "execution_count": null,
      "metadata": {
        "id": "lj9u_GrDDIwz"
      },
      "outputs": [],
      "source": [
        "type(l)"
      ]
    },
    {
      "cell_type": "code",
      "execution_count": null,
      "metadata": {
        "id": "bQPLMqaMDh_z"
      },
      "outputs": [],
      "source": [
        "l[0]"
      ]
    },
    {
      "cell_type": "code",
      "execution_count": null,
      "metadata": {
        "id": "1K4nrpTrEtVN"
      },
      "outputs": [],
      "source": [
        "l[6]"
      ]
    },
    {
      "cell_type": "code",
      "execution_count": null,
      "metadata": {
        "id": "z8UnpH69Evuu"
      },
      "outputs": [],
      "source": [
        "l[90]"
      ]
    },
    {
      "cell_type": "code",
      "execution_count": null,
      "metadata": {
        "id": "B5GtRDJ7FeTo"
      },
      "outputs": [],
      "source": [
        "l"
      ]
    },
    {
      "cell_type": "code",
      "execution_count": null,
      "metadata": {
        "id": "AevIZW2ZFgwH"
      },
      "outputs": [],
      "source": [
        "l[0:3]"
      ]
    },
    {
      "cell_type": "code",
      "execution_count": null,
      "metadata": {
        "id": "zxxoT-hDF9x_"
      },
      "outputs": [],
      "source": [
        "l[-1]"
      ]
    },
    {
      "cell_type": "code",
      "execution_count": null,
      "metadata": {
        "id": "0F-w02TwGF1B"
      },
      "outputs": [],
      "source": [
        "l[::-1]"
      ]
    },
    {
      "cell_type": "code",
      "execution_count": null,
      "metadata": {
        "id": "LfP8ZUNeJ-by"
      },
      "outputs": [],
      "source": [
        "l[::2]"
      ]
    },
    {
      "cell_type": "code",
      "execution_count": null,
      "metadata": {
        "id": "pzGX7HCuKWhm"
      },
      "outputs": [],
      "source": [
        "l"
      ]
    },
    {
      "cell_type": "code",
      "execution_count": null,
      "metadata": {
        "id": "Vl2bAXL7KYIe"
      },
      "outputs": [],
      "source": [
        "s"
      ]
    },
    {
      "cell_type": "code",
      "execution_count": null,
      "metadata": {
        "id": "7Z9MvcdqKaAp"
      },
      "outputs": [],
      "source": [
        "l+s"
      ]
    },
    {
      "cell_type": "code",
      "execution_count": null,
      "metadata": {
        "id": "-OZtRrf2K93F"
      },
      "outputs": [],
      "source": [
        "list(s)+l"
      ]
    },
    {
      "cell_type": "code",
      "execution_count": null,
      "metadata": {
        "id": "XOpS2RFzRu8t"
      },
      "outputs": [],
      "source": [
        "l"
      ]
    },
    {
      "cell_type": "code",
      "execution_count": null,
      "metadata": {
        "id": "USie4CKbZQBX"
      },
      "outputs": [],
      "source": [
        "l[3]"
      ]
    },
    {
      "cell_type": "code",
      "execution_count": null,
      "metadata": {
        "id": "9JBwGYVfZTiI"
      },
      "outputs": [],
      "source": [
        "type(l[3])"
      ]
    },
    {
      "cell_type": "code",
      "execution_count": null,
      "metadata": {
        "id": "ackspX3MZWt2"
      },
      "outputs": [],
      "source": [
        "l[3][0:2]"
      ]
    },
    {
      "cell_type": "code",
      "execution_count": null,
      "metadata": {
        "id": "qTR2U9aZexJy"
      },
      "outputs": [],
      "source": [
        "str(l[4])[0:2]\n"
      ]
    },
    {
      "cell_type": "code",
      "execution_count": null,
      "metadata": {
        "id": "hnnK3Wd3gH-k"
      },
      "outputs": [],
      "source": [
        "str(5)+str(l)"
      ]
    },
    {
      "cell_type": "code",
      "execution_count": null,
      "metadata": {
        "id": "BRqqMuu9yFfR"
      },
      "outputs": [],
      "source": [
        "l1=[3,4,5]"
      ]
    },
    {
      "cell_type": "code",
      "execution_count": null,
      "metadata": {
        "id": "4MnTqu31iig-"
      },
      "outputs": [],
      "source": [
        "l+l1"
      ]
    },
    {
      "cell_type": "code",
      "execution_count": null,
      "metadata": {
        "id": "-XlRbGMHiyUz"
      },
      "outputs": [],
      "source": [
        "l1"
      ]
    },
    {
      "cell_type": "code",
      "execution_count": null,
      "metadata": {
        "id": "WrQgB23hi0Si"
      },
      "outputs": [],
      "source": [
        "l1*3"
      ]
    },
    {
      "cell_type": "code",
      "execution_count": null,
      "metadata": {
        "id": "Ukp5Lodev9eU"
      },
      "outputs": [],
      "source": [
        "len(l)"
      ]
    },
    {
      "cell_type": "code",
      "execution_count": null,
      "metadata": {
        "id": "uornfpV-xoaj"
      },
      "outputs": [],
      "source": [
        "len(l1)"
      ]
    },
    {
      "cell_type": "code",
      "execution_count": null,
      "metadata": {
        "id": "gn64yr4ixrZs"
      },
      "outputs": [],
      "source": [
        "len(l)*len(l1)"
      ]
    },
    {
      "cell_type": "code",
      "execution_count": null,
      "metadata": {
        "id": "ePxsaGmayQ60"
      },
      "outputs": [],
      "source": [
        "(len(l)*len(l1))/len(l)"
      ]
    },
    {
      "cell_type": "code",
      "execution_count": null,
      "metadata": {
        "id": "TxsY90zJykt6"
      },
      "outputs": [],
      "source": [
        "float (len(l)/len(l1))"
      ]
    },
    {
      "cell_type": "code",
      "execution_count": null,
      "metadata": {
        "id": "hYoJfrfTyx8I"
      },
      "outputs": [],
      "source": [
        "len(l[3])"
      ]
    },
    {
      "cell_type": "code",
      "execution_count": null,
      "metadata": {
        "id": "dd3j4xGnzDTV"
      },
      "outputs": [],
      "source": [
        "l.append(5)"
      ]
    },
    {
      "cell_type": "code",
      "execution_count": null,
      "metadata": {
        "id": "xara4Wos3WgQ"
      },
      "outputs": [],
      "source": [
        "l"
      ]
    },
    {
      "cell_type": "code",
      "execution_count": null,
      "metadata": {
        "id": "8Nqpmq5D4DPJ"
      },
      "outputs": [],
      "source": [
        "l.append(s)"
      ]
    },
    {
      "cell_type": "code",
      "execution_count": null,
      "metadata": {
        "id": "-qM68yCj4UL9"
      },
      "outputs": [],
      "source": [
        "l"
      ]
    },
    {
      "cell_type": "code",
      "execution_count": null,
      "metadata": {
        "id": "FvcJT3DH4c2u"
      },
      "outputs": [],
      "source": [
        "l.append(l1)"
      ]
    },
    {
      "cell_type": "code",
      "execution_count": null,
      "metadata": {
        "id": "0nElWA464hEZ"
      },
      "outputs": [],
      "source": [
        "l"
      ]
    },
    {
      "cell_type": "code",
      "execution_count": null,
      "metadata": {
        "id": "885ib8_K4loO"
      },
      "outputs": [],
      "source": [
        "l[9][1:2]"
      ]
    },
    {
      "cell_type": "code",
      "execution_count": null,
      "metadata": {
        "id": "8vvPVyKU5aec"
      },
      "outputs": [],
      "source": [
        "l[-1][1]"
      ]
    },
    {
      "cell_type": "code",
      "execution_count": null,
      "metadata": {
        "id": "1LkBUMbE5iy1"
      },
      "outputs": [],
      "source": [
        "l[-1][1:2]"
      ]
    },
    {
      "cell_type": "code",
      "execution_count": null,
      "metadata": {
        "id": "uggWPeJG7Q_0"
      },
      "outputs": [],
      "source": [
        "l[9][-2]"
      ]
    },
    {
      "cell_type": "code",
      "execution_count": null,
      "metadata": {
        "id": "tHEzaA5q7zS5"
      },
      "outputs": [],
      "source": [
        "l[-1][-2]"
      ]
    },
    {
      "cell_type": "code",
      "execution_count": null,
      "metadata": {
        "id": "iV8FxJRM8r-M"
      },
      "outputs": [],
      "source": [
        "l"
      ]
    },
    {
      "cell_type": "code",
      "execution_count": null,
      "metadata": {
        "id": "M-a80wXQ83Si"
      },
      "outputs": [],
      "source": [
        "l.extend(4)"
      ]
    },
    {
      "cell_type": "code",
      "execution_count": null,
      "metadata": {
        "id": "EvXycZGw9AT7"
      },
      "outputs": [],
      "source": [
        "l.extend('sudh')"
      ]
    },
    {
      "cell_type": "code",
      "execution_count": null,
      "metadata": {
        "id": "JeBrD8S09VTR"
      },
      "outputs": [],
      "source": [
        "l.extend([3,4,5])"
      ]
    },
    {
      "cell_type": "code",
      "execution_count": null,
      "metadata": {
        "id": "YaPGP5L39Z1L"
      },
      "outputs": [],
      "source": [
        "l"
      ]
    },
    {
      "cell_type": "code",
      "execution_count": null,
      "metadata": {
        "colab": {
          "base_uri": "https://localhost:8080/"
        },
        "id": "ffx3S_M79n7g",
        "outputId": "c7edb728-a793-48ae-d205-0c11f9d72ec8"
      },
      "outputs": [],
      "source": [
        "l1"
      ]
    },
    {
      "cell_type": "code",
      "execution_count": null,
      "metadata": {
        "id": "VuMw8tMr9u0u"
      },
      "outputs": [],
      "source": [
        "l1.insert(1,'sudh')"
      ]
    },
    {
      "cell_type": "code",
      "execution_count": null,
      "metadata": {
        "id": "kuN8_aPP9urn"
      },
      "outputs": [],
      "source": [
        "l1"
      ]
    },
    {
      "cell_type": "code",
      "execution_count": null,
      "metadata": {
        "id": "A-HPV6O99uhO"
      },
      "outputs": [],
      "source": [
        "l1.insert(2,[2,3,4])"
      ]
    },
    {
      "cell_type": "code",
      "execution_count": null,
      "metadata": {
        "id": "FZG5WRyiOprw"
      },
      "outputs": [],
      "source": [
        "l1"
      ]
    },
    {
      "cell_type": "code",
      "execution_count": null,
      "metadata": {
        "id": "8vpxO0dTL00j"
      },
      "outputs": [],
      "source": [
        "l1[2].insert(2,s)"
      ]
    },
    {
      "cell_type": "code",
      "execution_count": null,
      "metadata": {
        "id": "djeH60hiPqeu"
      },
      "outputs": [],
      "source": [
        "l1"
      ]
    },
    {
      "cell_type": "code",
      "execution_count": null,
      "metadata": {
        "id": "fBP14Vc5q0dv"
      },
      "outputs": [],
      "source": [
        "l1.pop()"
      ]
    },
    {
      "cell_type": "code",
      "execution_count": null,
      "metadata": {
        "id": "CVSeoy149uWq"
      },
      "outputs": [],
      "source": [
        "l1"
      ]
    },
    {
      "cell_type": "code",
      "execution_count": null,
      "metadata": {
        "id": "Zx3ydf-rEOxh"
      },
      "outputs": [],
      "source": [
        "l"
      ]
    },
    {
      "cell_type": "code",
      "execution_count": null,
      "metadata": {
        "id": "vwCvyER9ERLW"
      },
      "outputs": [],
      "source": [
        "l.pop(3)"
      ]
    },
    {
      "cell_type": "code",
      "execution_count": null,
      "metadata": {
        "id": "SK0XB6l2FeIC"
      },
      "outputs": [],
      "source": [
        "l.remove(3)"
      ]
    },
    {
      "cell_type": "code",
      "execution_count": null,
      "metadata": {
        "id": "I2Ddb-QBFj7-"
      },
      "outputs": [],
      "source": [
        "l"
      ]
    },
    {
      "cell_type": "code",
      "execution_count": null,
      "metadata": {
        "colab": {
          "base_uri": "https://localhost:8080/",
          "height": 141
        },
        "id": "yV__hFSV_2wX",
        "outputId": "8b471af4-2084-4c4b-d9f2-8e2e9482feec"
      },
      "outputs": [],
      "source": [
        "l.remove(234)"
      ]
    },
    {
      "cell_type": "code",
      "execution_count": null,
      "metadata": {
        "id": "pLmRf3MYECdb"
      },
      "outputs": [],
      "source": [
        "l1.insert(2,[2,3,4])"
      ]
    },
    {
      "cell_type": "code",
      "execution_count": null,
      "metadata": {
        "colab": {
          "base_uri": "https://localhost:8080/"
        },
        "id": "_9VJGVigEXVj",
        "outputId": "250c5e25-a39a-4165-eb0b-d0de4d9e362f"
      },
      "outputs": [],
      "source": [
        "l1"
      ]
    },
    {
      "cell_type": "code",
      "execution_count": null,
      "metadata": {
        "id": "9oQrGNngDgne"
      },
      "outputs": [],
      "source": [
        "l1[2].remove(2)"
      ]
    },
    {
      "cell_type": "code",
      "execution_count": null,
      "metadata": {
        "colab": {
          "base_uri": "https://localhost:8080/"
        },
        "id": "Lh1tmREtTG2A",
        "outputId": "67aef967-ad24-4429-e7dc-dbdfa75c4705"
      },
      "outputs": [],
      "source": [
        "l1"
      ]
    },
    {
      "cell_type": "code",
      "execution_count": null,
      "metadata": {
        "id": "Bf8SY_NBR6bR"
      },
      "outputs": [],
      "source": [
        "l1.append(4)"
      ]
    },
    {
      "cell_type": "code",
      "execution_count": null,
      "metadata": {
        "colab": {
          "base_uri": "https://localhost:8080/"
        },
        "id": "kzsctSUEbwLp",
        "outputId": "e4a1a8be-4f9c-44df-990e-1c104f810fdd"
      },
      "outputs": [],
      "source": [
        "l1"
      ]
    },
    {
      "cell_type": "code",
      "execution_count": null,
      "metadata": {
        "id": "gPtc7Er8moTK"
      },
      "outputs": [],
      "source": [
        "l1.remove(4)"
      ]
    },
    {
      "cell_type": "code",
      "execution_count": null,
      "metadata": {
        "colab": {
          "base_uri": "https://localhost:8080/"
        },
        "id": "7y1hBBMTmtUy",
        "outputId": "301c3ce0-10a3-4298-95fd-8c6b4cd882ca"
      },
      "outputs": [],
      "source": [
        "l1"
      ]
    },
    {
      "cell_type": "code",
      "execution_count": null,
      "metadata": {
        "colab": {
          "base_uri": "https://localhost:8080/"
        },
        "id": "-g2c8rBqmyQN",
        "outputId": "cc630968-2602-4b25-ec9d-c3c8e954ef66"
      },
      "outputs": [],
      "source": [
        "l1[::-1]"
      ]
    },
    {
      "cell_type": "code",
      "execution_count": null,
      "metadata": {
        "id": "g92QBtUvm7PD"
      },
      "outputs": [],
      "source": [
        "l1.reverse()"
      ]
    },
    {
      "cell_type": "code",
      "execution_count": null,
      "metadata": {
        "colab": {
          "base_uri": "https://localhost:8080/"
        },
        "id": "i9K6XxdSm_4L",
        "outputId": "41f440f9-c72c-49cf-bc2e-6fd91486c026"
      },
      "outputs": [],
      "source": [
        "l1"
      ]
    },
    {
      "cell_type": "code",
      "execution_count": null,
      "metadata": {
        "id": "cd9z963JnImN"
      },
      "outputs": [],
      "source": [
        "l1=l1[::-1]"
      ]
    },
    {
      "cell_type": "code",
      "execution_count": null,
      "metadata": {
        "colab": {
          "base_uri": "https://localhost:8080/"
        },
        "id": "cDYciq4TnOW_",
        "outputId": "3b7b3395-bf28-4afb-82ae-01049f691867"
      },
      "outputs": [],
      "source": [
        "l1"
      ]
    },
    {
      "cell_type": "code",
      "execution_count": null,
      "metadata": {
        "colab": {
          "base_uri": "https://localhost:8080/",
          "height": 141
        },
        "id": "zYaUM5SxubCH",
        "outputId": "04f175d6-6f15-41ce-a0aa-30c09b0deb96"
      },
      "outputs": [],
      "source": [
        "li.sort()"
      ]
    },
    {
      "cell_type": "code",
      "execution_count": null,
      "metadata": {
        "id": "Xx2iVVg_urJv"
      },
      "outputs": [],
      "source": [
        "l2=[45,23,90,3,4,6,5,9,8,7]"
      ]
    },
    {
      "cell_type": "code",
      "execution_count": null,
      "metadata": {
        "id": "pq0_ZZSsvBUl"
      },
      "outputs": [],
      "source": [
        "l2.sort()"
      ]
    },
    {
      "cell_type": "code",
      "execution_count": null,
      "metadata": {
        "colab": {
          "base_uri": "https://localhost:8080/"
        },
        "id": "zJ3ps8vBvISU",
        "outputId": "f3621b6f-0d44-4981-a95d-01a0f25c4157"
      },
      "outputs": [],
      "source": [
        "l2"
      ]
    },
    {
      "cell_type": "code",
      "execution_count": null,
      "metadata": {
        "id": "r7-Sb1kQvxzc"
      },
      "outputs": [],
      "source": [
        "l3=[34,'sudh',45,12,'kumar']"
      ]
    },
    {
      "cell_type": "code",
      "execution_count": null,
      "metadata": {
        "id": "sxxlSJnOv89J"
      },
      "outputs": [],
      "source": [
        "l4=['sudh','kumar','pwskills','data science']"
      ]
    },
    {
      "cell_type": "code",
      "execution_count": null,
      "metadata": {
        "id": "sFhbrQ_IwATu"
      },
      "outputs": [],
      "source": [
        "l4.sort()"
      ]
    },
    {
      "cell_type": "code",
      "execution_count": null,
      "metadata": {
        "colab": {
          "base_uri": "https://localhost:8080/"
        },
        "id": "korzeYbdwEKF",
        "outputId": "4c9b1252-adc4-4dfa-f687-662be2aae7c1"
      },
      "outputs": [],
      "source": [
        "l4"
      ]
    },
    {
      "cell_type": "code",
      "execution_count": null,
      "metadata": {
        "id": "Yz7Ccm627tRS"
      },
      "outputs": [],
      "source": [
        "l4.sort(reverse=True)"
      ]
    },
    {
      "cell_type": "code",
      "execution_count": null,
      "metadata": {
        "colab": {
          "base_uri": "https://localhost:8080/"
        },
        "id": "KPPQYXjy71LH",
        "outputId": "2c86fa42-68bc-4f5b-9a21-a241a0705d26"
      },
      "outputs": [],
      "source": [
        "l4"
      ]
    },
    {
      "cell_type": "code",
      "execution_count": null,
      "metadata": {
        "colab": {
          "base_uri": "https://localhost:8080/"
        },
        "id": "4QpPcZe-72LP",
        "outputId": "842cac03-aa98-4c60-def4-7c529eff7d5a"
      },
      "outputs": [],
      "source": [
        "l4.index('sudh')"
      ]
    },
    {
      "cell_type": "code",
      "execution_count": null,
      "metadata": {
        "colab": {
          "base_uri": "https://localhost:8080/"
        },
        "id": "djdXUuo78Ek1",
        "outputId": "e405af79-331e-4364-e725-a086a98d069b"
      },
      "outputs": [],
      "source": [
        "l4.count('sudh')"
      ]
    },
    {
      "cell_type": "code",
      "execution_count": null,
      "metadata": {
        "id": "3A39McN88Oem"
      },
      "outputs": [],
      "source": [
        "l5=[3,4,5,6]"
      ]
    },
    {
      "cell_type": "code",
      "execution_count": null,
      "metadata": {
        "id": "QQJ_8wS6JfJM"
      },
      "outputs": [],
      "source": [
        "l5[0]=30"
      ]
    },
    {
      "cell_type": "code",
      "execution_count": null,
      "metadata": {
        "colab": {
          "base_uri": "https://localhost:8080/"
        },
        "id": "kJ_pQvJ6JjkT",
        "outputId": "b27c4af1-6183-4d3a-994e-eaab56d81dd0"
      },
      "outputs": [],
      "source": [
        "l5"
      ]
    },
    {
      "cell_type": "code",
      "execution_count": null,
      "metadata": {
        "colab": {
          "base_uri": "https://localhost:8080/",
          "height": 35
        },
        "id": "v6ZxVBANJl7j",
        "outputId": "2bc557d1-6eba-4585-a79c-cf6385c254bf"
      },
      "outputs": [],
      "source": [
        "s"
      ]
    },
    {
      "cell_type": "code",
      "execution_count": null,
      "metadata": {
        "colab": {
          "base_uri": "https://localhost:8080/",
          "height": 35
        },
        "id": "ZzZBmcJXJp5C",
        "outputId": "103e4793-4d57-45e8-e301-11d53ad7c737"
      },
      "outputs": [],
      "source": [
        "s.replace('s','a')"
      ]
    },
    {
      "cell_type": "code",
      "execution_count": null,
      "metadata": {
        "colab": {
          "base_uri": "https://localhost:8080/",
          "height": 35
        },
        "id": "3BtedxO8J0fu",
        "outputId": "4873e33e-ba74-427b-fe0e-6e7881cf3967"
      },
      "outputs": [],
      "source": [
        "s"
      ]
    },
    {
      "cell_type": "code",
      "execution_count": null,
      "metadata": {
        "id": "yj1Oy5Q5KJyO"
      },
      "outputs": [],
      "source": [
        "t=(2,3,4,5,'sudh',45.56,False,45+457j,[3,4,5])"
      ]
    },
    {
      "cell_type": "code",
      "execution_count": null,
      "metadata": {
        "colab": {
          "base_uri": "https://localhost:8080/"
        },
        "id": "BZa81xN2KcNv",
        "outputId": "ccb7dc08-6c35-4eef-87b2-c0c12057b726"
      },
      "outputs": [],
      "source": [
        "t"
      ]
    },
    {
      "cell_type": "code",
      "execution_count": null,
      "metadata": {
        "colab": {
          "base_uri": "https://localhost:8080/"
        },
        "id": "ONRz2XtKKjfQ",
        "outputId": "04cbf743-7f86-48d8-bff2-8cde4e52f1d2"
      },
      "outputs": [],
      "source": [
        "type(t)"
      ]
    },
    {
      "cell_type": "code",
      "execution_count": null,
      "metadata": {
        "colab": {
          "base_uri": "https://localhost:8080/"
        },
        "id": "fylg_CbnKn4E",
        "outputId": "01698cea-7fef-423d-9c9c-beebf53ed979"
      },
      "outputs": [],
      "source": [
        "len(t)"
      ]
    },
    {
      "cell_type": "code",
      "execution_count": null,
      "metadata": {
        "colab": {
          "base_uri": "https://localhost:8080/"
        },
        "id": "DcsMmXEyKuaa",
        "outputId": "089cd104-97e0-49fc-c6ca-8d294256ca51"
      },
      "outputs": [],
      "source": [
        "t[0]"
      ]
    },
    {
      "cell_type": "code",
      "execution_count": null,
      "metadata": {
        "colab": {
          "base_uri": "https://localhost:8080/"
        },
        "id": "TuR2-826Ky_x",
        "outputId": "a929aac8-fce2-41da-e73f-ce2b987a73a2"
      },
      "outputs": [],
      "source": [
        "t[-1]"
      ]
    },
    {
      "cell_type": "code",
      "execution_count": null,
      "metadata": {
        "colab": {
          "base_uri": "https://localhost:8080/"
        },
        "id": "chKDB9OqK1ab",
        "outputId": "950c2154-0241-48a4-ef87-067503395744"
      },
      "outputs": [],
      "source": [
        "t[::-1]"
      ]
    },
    {
      "cell_type": "code",
      "execution_count": null,
      "metadata": {
        "colab": {
          "base_uri": "https://localhost:8080/"
        },
        "id": "_9mqB-f6LAfG",
        "outputId": "881b670e-c14c-423a-ced1-85cd8f4dd597"
      },
      "outputs": [],
      "source": [
        "l4"
      ]
    },
    {
      "cell_type": "code",
      "execution_count": null,
      "metadata": {
        "id": "CQ5ahDq_LDj_"
      },
      "outputs": [],
      "source": [
        "l4[0]=23424"
      ]
    },
    {
      "cell_type": "code",
      "execution_count": null,
      "metadata": {
        "colab": {
          "base_uri": "https://localhost:8080/"
        },
        "id": "CmyhF4wvLM0D",
        "outputId": "49d77d79-89b7-4a23-f8f4-21bc4aa7476f"
      },
      "outputs": [],
      "source": [
        "l4"
      ]
    },
    {
      "cell_type": "code",
      "execution_count": null,
      "metadata": {
        "colab": {
          "base_uri": "https://localhost:8080/"
        },
        "id": "Y53K7zMeLbc9",
        "outputId": "474cc3da-5c34-40fc-ab9d-3736f7b5089a"
      },
      "outputs": [],
      "source": [
        "t"
      ]
    },
    {
      "cell_type": "code",
      "execution_count": null,
      "metadata": {
        "colab": {
          "base_uri": "https://localhost:8080/",
          "height": 141
        },
        "id": "90KfbT_JLgsE",
        "outputId": "74789ba3-7243-494f-c2c9-bb63071d6005"
      },
      "outputs": [],
      "source": [
        "t[0]=\"sudh\""
      ]
    },
    {
      "cell_type": "code",
      "execution_count": null,
      "metadata": {
        "colab": {
          "base_uri": "https://localhost:8080/"
        },
        "id": "AcGyU6tAP9Js",
        "outputId": "72baa28f-0ccc-4f00-b663-6166436d7582"
      },
      "outputs": [],
      "source": [
        "t[::-1]"
      ]
    },
    {
      "cell_type": "code",
      "execution_count": null,
      "metadata": {
        "colab": {
          "base_uri": "https://localhost:8080/"
        },
        "id": "1-FMmBBrQY7e",
        "outputId": "113b0dd1-e85f-42ee-ce28-fd6c08226d17"
      },
      "outputs": [],
      "source": [
        "t.count(50)"
      ]
    },
    {
      "cell_type": "code",
      "execution_count": null,
      "metadata": {
        "colab": {
          "base_uri": "https://localhost:8080/"
        },
        "id": "tfDmsezDRElJ",
        "outputId": "681bf1ac-847b-4d1c-98e2-4ce8fdd548a0"
      },
      "outputs": [],
      "source": [
        "t.index(False)"
      ]
    },
    {
      "cell_type": "code",
      "execution_count": null,
      "metadata": {
        "id": "PRH0Eg47RtDc"
      },
      "outputs": [],
      "source": [
        "s1={}"
      ]
    },
    {
      "cell_type": "code",
      "execution_count": null,
      "metadata": {
        "colab": {
          "base_uri": "https://localhost:8080/"
        },
        "id": "GcN2IqsIRxy7",
        "outputId": "855c762e-e10a-4340-d720-26746323adf5"
      },
      "outputs": [],
      "source": [
        "type(s1)"
      ]
    },
    {
      "cell_type": "code",
      "execution_count": null,
      "metadata": {
        "id": "xzTBS0KgSVCx"
      },
      "outputs": [],
      "source": [
        "s2={2,3,4,55,6}"
      ]
    },
    {
      "cell_type": "code",
      "execution_count": null,
      "metadata": {
        "colab": {
          "base_uri": "https://localhost:8080/"
        },
        "id": "sYULXAO4SSwp",
        "outputId": "c4b651d5-8f11-4c32-8ec0-a51c6e40855c"
      },
      "outputs": [],
      "source": [
        "type(s2)"
      ]
    },
    {
      "cell_type": "code",
      "execution_count": null,
      "metadata": {
        "id": "l_izTk5XSdmF"
      },
      "outputs": [],
      "source": [
        "s3={324,456,456,'sudh',45+45j,34.456,(2,3,4)}"
      ]
    },
    {
      "cell_type": "code",
      "execution_count": null,
      "metadata": {
        "colab": {
          "base_uri": "https://localhost:8080/"
        },
        "id": "10X7dOH9bymc",
        "outputId": "ea934d85-6eb3-4ff2-d448-7d83a147d8e5"
      },
      "outputs": [],
      "source": [
        "s3"
      ]
    },
    {
      "cell_type": "code",
      "execution_count": null,
      "metadata": {
        "id": "LtTk-q_NdGiW"
      },
      "outputs": [],
      "source": [
        "s4={2,3,4,5,6,2,2,3,4,5,2,3,1,2,3,4,5,6,1,2,2,3,'Sudh','sudh'}"
      ]
    },
    {
      "cell_type": "code",
      "execution_count": null,
      "metadata": {
        "colab": {
          "base_uri": "https://localhost:8080/"
        },
        "id": "abaMg1ZJdPd9",
        "outputId": "b0a383bc-5bb2-4bac-d1b2-067f71f39d0a"
      },
      "outputs": [],
      "source": [
        "s4"
      ]
    },
    {
      "cell_type": "code",
      "execution_count": null,
      "metadata": {
        "id": "agL_ysFA9-Ea"
      },
      "outputs": [],
      "source": [
        "l6=[2,3,4,5,6,2,2,3,4,5,2,3,1,2,3,4,5,6,1,2,2,3,'Sudh','sudh']"
      ]
    },
    {
      "cell_type": "code",
      "execution_count": null,
      "metadata": {
        "id": "m_3ATQMD-WR7"
      },
      "outputs": [],
      "source": [
        "l6=list(set(l6))"
      ]
    },
    {
      "cell_type": "code",
      "execution_count": null,
      "metadata": {
        "colab": {
          "base_uri": "https://localhost:8080/"
        },
        "id": "6xrEzbnp-c1r",
        "outputId": "861b6d36-6774-4529-f6cc-16968a88cd54"
      },
      "outputs": [],
      "source": [
        "l6"
      ]
    },
    {
      "cell_type": "code",
      "execution_count": null,
      "metadata": {
        "id": "XwOZO8Ux_Bwo"
      },
      "outputs": [],
      "source": [
        "s5={234,45,23,12,567,45,2,789,234,'abc',456,342,23}"
      ]
    },
    {
      "cell_type": "code",
      "execution_count": null,
      "metadata": {
        "colab": {
          "base_uri": "https://localhost:8080/"
        },
        "id": "aiXXhhmCAt69",
        "outputId": "264d11ef-df4b-4987-cb09-63e894a07100"
      },
      "outputs": [],
      "source": [
        "s5"
      ]
    },
    {
      "cell_type": "code",
      "execution_count": null,
      "metadata": {
        "colab": {
          "base_uri": "https://localhost:8080/"
        },
        "id": "NpHcSvlCDgom",
        "outputId": "ebce3260-f8db-432e-9ae9-d13fe453347f"
      },
      "outputs": [],
      "source": [
        "s5"
      ]
    },
    {
      "cell_type": "code",
      "execution_count": null,
      "metadata": {
        "colab": {
          "base_uri": "https://localhost:8080/",
          "height": 141
        },
        "id": "Pm-ejH5mGFBX",
        "outputId": "3975df72-a5af-43a9-a96f-673013c4a587"
      },
      "outputs": [],
      "source": [
        "s5[0]"
      ]
    },
    {
      "cell_type": "code",
      "execution_count": null,
      "metadata": {
        "colab": {
          "base_uri": "https://localhost:8080/",
          "height": 141
        },
        "id": "yeDmQML8GHhW",
        "outputId": "8839966a-0a21-47b8-d465-dd627a254097"
      },
      "outputs": [],
      "source": [
        "s5[::-1]"
      ]
    },
    {
      "cell_type": "code",
      "execution_count": null,
      "metadata": {
        "colab": {
          "base_uri": "https://localhost:8080/"
        },
        "id": "Si6vPYgBoS8E",
        "outputId": "3736eb19-9111-482d-fb63-7e86ee858a1a"
      },
      "outputs": [],
      "source": [
        "s5"
      ]
    },
    {
      "cell_type": "code",
      "execution_count": null,
      "metadata": {
        "id": "coVR7qVntRe1"
      },
      "outputs": [],
      "source": [
        "s5.add(4)"
      ]
    },
    {
      "cell_type": "code",
      "execution_count": null,
      "metadata": {
        "colab": {
          "base_uri": "https://localhost:8080/"
        },
        "id": "ge-IbtTGtZh8",
        "outputId": "8ccf24ad-0894-4352-85e2-cc7ca1409500"
      },
      "outputs": [],
      "source": [
        "s5"
      ]
    },
    {
      "cell_type": "code",
      "execution_count": null,
      "metadata": {
        "id": "GEvdXe5ytbTV"
      },
      "outputs": [],
      "source": [
        "s5.remove(2)"
      ]
    },
    {
      "cell_type": "code",
      "execution_count": null,
      "metadata": {
        "colab": {
          "base_uri": "https://localhost:8080/"
        },
        "id": "WjDMusittz8Z",
        "outputId": "ae3fb278-f177-40bb-c959-0f14f99b3fcd"
      },
      "outputs": [],
      "source": [
        "s5"
      ]
    },
    {
      "cell_type": "markdown",
      "metadata": {
        "id": "pJoy0wPKxTdk"
      },
      "source": [
        "# **DAY 3**"
      ]
    },
    {
      "cell_type": "code",
      "execution_count": null,
      "metadata": {
        "id": "674U9TPAxXzO"
      },
      "outputs": [],
      "source": [
        "d={}"
      ]
    },
    {
      "cell_type": "code",
      "execution_count": null,
      "metadata": {
        "colab": {
          "base_uri": "https://localhost:8080/"
        },
        "id": "h4JP873OzlsL",
        "outputId": "d87efd97-4d35-4142-ad21-3fbdf5320f78"
      },
      "outputs": [],
      "source": [
        "type(d)"
      ]
    },
    {
      "cell_type": "code",
      "execution_count": null,
      "metadata": {
        "id": "gxofyV4Bzw2W"
      },
      "outputs": [],
      "source": [
        "d1={'key':'sudh'}"
      ]
    },
    {
      "cell_type": "code",
      "execution_count": null,
      "metadata": {
        "colab": {
          "base_uri": "https://localhost:8080/"
        },
        "id": "PJziMnVEz3YY",
        "outputId": "9766a982-a47d-4062-d008-565c643a8767"
      },
      "outputs": [],
      "source": [
        "d1"
      ]
    },
    {
      "cell_type": "code",
      "execution_count": null,
      "metadata": {
        "colab": {
          "base_uri": "https://localhost:8080/"
        },
        "id": "bT4nFsDVz9-8",
        "outputId": "ee6650f8-4e5e-4593-9181-f6c2559c9d7f"
      },
      "outputs": [],
      "source": [
        "d1"
      ]
    },
    {
      "cell_type": "code",
      "execution_count": null,
      "metadata": {
        "id": "JdPqT1_mdTsM"
      },
      "outputs": [],
      "source": [
        "d2={'name':'sudhanshu','email':'ss@gmail.com','number':334534}"
      ]
    },
    {
      "cell_type": "code",
      "execution_count": null,
      "metadata": {
        "colab": {
          "base_uri": "https://localhost:8080/"
        },
        "id": "SRuhTZOLerkD",
        "outputId": "fcca80f6-4983-4c0e-b08e-05ec06370c36"
      },
      "outputs": [],
      "source": [
        "d2"
      ]
    },
    {
      "cell_type": "code",
      "execution_count": null,
      "metadata": {
        "id": "aRyCY-zDevxP"
      },
      "outputs": [],
      "source": [
        "d3={234:'sudh', '_wer' : 'kumar', True: 24234}"
      ]
    },
    {
      "cell_type": "code",
      "execution_count": null,
      "metadata": {
        "colab": {
          "base_uri": "https://localhost:8080/"
        },
        "id": "rJRq7dv_e6TA",
        "outputId": "2ca1ea1a-f8ef-4c2d-9b71-844bf620b22a"
      },
      "outputs": [],
      "source": [
        "d3"
      ]
    },
    {
      "cell_type": "code",
      "execution_count": null,
      "metadata": {
        "colab": {
          "base_uri": "https://localhost:8080/",
          "height": 37
        },
        "id": "VAHhQ145L9W2",
        "outputId": "91a8d49c-fe66-4551-980f-d917a661de48"
      },
      "outputs": [],
      "source": [
        "d3[234]"
      ]
    },
    {
      "cell_type": "code",
      "execution_count": null,
      "metadata": {
        "colab": {
          "base_uri": "https://localhost:8080/"
        },
        "id": "7wpSkDDFMdDa",
        "outputId": "61b32d41-caa6-4fe7-acae-95392f8e9d98"
      },
      "outputs": [],
      "source": [
        "d3[1]"
      ]
    },
    {
      "cell_type": "code",
      "execution_count": null,
      "metadata": {
        "id": "T0VHlmNFMz-j"
      },
      "outputs": [],
      "source": [
        "d4={'name':'sudh','mail_id':'ss@gmail.com','name':'sudhanshu'}"
      ]
    },
    {
      "cell_type": "code",
      "execution_count": null,
      "metadata": {
        "colab": {
          "base_uri": "https://localhost:8080/",
          "height": 37
        },
        "id": "QWiZXaCrNU3N",
        "outputId": "52816bea-6108-4de6-93c4-1a195ae83084"
      },
      "outputs": [],
      "source": [
        "d4['name']"
      ]
    },
    {
      "cell_type": "code",
      "execution_count": null,
      "metadata": {
        "id": "hCOVupQtNpM8"
      },
      "outputs": [],
      "source": [
        "d5={'company':'pwskills','course':['web dev','data science','java with dsa system design']}"
      ]
    },
    {
      "cell_type": "code",
      "execution_count": null,
      "metadata": {
        "colab": {
          "base_uri": "https://localhost:8080/"
        },
        "id": "NHEq2LBFOUAB",
        "outputId": "933b018c-339a-4fd2-f6f3-4c3859af2cb1"
      },
      "outputs": [],
      "source": [
        "d5"
      ]
    },
    {
      "cell_type": "code",
      "execution_count": null,
      "metadata": {
        "colab": {
          "base_uri": "https://localhost:8080/"
        },
        "id": "fSGaM4maOaLQ",
        "outputId": "5a5016bf-e576-4e30-bedd-3f20f4f024e4"
      },
      "outputs": [],
      "source": [
        "d5['course']"
      ]
    },
    {
      "cell_type": "code",
      "execution_count": null,
      "metadata": {
        "id": "-MKYIPbfPkSd"
      },
      "outputs": [],
      "source": [
        "d6= {'number': [2,34,3,34,34], 'assignment' : (1,2,3,4,5,6), 'launch_date': {28,12,14},'class_time':{'web_dev':8,'Data science masters':8,'java with dsa and system design':7}}"
      ]
    },
    {
      "cell_type": "code",
      "execution_count": null,
      "metadata": {
        "colab": {
          "base_uri": "https://localhost:8080/"
        },
        "id": "SSNflUrSQ9sT",
        "outputId": "7317e527-6191-430c-a39d-56fdc77764d4"
      },
      "outputs": [],
      "source": [
        "d6"
      ]
    },
    {
      "cell_type": "code",
      "execution_count": null,
      "metadata": {
        "colab": {
          "base_uri": "https://localhost:8080/"
        },
        "id": "S2CKIx9jSo5T",
        "outputId": "6f9cd380-d013-467e-c820-bcd8d1ccdc43"
      },
      "outputs": [],
      "source": [
        "d6['class_time']['java with dsa and system design']"
      ]
    },
    {
      "cell_type": "code",
      "execution_count": null,
      "metadata": {
        "id": "TQEMVLhq4lZ_"
      },
      "outputs": [],
      "source": [
        "d6['mentor']=['sudhanshu','krish','anurag','hayder']"
      ]
    },
    {
      "cell_type": "code",
      "execution_count": null,
      "metadata": {
        "colab": {
          "base_uri": "https://localhost:8080/"
        },
        "id": "79DEeCet5ADb",
        "outputId": "14b70569-b6a7-40c3-daff-535c918a9aef"
      },
      "outputs": [],
      "source": [
        "d6"
      ]
    },
    {
      "cell_type": "code",
      "execution_count": null,
      "metadata": {
        "id": "F7NA-g3Y5CM9"
      },
      "outputs": [],
      "source": [
        "d6['mentor']=['Ferdous','sudhanshu','krish','anurag','hayder']"
      ]
    },
    {
      "cell_type": "code",
      "execution_count": null,
      "metadata": {
        "colab": {
          "base_uri": "https://localhost:8080/"
        },
        "id": "OP5sZ2RJ5QHf",
        "outputId": "6028c601-4e7b-4fd5-8159-c323c73a3491"
      },
      "outputs": [],
      "source": [
        "d6"
      ]
    },
    {
      "cell_type": "code",
      "execution_count": null,
      "metadata": {
        "id": "-bIZjDB_5Ur4"
      },
      "outputs": [],
      "source": [
        "del d6['number']"
      ]
    },
    {
      "cell_type": "code",
      "execution_count": null,
      "metadata": {
        "colab": {
          "base_uri": "https://localhost:8080/"
        },
        "id": "UNPKqVq-5a0v",
        "outputId": "c8882084-4d0b-4f9a-8c77-58e28d8cf8e7"
      },
      "outputs": [],
      "source": [
        "d6"
      ]
    },
    {
      "cell_type": "code",
      "execution_count": null,
      "metadata": {
        "colab": {
          "base_uri": "https://localhost:8080/"
        },
        "id": "OUvz9kYv7mHE",
        "outputId": "7d06d7c1-e6ec-410f-b58b-eba0088deea6"
      },
      "outputs": [],
      "source": [
        "d6.keys()"
      ]
    },
    {
      "cell_type": "code",
      "execution_count": null,
      "metadata": {
        "colab": {
          "base_uri": "https://localhost:8080/"
        },
        "id": "RK6XKFJC5cvY",
        "outputId": "ec8d11dd-8626-472a-e7d1-3d9ecdb6f2e1"
      },
      "outputs": [],
      "source": [
        "list(d6.keys())"
      ]
    },
    {
      "cell_type": "code",
      "execution_count": null,
      "metadata": {
        "colab": {
          "base_uri": "https://localhost:8080/"
        },
        "id": "oGl11kyk7Y-p",
        "outputId": "eda65b8c-c315-4d36-d105-fd81ce5a3edc"
      },
      "outputs": [],
      "source": [
        "d6.values()"
      ]
    },
    {
      "cell_type": "code",
      "execution_count": null,
      "metadata": {
        "colab": {
          "base_uri": "https://localhost:8080/"
        },
        "id": "iBUoTyJc7cxx",
        "outputId": "953c81f3-7b73-4f79-8ab1-04f0455f7960"
      },
      "outputs": [],
      "source": [
        "list(d6.values())"
      ]
    },
    {
      "cell_type": "code",
      "execution_count": null,
      "metadata": {
        "colab": {
          "base_uri": "https://localhost:8080/"
        },
        "id": "OXJyThlH7087",
        "outputId": "a547bf9a-2bc3-44f3-cf29-2a9b5d77381f"
      },
      "outputs": [],
      "source": [
        "d6.items()"
      ]
    },
    {
      "cell_type": "code",
      "execution_count": null,
      "metadata": {
        "colab": {
          "base_uri": "https://localhost:8080/"
        },
        "id": "wwPTHIeR73bN",
        "outputId": "d96d0478-9493-4a84-91a5-2486c91cf19f"
      },
      "outputs": [],
      "source": [
        "list(d6.items())"
      ]
    },
    {
      "cell_type": "code",
      "execution_count": null,
      "metadata": {
        "colab": {
          "base_uri": "https://localhost:8080/"
        },
        "id": "NPdEGZoVTqG_",
        "outputId": "e8ce2808-a635-4dc3-c92f-631d9732521c"
      },
      "outputs": [],
      "source": [
        "d6.pop('assignment')"
      ]
    },
    {
      "cell_type": "code",
      "execution_count": null,
      "metadata": {
        "colab": {
          "base_uri": "https://localhost:8080/"
        },
        "id": "Ur71x8RYUUYj",
        "outputId": "4f97451f-2e4d-4c36-aed0-17ca28fdf6e5"
      },
      "outputs": [],
      "source": [
        "d6"
      ]
    },
    {
      "cell_type": "code",
      "execution_count": null,
      "metadata": {
        "colab": {
          "base_uri": "https://localhost:8080/"
        },
        "id": "GmwngT_WUWrc",
        "outputId": "9a9f2c51-21c5-43b8-b3eb-933fc09b6d84"
      },
      "outputs": [],
      "source": [
        "marks = int(input(\"enter your marks\"))\n",
        "\n",
        "if marks >= 80 :\n",
        "    print(\"you will be a part of A0 batch\")\n",
        "elif marks >= 60 and marks< 80 :\n",
        "    print(\"you will be a part of A1 batch\")\n",
        "elif marks >= 40 and marks< 60 :\n",
        "    print(\"you will be a part of A2 batch\")\n",
        "else :\n",
        "    print(\"you will be a part of A3 batch\")"
      ]
    },
    {
      "cell_type": "code",
      "execution_count": null,
      "metadata": {
        "colab": {
          "base_uri": "https://localhost:8080/"
        },
        "id": "BWfx5O9WN-Ck",
        "outputId": "7b0134e2-5772-493b-a9c9-1f7dd6e0e40b"
      },
      "outputs": [],
      "source": [
        "type(marks)"
      ]
    },
    {
      "cell_type": "code",
      "execution_count": null,
      "metadata": {
        "colab": {
          "base_uri": "https://localhost:8080/"
        },
        "id": "zzbl2u5iOpEV",
        "outputId": "61390e5c-6762-4584-d2a5-5eb05924c7a9"
      },
      "outputs": [],
      "source": [
        "type(marks)"
      ]
    },
    {
      "cell_type": "code",
      "execution_count": null,
      "metadata": {
        "colab": {
          "base_uri": "https://localhost:8080/"
        },
        "id": "tmFBSU5tOxUr",
        "outputId": "5c25d9f2-0fc8-46bc-fdf0-a6ea20696b74"
      },
      "outputs": [],
      "source": [
        "price=int(input(\"ente price: \"))\n",
        "\n",
        "if price >1000:\n",
        "  print(\"i will not purchase: \")\n",
        "else:\n",
        "  print(\"i will purchase\")"
      ]
    },
    {
      "cell_type": "code",
      "execution_count": null,
      "metadata": {
        "colab": {
          "base_uri": "https://localhost:8080/"
        },
        "id": "Sx2oJ8hxQL4n",
        "outputId": "1dc34468-08ef-451d-e487-d182e712fa5a"
      },
      "outputs": [],
      "source": [
        "price=int(input('enter price: '))\n",
        "\n",
        "if price>1000:\n",
        "  print('i will not purchase')\n",
        "  if price>5000:\n",
        "    print('this is too muche')\n",
        "elif price < 2000:\n",
        "    print('its ok')"
      ]
    },
    {
      "cell_type": "code",
      "execution_count": null,
      "metadata": {
        "id": "nS1CphEFUiKl"
      },
      "outputs": [],
      "source": [
        "l=[1,2,3,3,4,5,6,7,8]"
      ]
    },
    {
      "cell_type": "code",
      "execution_count": null,
      "metadata": {
        "colab": {
          "base_uri": "https://localhost:8080/"
        },
        "id": "aON-58pqUo26",
        "outputId": "5a4edca8-652d-4209-e265-4b050c8b3ae4"
      },
      "outputs": [],
      "source": [
        "for i in l:\n",
        "  print(i)"
      ]
    },
    {
      "cell_type": "code",
      "execution_count": null,
      "metadata": {
        "colab": {
          "base_uri": "https://localhost:8080/"
        },
        "id": "sNDwKKrv7EZR",
        "outputId": "30187d0e-d347-4106-e611-fe2bb4e97bf8"
      },
      "outputs": [],
      "source": [
        "l1=[]\n",
        "for i in l:\n",
        "  i=i+1\n",
        "  print(i)\n",
        "  l1.append(i+1)\n",
        "l1"
      ]
    },
    {
      "cell_type": "code",
      "execution_count": null,
      "metadata": {
        "id": "tra1npmhF02Q"
      },
      "outputs": [],
      "source": [
        "l=[\"sudh\",\"kumar\",\"pwskills\",\"course\"]"
      ]
    },
    {
      "cell_type": "code",
      "execution_count": null,
      "metadata": {
        "colab": {
          "base_uri": "https://localhost:8080/"
        },
        "id": "_eBzwFCDF384",
        "outputId": "b0c2720b-fec0-4a90-d3af-1fe8a77c67d7"
      },
      "outputs": [],
      "source": [
        "l1=[]\n",
        "for i in l:\n",
        "  #print(i)\n",
        "  l1.append(i.upper())\n",
        "l1"
      ]
    },
    {
      "cell_type": "code",
      "execution_count": null,
      "metadata": {
        "colab": {
          "base_uri": "https://localhost:8080/"
        },
        "id": "Jw-mDNkqGaAv",
        "outputId": "ea5d4078-0fb1-4c79-a804-0485a2350f4a"
      },
      "outputs": [],
      "source": [
        "l1"
      ]
    },
    {
      "cell_type": "code",
      "execution_count": null,
      "metadata": {
        "id": "n9t0zAfSGvCa"
      },
      "outputs": [],
      "source": [
        "l=[1,2,3,4,4,'sudh','kumar',324,324.456,'abc']"
      ]
    },
    {
      "cell_type": "code",
      "execution_count": null,
      "metadata": {
        "colab": {
          "base_uri": "https://localhost:8080/"
        },
        "id": "XZuTdZ0JG_cz",
        "outputId": "ed7afd96-f5c5-4cc7-a7c4-c61af8fa8d5d"
      },
      "outputs": [],
      "source": [
        "l"
      ]
    },
    {
      "cell_type": "code",
      "execution_count": null,
      "metadata": {
        "colab": {
          "base_uri": "https://localhost:8080/"
        },
        "id": "LG3ot5zZm3fY",
        "outputId": "9f1c4c7b-4e98-42a8-9549-a089c9d15c49"
      },
      "outputs": [],
      "source": [
        "l1=[]\n",
        "l2=[]\n",
        "for i in l:\n",
        "  if type(i)==str:\n",
        "    l1.append(i)\n",
        "  elif type(i)== int or type(i)== float:\n",
        "    l2.append(i)\n",
        "\n",
        "print(l1)\n",
        "print(l2)"
      ]
    },
    {
      "cell_type": "code",
      "execution_count": null,
      "metadata": {
        "colab": {
          "base_uri": "https://localhost:8080/"
        },
        "id": "rw9C7bkfBU6J",
        "outputId": "2808e45f-9302-4c8f-c5eb-6dc14bb5896a"
      },
      "outputs": [],
      "source": [
        "for i in range(5):\n",
        "\n",
        "  if i == 2:\n",
        "    continue\n",
        "  print(i)"
      ]
    },
    {
      "cell_type": "markdown",
      "metadata": {
        "id": "bjPbPOr0FIwx"
      },
      "source": [
        "# **DAY 4**"
      ]
    },
    {
      "cell_type": "code",
      "execution_count": null,
      "metadata": {
        "colab": {
          "base_uri": "https://localhost:8080/"
        },
        "id": "nxh5kw0-FRWE",
        "outputId": "00e3061a-f660-4674-9dd5-72f1b5cfe5de"
      },
      "outputs": [],
      "source": [
        "a=print('this is my print ')"
      ]
    },
    {
      "cell_type": "code",
      "execution_count": null,
      "metadata": {
        "id": "PARvDB25sqIN"
      },
      "outputs": [],
      "source": [
        "def test():\n",
        "  pass"
      ]
    },
    {
      "cell_type": "code",
      "execution_count": null,
      "metadata": {
        "id": "PPoXua7BtMAC"
      },
      "outputs": [],
      "source": [
        "def test1():\n",
        "  print(\"this is my very first functionMI\")"
      ]
    },
    {
      "cell_type": "code",
      "execution_count": null,
      "metadata": {
        "colab": {
          "base_uri": "https://localhost:8080/"
        },
        "id": "PO1yWDa8tYQA",
        "outputId": "e90e4f6b-e424-4268-8312-883e879780c1"
      },
      "outputs": [],
      "source": [
        "test1()"
      ]
    },
    {
      "cell_type": "code",
      "execution_count": null,
      "metadata": {
        "colab": {
          "base_uri": "https://localhost:8080/",
          "height": 158
        },
        "id": "6ndN4IlQtdTW",
        "outputId": "46dd3c89-0fe5-4c35-c8c7-df1790f2035d"
      },
      "outputs": [],
      "source": [
        "test1() + \"sudh\""
      ]
    },
    {
      "cell_type": "code",
      "execution_count": null,
      "metadata": {
        "id": "1JYNx3cpuBGp"
      },
      "outputs": [],
      "source": [
        "def test2():\n",
        "  return \"this is my very first return\""
      ]
    },
    {
      "cell_type": "code",
      "execution_count": null,
      "metadata": {
        "colab": {
          "base_uri": "https://localhost:8080/",
          "height": 37
        },
        "id": "nZ6MufHEuClr",
        "outputId": "3aae0606-d42a-4544-fd24-8b6cc4a1f238"
      },
      "outputs": [],
      "source": [
        "test2()"
      ]
    },
    {
      "cell_type": "code",
      "execution_count": null,
      "metadata": {
        "colab": {
          "base_uri": "https://localhost:8080/",
          "height": 37
        },
        "id": "H1DdYGRYuKI_",
        "outputId": "63dc9243-274e-4efb-fec7-db50235d6821"
      },
      "outputs": [],
      "source": [
        "test2()+\" sudh\""
      ]
    },
    {
      "cell_type": "code",
      "execution_count": null,
      "metadata": {
        "id": "4RQNBaWwuSR5"
      },
      "outputs": [],
      "source": [
        "def test3():\n",
        "  return \"sudh\",23,345.56,[1,2,3,3]"
      ]
    },
    {
      "cell_type": "code",
      "execution_count": null,
      "metadata": {
        "colab": {
          "base_uri": "https://localhost:8080/"
        },
        "id": "pz72AUTKujvD",
        "outputId": "4c3b934f-bed5-46de-b39a-a17a41011662"
      },
      "outputs": [],
      "source": [
        "test3()"
      ]
    },
    {
      "cell_type": "code",
      "execution_count": null,
      "metadata": {
        "id": "IkLchBiDunin"
      },
      "outputs": [],
      "source": [
        "a,b,c,d=test3()"
      ]
    },
    {
      "cell_type": "code",
      "execution_count": null,
      "metadata": {
        "colab": {
          "base_uri": "https://localhost:8080/",
          "height": 37
        },
        "id": "pc2uCS6butTw",
        "outputId": "de5cbd35-eafd-4fb1-cb59-40cd3eb3bd0c"
      },
      "outputs": [],
      "source": [
        "a"
      ]
    },
    {
      "cell_type": "code",
      "execution_count": null,
      "metadata": {
        "colab": {
          "base_uri": "https://localhost:8080/"
        },
        "id": "iMtojJLeuuvB",
        "outputId": "eb2beef2-6d95-468f-aa1d-9412a6634892"
      },
      "outputs": [],
      "source": [
        "b"
      ]
    },
    {
      "cell_type": "code",
      "execution_count": null,
      "metadata": {
        "colab": {
          "base_uri": "https://localhost:8080/"
        },
        "id": "E1w7fPpMuwAE",
        "outputId": "ee03beb1-ccf4-4ded-e00e-e8fe22121cbf"
      },
      "outputs": [],
      "source": [
        "c"
      ]
    },
    {
      "cell_type": "code",
      "execution_count": null,
      "metadata": {
        "colab": {
          "base_uri": "https://localhost:8080/"
        },
        "id": "ba7rDg6quxUs",
        "outputId": "2338984b-5ce2-4eb2-c56e-8db09e805b72"
      },
      "outputs": [],
      "source": [
        "d"
      ]
    },
    {
      "cell_type": "code",
      "execution_count": null,
      "metadata": {
        "colab": {
          "base_uri": "https://localhost:8080/"
        },
        "id": "UTh-cg_tu0jM",
        "outputId": "26e42ef5-7f2e-48e1-f737-f98cb87345fd"
      },
      "outputs": [],
      "source": [
        "d[2]"
      ]
    },
    {
      "cell_type": "code",
      "execution_count": null,
      "metadata": {
        "colab": {
          "base_uri": "https://localhost:8080/"
        },
        "id": "Dq-9bNPJu3-u",
        "outputId": "dd30b418-8b6a-4020-97ba-f52c42410b84"
      },
      "outputs": [],
      "source": [
        "d[1:3]"
      ]
    },
    {
      "cell_type": "code",
      "execution_count": null,
      "metadata": {
        "colab": {
          "base_uri": "https://localhost:8080/"
        },
        "id": "AGcY5R0uyFYe",
        "outputId": "50b9abed-06eb-42d3-bab0-7ad0eae51041"
      },
      "outputs": [],
      "source": [
        "d[0::2]"
      ]
    },
    {
      "cell_type": "code",
      "execution_count": null,
      "metadata": {
        "colab": {
          "base_uri": "https://localhost:8080/"
        },
        "id": "Nw5l2omKyLzN",
        "outputId": "a3a1ef60-7d3b-4d9e-a0f2-8b3dda419182"
      },
      "outputs": [],
      "source": [
        "d[-1::-2]"
      ]
    },
    {
      "cell_type": "code",
      "execution_count": null,
      "metadata": {
        "id": "9Vmu-4PTycqi"
      },
      "outputs": [],
      "source": [
        "a,b=1,4 #mapping of multiple variable to multiple values seperated by comma using assignment operator"
      ]
    },
    {
      "cell_type": "code",
      "execution_count": null,
      "metadata": {
        "colab": {
          "base_uri": "https://localhost:8080/"
        },
        "id": "dlvuT5XGyieT",
        "outputId": "2fad1143-e64a-4346-b09e-71e5060e07e6"
      },
      "outputs": [],
      "source": [
        "a,b"
      ]
    },
    {
      "cell_type": "code",
      "execution_count": null,
      "metadata": {
        "id": "OUEc8wdeyh3H"
      },
      "outputs": [],
      "source": [
        "a=1\n",
        "b=4"
      ]
    },
    {
      "cell_type": "code",
      "execution_count": null,
      "metadata": {
        "colab": {
          "base_uri": "https://localhost:8080/"
        },
        "id": "AtlNlkIXypgW",
        "outputId": "03884951-c882-4bb3-99d9-81354172067d"
      },
      "outputs": [],
      "source": [
        "a,b"
      ]
    },
    {
      "cell_type": "code",
      "execution_count": null,
      "metadata": {
        "id": "0hozrSRMzCNb"
      },
      "outputs": [],
      "source": [
        "def test4():\n",
        "  a=5+6/7\n",
        "  return a"
      ]
    },
    {
      "cell_type": "code",
      "execution_count": null,
      "metadata": {
        "colab": {
          "base_uri": "https://localhost:8080/"
        },
        "id": "uPs1dHmyzaSA",
        "outputId": "daf93e18-4197-4155-88fe-45ada30dfbc6"
      },
      "outputs": [],
      "source": [
        "test4()"
      ]
    },
    {
      "cell_type": "code",
      "execution_count": null,
      "metadata": {
        "id": "Cqz1-UTpzfLn"
      },
      "outputs": [],
      "source": [
        "def test5(a,b,c):\n",
        "  d=a+b/c\n",
        "  return d"
      ]
    },
    {
      "cell_type": "code",
      "execution_count": null,
      "metadata": {
        "colab": {
          "base_uri": "https://localhost:8080/",
          "height": 141
        },
        "id": "XZrcIetZztd6",
        "outputId": "9cd19323-26fa-4c80-b64e-0fbb6c81d3d2"
      },
      "outputs": [],
      "source": [
        "test5()"
      ]
    },
    {
      "cell_type": "code",
      "execution_count": null,
      "metadata": {
        "colab": {
          "base_uri": "https://localhost:8080/"
        },
        "id": "PSsQ8pBhz3W3",
        "outputId": "42d90743-31d5-4327-d213-961bc5b5a940"
      },
      "outputs": [],
      "source": [
        "test5(2,5,8)"
      ]
    },
    {
      "cell_type": "code",
      "execution_count": null,
      "metadata": {
        "id": "D1aPryqBz_45"
      },
      "outputs": [],
      "source": [
        "def test6(a,b):\n",
        "  return a+b"
      ]
    },
    {
      "cell_type": "code",
      "execution_count": null,
      "metadata": {
        "colab": {
          "base_uri": "https://localhost:8080/"
        },
        "id": "gz44wTQ60Geq",
        "outputId": "0f860067-6506-4ec9-a68a-52e98cd8cbda"
      },
      "outputs": [],
      "source": [
        "test6(3,4)"
      ]
    },
    {
      "cell_type": "code",
      "execution_count": null,
      "metadata": {
        "colab": {
          "base_uri": "https://localhost:8080/",
          "height": 37
        },
        "id": "wS1jrVEb0KIC",
        "outputId": "3887fbb2-a441-4544-b69a-7128e65ef9c6"
      },
      "outputs": [],
      "source": [
        "test6('sudh','kumar')"
      ]
    },
    {
      "cell_type": "code",
      "execution_count": null,
      "metadata": {
        "colab": {
          "base_uri": "https://localhost:8080/"
        },
        "id": "fnN45lfT0QbS",
        "outputId": "798ad431-d065-430f-952f-2424fa588bd9"
      },
      "outputs": [],
      "source": [
        "test6([1,2,3,4,5],[4,5,6])"
      ]
    },
    {
      "cell_type": "code",
      "execution_count": null,
      "metadata": {
        "id": "LX7rltQX0hff"
      },
      "outputs": [],
      "source": [
        "l= [1,2,3,4,'sudh','kumar',[1,2,3,5,6],1111]"
      ]
    },
    {
      "cell_type": "code",
      "execution_count": null,
      "metadata": {
        "id": "8aW4AfzzGg3S"
      },
      "outputs": [],
      "source": [
        "def test7(l):\n",
        "  '''This is function to extract data from list'''\n",
        "  l1=[]\n",
        "  l2=[]\n",
        "  for i in l:\n",
        "    if type(i)== int or type(i)== float:\n",
        "        l1.append(i)\n",
        "    if type(i)== list or type(i)== tuple or type(i)== set:\n",
        "        for j in i:\n",
        "          if type(j)== int or type(j)==float:\n",
        "            l1.append(j)\n",
        "          else:\n",
        "            if type(j)== str:\n",
        "              l2.append(j)\n",
        "    else:\n",
        "      if type(i)==str:\n",
        "        l2.append(i)\n",
        "  return l1, l2"
      ]
    },
    {
      "cell_type": "code",
      "execution_count": null,
      "metadata": {
        "colab": {
          "base_uri": "https://localhost:8080/"
        },
        "id": "_QqX-XoSJGQG",
        "outputId": "08f0f6cd-b2fb-4102-d202-5dd21b491a02"
      },
      "outputs": [],
      "source": [
        "test7(l)"
      ]
    },
    {
      "cell_type": "code",
      "execution_count": null,
      "metadata": {
        "id": "zS3XkqijM5aA"
      },
      "outputs": [],
      "source": [
        "k=[1,2,4,5,'shubh',[9,8,7],[a,b,c],(6,11),('w','x'),{32,26},{'three','six'}]"
      ]
    },
    {
      "cell_type": "code",
      "execution_count": null,
      "metadata": {
        "colab": {
          "base_uri": "https://localhost:8080/"
        },
        "id": "43FG3GoRO2pL",
        "outputId": "d89fb2c1-1786-45ca-9e95-bb0ce850fbdc"
      },
      "outputs": [],
      "source": [
        "test7(k)"
      ]
    },
    {
      "cell_type": "code",
      "execution_count": null,
      "metadata": {
        "id": "bl0RaK_wV4I3"
      },
      "outputs": [],
      "source": [
        "def test10(a,b):\n",
        "  return a+b"
      ]
    },
    {
      "cell_type": "code",
      "execution_count": null,
      "metadata": {
        "id": "2z9rPNemWvy8"
      },
      "outputs": [],
      "source": [
        "def test11(*args):\n",
        "  return args"
      ]
    },
    {
      "cell_type": "code",
      "execution_count": null,
      "metadata": {
        "colab": {
          "base_uri": "https://localhost:8080/"
        },
        "id": "EV6ItSSgW4_1",
        "outputId": "d95ca8b7-48e2-4bcb-c961-c160bc67951b"
      },
      "outputs": [],
      "source": [
        "test11()"
      ]
    },
    {
      "cell_type": "code",
      "execution_count": null,
      "metadata": {
        "colab": {
          "base_uri": "https://localhost:8080/"
        },
        "id": "LkufRza9W-Dx",
        "outputId": "fc4d35f8-9d66-4c25-97bc-82f2fedfeaad"
      },
      "outputs": [],
      "source": [
        "type(test11())"
      ]
    },
    {
      "cell_type": "code",
      "execution_count": null,
      "metadata": {
        "colab": {
          "base_uri": "https://localhost:8080/"
        },
        "id": "JBg7qaoyXGe6",
        "outputId": "59d4bfb1-01ce-4cb7-e547-a932846d9b9a"
      },
      "outputs": [],
      "source": [
        "test11(1,2,3)"
      ]
    },
    {
      "cell_type": "code",
      "execution_count": null,
      "metadata": {
        "colab": {
          "base_uri": "https://localhost:8080/"
        },
        "id": "8k6TWANBXKCS",
        "outputId": "9e7f5497-6c80-48e4-cf52-97f25db6b147"
      },
      "outputs": [],
      "source": [
        "test11(1,2,3,'sudh','kumar',[1,2,3,4,4])"
      ]
    },
    {
      "cell_type": "code",
      "execution_count": null,
      "metadata": {
        "id": "y1fotiytXcrj"
      },
      "outputs": [],
      "source": [
        "def test12(*sudh):\n",
        "  return sudh"
      ]
    },
    {
      "cell_type": "code",
      "execution_count": null,
      "metadata": {
        "colab": {
          "base_uri": "https://localhost:8080/"
        },
        "id": "GUEHkxCNXlVn",
        "outputId": "c0ddb850-9821-4c7f-ff43-041a90ad0c04"
      },
      "outputs": [],
      "source": [
        "test12(1,2,34,4)"
      ]
    },
    {
      "cell_type": "code",
      "execution_count": null,
      "metadata": {
        "id": "kbBNHAc5XtpP"
      },
      "outputs": [],
      "source": [
        "def test13(*args,a):\n",
        "  return args,a"
      ]
    },
    {
      "cell_type": "code",
      "execution_count": null,
      "metadata": {
        "colab": {
          "base_uri": "https://localhost:8080/",
          "height": 141
        },
        "id": "fo895UIzX0rM",
        "outputId": "aab0ec8e-246e-49a0-e33f-2bad199dd76c"
      },
      "outputs": [],
      "source": [
        "test13(1,2,3,4)"
      ]
    },
    {
      "cell_type": "code",
      "execution_count": null,
      "metadata": {
        "colab": {
          "base_uri": "https://localhost:8080/"
        },
        "id": "PXj5EkBWX6FB",
        "outputId": "505aa046-7a5a-4a48-fa1b-2dc938ab32fd"
      },
      "outputs": [],
      "source": [
        "test13(1,2,3,4,a=23)"
      ]
    },
    {
      "cell_type": "code",
      "execution_count": null,
      "metadata": {
        "id": "9Iho1VKCYAuu"
      },
      "outputs": [],
      "source": [
        "def test14(c,d,a=23,b=1):\n",
        "  return a,b,c,d"
      ]
    },
    {
      "cell_type": "code",
      "execution_count": null,
      "metadata": {
        "colab": {
          "base_uri": "https://localhost:8080/",
          "height": 141
        },
        "id": "IrGnduseYjtY",
        "outputId": "df2086e2-cd0d-45fa-eeff-900b2a81cdf9"
      },
      "outputs": [],
      "source": [
        "test14()"
      ]
    },
    {
      "cell_type": "code",
      "execution_count": null,
      "metadata": {
        "colab": {
          "base_uri": "https://localhost:8080/"
        },
        "id": "vjlo08IPYpuu",
        "outputId": "370703fe-0b39-4011-d4f2-db9a63f1196c"
      },
      "outputs": [],
      "source": [
        "test14(3,4)"
      ]
    },
    {
      "cell_type": "code",
      "execution_count": null,
      "metadata": {
        "colab": {
          "base_uri": "https://localhost:8080/"
        },
        "id": "zV5bBh4fYs6R",
        "outputId": "96d61f79-7a4c-4177-e117-07cb430d5160"
      },
      "outputs": [],
      "source": [
        "test14(2,5,a=2342)"
      ]
    },
    {
      "cell_type": "code",
      "execution_count": null,
      "metadata": {
        "id": "g335AbS5ZF_l"
      },
      "outputs": [],
      "source": [
        "def test15(**kwargs):\n",
        "  return kwargs"
      ]
    },
    {
      "cell_type": "code",
      "execution_count": null,
      "metadata": {
        "colab": {
          "base_uri": "https://localhost:8080/"
        },
        "id": "kC1BRZ-2ZO2U",
        "outputId": "b2a4f4a9-5677-4844-f0bf-3554255569a3"
      },
      "outputs": [],
      "source": [
        "test15()"
      ]
    },
    {
      "cell_type": "code",
      "execution_count": null,
      "metadata": {
        "colab": {
          "base_uri": "https://localhost:8080/"
        },
        "id": "Mgg3f-IAZTI5",
        "outputId": "4c7b9ffc-4290-43c6-d9ac-921d8b626a9f"
      },
      "outputs": [],
      "source": [
        "type(test15())"
      ]
    },
    {
      "cell_type": "code",
      "execution_count": null,
      "metadata": {
        "colab": {
          "base_uri": "https://localhost:8080/"
        },
        "id": "n7opUuolZYWm",
        "outputId": "a194f59e-395d-4a74-8945-64533c6d6f0b"
      },
      "outputs": [],
      "source": [
        "test15(a=[1,2,3,4],b='sudh',c=23.45)"
      ]
    },
    {
      "cell_type": "markdown",
      "metadata": {},
      "source": [
        "# **DAY 5**"
      ]
    },
    {
      "cell_type": "markdown",
      "metadata": {},
      "source": [
        "<B>Generator Function</B>"
      ]
    },
    {
      "cell_type": "code",
      "execution_count": null,
      "metadata": {},
      "outputs": [],
      "source": [
        "range(10)"
      ]
    },
    {
      "cell_type": "code",
      "execution_count": null,
      "metadata": {},
      "outputs": [],
      "source": [
        "for i in range(10):\n",
        "    print(i)"
      ]
    },
    {
      "cell_type": "markdown",
      "metadata": {},
      "source": [
        "<B><U><Font color=red>Fibonacci series</Font></U></B> : In a series of number nextnumber is the sum of previous two numbers."
      ]
    },
    {
      "cell_type": "code",
      "execution_count": null,
      "metadata": {},
      "outputs": [],
      "source": [
        "def test_fib(n):\n",
        "    a,b= 0,1\n",
        "    for i in range(n):\n",
        "        yield a\n",
        "        a,b=b,a+b"
      ]
    },
    {
      "cell_type": "markdown",
      "metadata": {},
      "source": [
        "<U><B><Font Color=red>Yield function</Font></B></U> :"
      ]
    },
    {
      "cell_type": "code",
      "execution_count": null,
      "metadata": {},
      "outputs": [],
      "source": [
        "test_fib(10)"
      ]
    },
    {
      "cell_type": "code",
      "execution_count": null,
      "metadata": {},
      "outputs": [],
      "source": [
        "for i in test_fib(10):\n",
        "    print(i)"
      ]
    },
    {
      "cell_type": "code",
      "execution_count": null,
      "metadata": {},
      "outputs": [],
      "source": [
        "num = int(input('Enter the count of fabonacci no you want: '))\n",
        "\n",
        "a,b=0,1\n",
        "for i in range(num):\n",
        "    print(a)\n",
        "    c=a+b\n",
        "    a=b\n",
        "    b=c"
      ]
    },
    {
      "cell_type": "code",
      "execution_count": null,
      "metadata": {},
      "outputs": [],
      "source": [
        "def test_fib1():\n",
        "    a,b=0,1\n",
        "    while True:\n",
        "        a,b=b, a+b"
      ]
    },
    {
      "cell_type": "code",
      "execution_count": null,
      "metadata": {},
      "outputs": [],
      "source": [
        "fib=test_fib1()"
      ]
    },
    {
      "cell_type": "code",
      "execution_count": null,
      "metadata": {},
      "outputs": [],
      "source": [
        "for i in range(10):\n",
        "    print(next(fib))"
      ]
    },
    {
      "cell_type": "code",
      "execution_count": null,
      "metadata": {},
      "outputs": [],
      "source": [
        "s='sudh'"
      ]
    },
    {
      "cell_type": "code",
      "execution_count": null,
      "metadata": {},
      "outputs": [],
      "source": [
        "for i in s:\n",
        "    print(i)"
      ]
    },
    {
      "cell_type": "code",
      "execution_count": null,
      "metadata": {},
      "outputs": [],
      "source": [
        "s"
      ]
    },
    {
      "cell_type": "code",
      "execution_count": null,
      "metadata": {},
      "outputs": [],
      "source": [
        "next(s)"
      ]
    },
    {
      "cell_type": "code",
      "execution_count": null,
      "metadata": {},
      "outputs": [],
      "source": [
        "s1=iter(s)"
      ]
    },
    {
      "cell_type": "code",
      "execution_count": null,
      "metadata": {},
      "outputs": [],
      "source": [
        "type(s1)"
      ]
    },
    {
      "cell_type": "code",
      "execution_count": null,
      "metadata": {},
      "outputs": [],
      "source": [
        "next(s1)"
      ]
    },
    {
      "cell_type": "code",
      "execution_count": null,
      "metadata": {},
      "outputs": [],
      "source": [
        "next(s1)"
      ]
    },
    {
      "cell_type": "code",
      "execution_count": null,
      "metadata": {},
      "outputs": [],
      "source": [
        "next(s1)"
      ]
    },
    {
      "cell_type": "code",
      "execution_count": null,
      "metadata": {},
      "outputs": [],
      "source": [
        "next(s1)"
      ]
    },
    {
      "cell_type": "code",
      "execution_count": null,
      "metadata": {},
      "outputs": [],
      "source": [
        "next(s1)"
      ]
    },
    {
      "cell_type": "code",
      "execution_count": null,
      "metadata": {},
      "outputs": [],
      "source": [
        "next(45)"
      ]
    },
    {
      "cell_type": "code",
      "execution_count": null,
      "metadata": {},
      "outputs": [],
      "source": [
        "iter(45)"
      ]
    },
    {
      "cell_type": "code",
      "execution_count": null,
      "metadata": {},
      "outputs": [],
      "source": []
    }
  ],
  "metadata": {
    "colab": {
      "provenance": []
    },
    "kernelspec": {
      "display_name": "Python 3 (ipykernel)",
      "language": "python",
      "name": "python3"
    }
  },
  "nbformat": 4,
  "nbformat_minor": 0
}
